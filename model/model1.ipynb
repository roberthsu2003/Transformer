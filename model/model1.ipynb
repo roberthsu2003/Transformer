{
 "cells": [
  {
   "cell_type": "markdown",
   "metadata": {},
   "source": [
    "#### 簡體數據集網址\n",
    "https://github.com/SophonPlus/ChineseNlpCorpus\n",
    "\n",
    "#### 下載資料已經更改為繁體版\n",
    "\n"
   ]
  },
  {
   "cell_type": "markdown",
   "metadata": {},
   "source": [
    "### 內文分類實例\n"
   ]
  },
  {
   "cell_type": "markdown",
   "metadata": {},
   "source": [
    "#### import 相關的package"
   ]
  },
  {
   "cell_type": "code",
   "execution_count": 1,
   "metadata": {},
   "outputs": [],
   "source": [
    "from transformers import AutoTokenizer, AutoModelForSequenceClassification\n"
   ]
  },
  {
   "cell_type": "markdown",
   "metadata": {},
   "source": [
    "#### 載入csv數據"
   ]
  },
  {
   "cell_type": "code",
   "execution_count": 2,
   "metadata": {},
   "outputs": [
    {
     "data": {
      "text/html": [
       "<div>\n",
       "<style scoped>\n",
       "    .dataframe tbody tr th:only-of-type {\n",
       "        vertical-align: middle;\n",
       "    }\n",
       "\n",
       "    .dataframe tbody tr th {\n",
       "        vertical-align: top;\n",
       "    }\n",
       "\n",
       "    .dataframe thead th {\n",
       "        text-align: right;\n",
       "    }\n",
       "</style>\n",
       "<table border=\"1\" class=\"dataframe\">\n",
       "  <thead>\n",
       "    <tr style=\"text-align: right;\">\n",
       "      <th></th>\n",
       "      <th>label</th>\n",
       "      <th>review</th>\n",
       "    </tr>\n",
       "  </thead>\n",
       "  <tbody>\n",
       "    <tr>\n",
       "      <th>0</th>\n",
       "      <td>1</td>\n",
       "      <td>距離川沙公路較近,但是公交指示不對,如果是\"蔡陸線\"的話,會非常麻煩.建議用別的路線.房間較...</td>\n",
       "    </tr>\n",
       "    <tr>\n",
       "      <th>1</th>\n",
       "      <td>1</td>\n",
       "      <td>商務大床房，房間很大，床有2M寬，整體感覺經濟實惠不錯!</td>\n",
       "    </tr>\n",
       "    <tr>\n",
       "      <th>2</th>\n",
       "      <td>1</td>\n",
       "      <td>早餐太差，無論去多少人，那邊也不加食品的。酒店應該重視一下這個問題了。房間本身很好。</td>\n",
       "    </tr>\n",
       "    <tr>\n",
       "      <th>3</th>\n",
       "      <td>1</td>\n",
       "      <td>賓館在小街道上，不大好找，但還好北京熱心同胞很多~賓館設施跟介紹的差不多，房間很小，確實挺小...</td>\n",
       "    </tr>\n",
       "    <tr>\n",
       "      <th>4</th>\n",
       "      <td>1</td>\n",
       "      <td>CBD中心,周圍沒什麼店鋪,說5星有點勉強.不知道為什麼衛生間沒有電吹風</td>\n",
       "    </tr>\n",
       "  </tbody>\n",
       "</table>\n",
       "</div>"
      ],
      "text/plain": [
       "   label                                             review\n",
       "0      1  距離川沙公路較近,但是公交指示不對,如果是\"蔡陸線\"的話,會非常麻煩.建議用別的路線.房間較...\n",
       "1      1                       商務大床房，房間很大，床有2M寬，整體感覺經濟實惠不錯!\n",
       "2      1         早餐太差，無論去多少人，那邊也不加食品的。酒店應該重視一下這個問題了。房間本身很好。\n",
       "3      1  賓館在小街道上，不大好找，但還好北京熱心同胞很多~賓館設施跟介紹的差不多，房間很小，確實挺小...\n",
       "4      1               CBD中心,周圍沒什麼店鋪,說5星有點勉強.不知道為什麼衛生間沒有電吹風"
      ]
     },
     "execution_count": 2,
     "metadata": {},
     "output_type": "execute_result"
    }
   ],
   "source": [
    "import pandas as pd\n",
    "data = pd.read_csv(\"./ChnSentiCorp_htl_all.csv\")\n",
    "data.head()"
   ]
  },
  {
   "cell_type": "code",
   "execution_count": 3,
   "metadata": {},
   "outputs": [
    {
     "data": {
      "text/html": [
       "<div>\n",
       "<style scoped>\n",
       "    .dataframe tbody tr th:only-of-type {\n",
       "        vertical-align: middle;\n",
       "    }\n",
       "\n",
       "    .dataframe tbody tr th {\n",
       "        vertical-align: top;\n",
       "    }\n",
       "\n",
       "    .dataframe thead th {\n",
       "        text-align: right;\n",
       "    }\n",
       "</style>\n",
       "<table border=\"1\" class=\"dataframe\">\n",
       "  <thead>\n",
       "    <tr style=\"text-align: right;\">\n",
       "      <th></th>\n",
       "      <th>label</th>\n",
       "      <th>review</th>\n",
       "    </tr>\n",
       "  </thead>\n",
       "  <tbody>\n",
       "    <tr>\n",
       "      <th>0</th>\n",
       "      <td>1</td>\n",
       "      <td>距離川沙公路較近,但是公交指示不對,如果是\"蔡陸線\"的話,會非常麻煩.建議用別的路線.房間較...</td>\n",
       "    </tr>\n",
       "    <tr>\n",
       "      <th>1</th>\n",
       "      <td>1</td>\n",
       "      <td>商務大床房，房間很大，床有2M寬，整體感覺經濟實惠不錯!</td>\n",
       "    </tr>\n",
       "    <tr>\n",
       "      <th>2</th>\n",
       "      <td>1</td>\n",
       "      <td>早餐太差，無論去多少人，那邊也不加食品的。酒店應該重視一下這個問題了。房間本身很好。</td>\n",
       "    </tr>\n",
       "    <tr>\n",
       "      <th>3</th>\n",
       "      <td>1</td>\n",
       "      <td>賓館在小街道上，不大好找，但還好北京熱心同胞很多~賓館設施跟介紹的差不多，房間很小，確實挺小...</td>\n",
       "    </tr>\n",
       "    <tr>\n",
       "      <th>4</th>\n",
       "      <td>1</td>\n",
       "      <td>CBD中心,周圍沒什麼店鋪,說5星有點勉強.不知道為什麼衛生間沒有電吹風</td>\n",
       "    </tr>\n",
       "    <tr>\n",
       "      <th>...</th>\n",
       "      <td>...</td>\n",
       "      <td>...</td>\n",
       "    </tr>\n",
       "    <tr>\n",
       "      <th>7761</th>\n",
       "      <td>0</td>\n",
       "      <td>尼斯酒店的幾大特點：噪音大、環境差、配置低、服務效率低。如：1、隔壁歌廳的聲音鬧至午夜3點許...</td>\n",
       "    </tr>\n",
       "    <tr>\n",
       "      <th>7762</th>\n",
       "      <td>0</td>\n",
       "      <td>鹽城來了很多次，第一次住鹽阜賓館，我的確很失望整個牆壁黑咕隆咚的，好像被煙燻過一樣傢俱非常的...</td>\n",
       "    </tr>\n",
       "    <tr>\n",
       "      <th>7763</th>\n",
       "      <td>0</td>\n",
       "      <td>看照片覺得還挺不錯的，又是4星級的，但入住以後除了後悔沒有別的，房間挺大但空空的，早餐是有但...</td>\n",
       "    </tr>\n",
       "    <tr>\n",
       "      <th>7764</th>\n",
       "      <td>0</td>\n",
       "      <td>我們去鹽城的時候那裡的最低氣溫只有4度，晚上冷得要死，居然還不開空調，投訴到酒店客房部，得到...</td>\n",
       "    </tr>\n",
       "    <tr>\n",
       "      <th>7765</th>\n",
       "      <td>0</td>\n",
       "      <td>說實在的我很失望，之前看了其他人的點評後覺得還可以才去的，結果讓我們大跌眼鏡。我想這家酒店以...</td>\n",
       "    </tr>\n",
       "  </tbody>\n",
       "</table>\n",
       "<p>7765 rows × 2 columns</p>\n",
       "</div>"
      ],
      "text/plain": [
       "      label                                             review\n",
       "0         1  距離川沙公路較近,但是公交指示不對,如果是\"蔡陸線\"的話,會非常麻煩.建議用別的路線.房間較...\n",
       "1         1                       商務大床房，房間很大，床有2M寬，整體感覺經濟實惠不錯!\n",
       "2         1         早餐太差，無論去多少人，那邊也不加食品的。酒店應該重視一下這個問題了。房間本身很好。\n",
       "3         1  賓館在小街道上，不大好找，但還好北京熱心同胞很多~賓館設施跟介紹的差不多，房間很小，確實挺小...\n",
       "4         1               CBD中心,周圍沒什麼店鋪,說5星有點勉強.不知道為什麼衛生間沒有電吹風\n",
       "...     ...                                                ...\n",
       "7761      0  尼斯酒店的幾大特點：噪音大、環境差、配置低、服務效率低。如：1、隔壁歌廳的聲音鬧至午夜3點許...\n",
       "7762      0  鹽城來了很多次，第一次住鹽阜賓館，我的確很失望整個牆壁黑咕隆咚的，好像被煙燻過一樣傢俱非常的...\n",
       "7763      0  看照片覺得還挺不錯的，又是4星級的，但入住以後除了後悔沒有別的，房間挺大但空空的，早餐是有但...\n",
       "7764      0  我們去鹽城的時候那裡的最低氣溫只有4度，晚上冷得要死，居然還不開空調，投訴到酒店客房部，得到...\n",
       "7765      0  說實在的我很失望，之前看了其他人的點評後覺得還可以才去的，結果讓我們大跌眼鏡。我想這家酒店以...\n",
       "\n",
       "[7765 rows x 2 columns]"
      ]
     },
     "execution_count": 3,
     "metadata": {},
     "output_type": "execute_result"
    }
   ],
   "source": [
    "data = data.dropna()\n",
    "data"
   ]
  },
  {
   "cell_type": "markdown",
   "metadata": {},
   "source": [
    "#### 建立DataSet"
   ]
  },
  {
   "cell_type": "code",
   "execution_count": 4,
   "metadata": {},
   "outputs": [],
   "source": [
    "from torch.utils.data import Dataset\n",
    "\n",
    "class MyDataset(Dataset):\n",
    "    def __init__(self) -> None:\n",
    "        super().__init__()\n",
    "        self.data = pd.read_csv('./ChnSentiCorp_htl_all.csv')\n",
    "        self.data = self.data.dropna()\n",
    "\n",
    "    def __getitem__(self, index):\n",
    "        return self.data.iloc[index][\"review\"], int(self.data.iloc[index][\"label\"])\n",
    "    \n",
    "    def __len__(self):\n",
    "        return len(self.data)"
   ]
  },
  {
   "cell_type": "code",
   "execution_count": 5,
   "metadata": {},
   "outputs": [
    {
     "name": "stdout",
     "output_type": "stream",
     "text": [
      "('距離川沙公路較近,但是公交指示不對,如果是\"蔡陸線\"的話,會非常麻煩.建議用別的路線.房間較為簡單.', 1)\n",
      "('商務大床房，房間很大，床有2M寬，整體感覺經濟實惠不錯!', 1)\n",
      "('早餐太差，無論去多少人，那邊也不加食品的。酒店應該重視一下這個問題了。房間本身很好。', 1)\n",
      "('賓館在小街道上，不大好找，但還好北京熱心同胞很多~賓館設施跟介紹的差不多，房間很小，確實挺小，但加上低價位因素，還是無超所值的；環境不錯，就在小衚衕內，安靜整潔，暖氣好足-_-||。。。呵還有一大優勢就是從賓館出發，步行不到十分鐘就可以到梅蘭芳故居等等，京味小衚衕，北海距離好近呢。總之，不錯。推薦給節約消費的自助遊朋友~比較划算，附近特色小吃很多~', 1)\n",
      "('CBD中心,周圍沒什麼店鋪,說5星有點勉強.不知道為什麼衛生間沒有電吹風', 1)\n"
     ]
    }
   ],
   "source": [
    "dataset = MyDataset()\n",
    "for i in range(5):\n",
    "    print(dataset[i])"
   ]
  },
  {
   "cell_type": "markdown",
   "metadata": {},
   "source": [
    "#### 劃分數據集"
   ]
  },
  {
   "cell_type": "code",
   "execution_count": 6,
   "metadata": {},
   "outputs": [
    {
     "data": {
      "text/plain": [
       "(6989, 776)"
      ]
     },
     "execution_count": 6,
     "metadata": {},
     "output_type": "execute_result"
    }
   ],
   "source": [
    "from torch.utils.data import random_split\n",
    "trainset, validset = random_split(dataset, lengths=[0.9, 0.1])\n",
    "len(trainset), len(validset)"
   ]
  },
  {
   "cell_type": "code",
   "execution_count": 7,
   "metadata": {},
   "outputs": [
    {
     "name": "stdout",
     "output_type": "stream",
     "text": [
      "('週末和朋友騎單車到佘山一遊，入住該酒店。個人感覺該酒店從設施到服務均有4星水準（可能某些硬體裝置還達不到4星要求）。全部房間均在大幢的別墅內，每幢別墅共3層，每層房間均可！服務員及保安態度都很好（我們入住的為該酒店最便宜的房間290/天）！佘山附近的環山路騎單車游完很舒服（每天16：30以後可騎車上山不收門票），附近的佘山小鎮吃東西很便宜，還有一家很不錯的羊肉麵館（只做白切羊肉面/紅燒羊肉面兩種麵食，專業！）。就是旅遊區的商業氣氛過於濃烈，還好我們單車遊，可以不理會這些！', 1)\n",
      "('青島就一個香格里拉是協議的，沒房的情況就住這一個酒店，感覺還算可以了．不過還有需要改善的地方了', 1)\n",
      "('1.希望房間的改造加快進度,改造完房間不錯,沒有改造好的房間的確是三星的感覺.2.早餐很有特色,很不錯.', 1)\n",
      "('價格還可以，位置也不錯，就是房間裝修太舊了，也不乾淨，還有異味！', 0)\n",
      "('1.交通方便，靠近地鐵站；2.安靜、乾淨、舒適；3.價格偏貴（房價、餐飲、上網）。', 1)\n",
      "('可能是周總理住過房間比較樸素陳設與服務簡單不過早餐豐盛', 0)\n",
      "('酒店位置不錯，設施比較齊全；價格較高，停車不太方便而且收費高。', 1)\n",
      "('優越：地理位置、觀景陽臺、六層露天餐廳。不過六層露天餐廳等位時間比較長，電話預定的時候告訴我預定已經滿了，只好排號，為了在露天平臺上用餐，我等了40分鐘。房間和陽臺都比較小、電梯更小，前臺人員比較少，如果客人多的時候，需要等候。', 1)\n",
      "('只能說...恐怖...,特價房裡面居然有兩扇門，雖然大不太，但也讓你睡不好...', 0)\n",
      "('地理位置不錯,自己開車去還是很方便的,房間幽雅舒適,非常乾淨!價格也比較合理,比我住的3星的酒店還好!我介紹朋友去住了10幾天他們也非常滿意!下', 1)\n"
     ]
    }
   ],
   "source": [
    "for i in range(10):\n",
    "    print(trainset[i])"
   ]
  },
  {
   "cell_type": "markdown",
   "metadata": {},
   "source": [
    "#### 建立Dataloader\n"
   ]
  },
  {
   "cell_type": "code",
   "execution_count": 8,
   "metadata": {},
   "outputs": [],
   "source": [
    "from transformers import AutoTokenizer\n",
    "import torch\n",
    "tokenizer = AutoTokenizer.from_pretrained('rbt3')\n",
    "def collate_func(batch):\n",
    "    texts, labels = [], []\n",
    "    for item in batch:\n",
    "        texts.append(item[0])\n",
    "        labels.append(item[1])\n",
    "\n",
    "    inputs = tokenizer(texts, max_length=128, padding='max_length', truncation=True, return_tensors=\"pt\")\n",
    "    inputs[\"labels\"] = torch.tensor(labels)\n",
    "    return inputs\n",
    "    "
   ]
  },
  {
   "cell_type": "code",
   "execution_count": 9,
   "metadata": {},
   "outputs": [],
   "source": [
    "from torch.utils.data import DataLoader\n",
    "\n",
    "trainloader = DataLoader(trainset, batch_size=32, shuffle=True, collate_fn=collate_func)\n",
    "validloader = DataLoader(validset, batch_size=64, shuffle=False, collate_fn=collate_func)"
   ]
  },
  {
   "cell_type": "code",
   "execution_count": 10,
   "metadata": {},
   "outputs": [
    {
     "data": {
      "text/plain": [
       "{'input_ids': tensor([[ 101, 2769, 2137,  ...,    0,    0,    0],\n",
       "        [ 101, 6983, 2421,  ..., 3309, 4687,  102],\n",
       "        [ 101, 4472, 1862,  ..., 1453, 1168,  102],\n",
       "        ...,\n",
       "        [ 101, 6242, 4638,  ...,  782, 1519,  102],\n",
       "        [ 101, 6983, 2421,  ..., 8013, 6929,  102],\n",
       "        [ 101, 1057,  857,  ...,  872, 4638,  102]]), 'token_type_ids': tensor([[0, 0, 0,  ..., 0, 0, 0],\n",
       "        [0, 0, 0,  ..., 0, 0, 0],\n",
       "        [0, 0, 0,  ..., 0, 0, 0],\n",
       "        ...,\n",
       "        [0, 0, 0,  ..., 0, 0, 0],\n",
       "        [0, 0, 0,  ..., 0, 0, 0],\n",
       "        [0, 0, 0,  ..., 0, 0, 0]]), 'attention_mask': tensor([[1, 1, 1,  ..., 0, 0, 0],\n",
       "        [1, 1, 1,  ..., 1, 1, 1],\n",
       "        [1, 1, 1,  ..., 1, 1, 1],\n",
       "        ...,\n",
       "        [1, 1, 1,  ..., 1, 1, 1],\n",
       "        [1, 1, 1,  ..., 1, 1, 1],\n",
       "        [1, 1, 1,  ..., 1, 1, 1]]), 'labels': tensor([1, 1, 1, 1, 1, 1, 0, 1, 1, 0, 1, 0, 1, 0, 0, 1, 1, 0, 0, 0, 0, 0, 1, 1,\n",
       "        1, 0, 1, 1, 1, 1, 0, 0])}"
      ]
     },
     "execution_count": 10,
     "metadata": {},
     "output_type": "execute_result"
    }
   ],
   "source": [
    "next(enumerate(trainloader))[1]"
   ]
  },
  {
   "cell_type": "markdown",
   "metadata": {},
   "source": [
    "#### 建立模型和優化器"
   ]
  },
  {
   "cell_type": "code",
   "execution_count": 14,
   "metadata": {},
   "outputs": [
    {
     "name": "stderr",
     "output_type": "stream",
     "text": [
      "Some weights of BertForSequenceClassification were not initialized from the model checkpoint at rbt3 and are newly initialized: ['classifier.bias', 'classifier.weight']\n",
      "You should probably TRAIN this model on a down-stream task to be able to use it for predictions and inference.\n"
     ]
    }
   ],
   "source": [
    "from torch.optim import Adam\n",
    "model = AutoModelForSequenceClassification.from_pretrained('rbt3')\n",
    "\n",
    "if torch.cuda.is_available():\n",
    "    model = model.cuda()\n",
    "\n",
    "if torch.backends.mps.is_available():\n",
    "   model = model.to('mps') "
   ]
  },
  {
   "cell_type": "code",
   "execution_count": 15,
   "metadata": {},
   "outputs": [],
   "source": [
    "optimizer = Adam(model.parameters(), lr=2e-5)"
   ]
  },
  {
   "cell_type": "markdown",
   "metadata": {},
   "source": [
    "#### 訓練和驗証"
   ]
  },
  {
   "cell_type": "code",
   "execution_count": 19,
   "metadata": {},
   "outputs": [],
   "source": [
    "def evaluate():\n",
    "    model.eval()\n",
    "    acc_num = 0\n",
    "    with torch.inference_mode():\n",
    "        for batch in validloader:\n",
    "            if torch.cuda.is_available():\n",
    "                batch = {k: v.cuda() for k, v in batch.items()}\n",
    "            if torch.backends.mps.is_available():\n",
    "                batch = {k: v.to(\"mps\") for k, v in batch.items()}  # Move tensors to MPS\n",
    "            output = model(**batch)\n",
    "            pred = torch.argmax(output.logits, dim=-1)\n",
    "            acc_num += (pred.long() == batch['labels'].long()).float().sum()\n",
    "    return acc_num / len(validset)\n",
    "\n",
    "def train(epoch=5, log_step=100):\n",
    "    global_step = 0\n",
    "    for ep in range(epoch):\n",
    "        model.train()\n",
    "        for batch in trainloader:\n",
    "            if torch.cuda.is_available():\n",
    "                batch = {k:v.cuda() for k, v in batch.items()}\n",
    "            if torch.backends.mps.is_available():\n",
    "                batch = {k: v.to(\"mps\") for k, v in batch.items()}  # Move tensors to MPS\n",
    "            optimizer.zero_grad()\n",
    "            output = model(**batch)\n",
    "            output.loss.backward()\n",
    "            optimizer.step()\n",
    "            if global_step % log_step == 0:\n",
    "                print(f\"ep:{ep}, global_step:{global_step}, loss:{output.loss.item()}\")\n",
    "            global_step += 1\n",
    "        acc = evaluate()\n",
    "        print(f'ep:{ep}, acc:{acc}')"
   ]
  },
  {
   "cell_type": "markdown",
   "metadata": {},
   "source": [
    "#### 模型訓練"
   ]
  },
  {
   "cell_type": "code",
   "execution_count": 20,
   "metadata": {},
   "outputs": [
    {
     "name": "stdout",
     "output_type": "stream",
     "text": [
      "ep:0, global_step:0, loss:0.2581290602684021\n",
      "ep:0, global_step:100, loss:0.1236913651227951\n",
      "ep:0, global_step:200, loss:0.31135284900665283\n",
      "ep:0, acc:0.8969072103500366\n",
      "ep:1, global_step:300, loss:0.15193448960781097\n",
      "ep:1, global_step:400, loss:0.17751261591911316\n",
      "ep:1, acc:0.9188144207000732\n",
      "ep:2, global_step:500, loss:0.06193568557500839\n",
      "ep:2, global_step:600, loss:0.07022890448570251\n",
      "ep:2, acc:0.8994845151901245\n",
      "ep:3, global_step:700, loss:0.035853758454322815\n",
      "ep:3, global_step:800, loss:0.03236145153641701\n",
      "ep:3, acc:0.8930412530899048\n",
      "ep:4, global_step:900, loss:0.008239652030169964\n",
      "ep:4, global_step:1000, loss:0.024308832362294197\n",
      "ep:4, acc:0.8943299055099487\n"
     ]
    }
   ],
   "source": [
    "train()"
   ]
  },
  {
   "cell_type": "code",
   "execution_count": 21,
   "metadata": {},
   "outputs": [
    {
     "name": "stdout",
     "output_type": "stream",
     "text": [
      "輸入：我覺得這家酒店不錯,飯很好吃！\n",
      "模型预测结果:好評！\n"
     ]
    }
   ],
   "source": [
    "sen = \"我覺得這家酒店不錯,飯很好吃！\"\n",
    "id2_label = {0: \"差評！\", 1: \"好評！\"}\n",
    "model.eval()\n",
    "with torch.inference_mode():\n",
    "    inputs = tokenizer(sen, return_tensors=\"pt\")\n",
    "    #inputs = {k: v.cuda() for k, v in inputs.items()}\n",
    "    inputs = {k: v.to('mps') for k, v in inputs.items()} #\n",
    "    logits = model(**inputs).logits\n",
    "    pred = torch.argmax(logits, dim=-1)\n",
    "    print(f\"輸入：{sen}\\n模型预测结果:{id2_label.get(pred.item())}\")"
   ]
  },
  {
   "cell_type": "code",
   "execution_count": 22,
   "metadata": {},
   "outputs": [],
   "source": [
    "from transformers import pipeline\n",
    "\n",
    "model.config.id2label = id2_label\n",
    "pipe = pipeline(\"text-classification\", model=model, tokenizer=tokenizer, device=0)"
   ]
  },
  {
   "cell_type": "code",
   "execution_count": 23,
   "metadata": {},
   "outputs": [
    {
     "data": {
      "text/plain": [
       "[{'label': '好評！', 'score': 0.9980897307395935}]"
      ]
     },
     "execution_count": 23,
     "metadata": {},
     "output_type": "execute_result"
    }
   ],
   "source": [
    "pipe(sen)"
   ]
  }
 ],
 "metadata": {
  "kernelspec": {
   "display_name": "pytorch",
   "language": "python",
   "name": "python3"
  },
  "language_info": {
   "codemirror_mode": {
    "name": "ipython",
    "version": 3
   },
   "file_extension": ".py",
   "mimetype": "text/x-python",
   "name": "python",
   "nbconvert_exporter": "python",
   "pygments_lexer": "ipython3",
   "version": "3.10.13"
  }
 },
 "nbformat": 4,
 "nbformat_minor": 2
}
