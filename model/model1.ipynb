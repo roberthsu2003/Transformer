{
 "cells": [
  {
   "cell_type": "markdown",
   "metadata": {},
   "source": [
    "#### 簡體數據集網址\n",
    "https://github.com/SophonPlus/ChineseNlpCorpus\n",
    "\n",
    "#### 下載資料已經更改為繁體版\n",
    "\n"
   ]
  },
  {
   "cell_type": "markdown",
   "metadata": {},
   "source": [
    "### 內文分類實例\n"
   ]
  },
  {
   "cell_type": "markdown",
   "metadata": {},
   "source": [
    "#### import 相關的package"
   ]
  },
  {
   "cell_type": "code",
   "execution_count": 1,
   "metadata": {},
   "outputs": [],
   "source": [
    "from transformers import AutoTokenizer, AutoModelForSequenceClassification\n"
   ]
  },
  {
   "cell_type": "markdown",
   "metadata": {},
   "source": [
    "#### 載入csv數據"
   ]
  },
  {
   "cell_type": "code",
   "execution_count": 2,
   "metadata": {},
   "outputs": [
    {
     "data": {
      "text/html": [
       "<div>\n",
       "<style scoped>\n",
       "    .dataframe tbody tr th:only-of-type {\n",
       "        vertical-align: middle;\n",
       "    }\n",
       "\n",
       "    .dataframe tbody tr th {\n",
       "        vertical-align: top;\n",
       "    }\n",
       "\n",
       "    .dataframe thead th {\n",
       "        text-align: right;\n",
       "    }\n",
       "</style>\n",
       "<table border=\"1\" class=\"dataframe\">\n",
       "  <thead>\n",
       "    <tr style=\"text-align: right;\">\n",
       "      <th></th>\n",
       "      <th>label</th>\n",
       "      <th>review</th>\n",
       "    </tr>\n",
       "  </thead>\n",
       "  <tbody>\n",
       "    <tr>\n",
       "      <th>0</th>\n",
       "      <td>1</td>\n",
       "      <td>距離川沙公路較近,但是公交指示不對,如果是\"蔡陸線\"的話,會非常麻煩.建議用別的路線.房間較...</td>\n",
       "    </tr>\n",
       "    <tr>\n",
       "      <th>1</th>\n",
       "      <td>1</td>\n",
       "      <td>商務大床房，房間很大，床有2M寬，整體感覺經濟實惠不錯!</td>\n",
       "    </tr>\n",
       "    <tr>\n",
       "      <th>2</th>\n",
       "      <td>1</td>\n",
       "      <td>早餐太差，無論去多少人，那邊也不加食品的。酒店應該重視一下這個問題了。房間本身很好。</td>\n",
       "    </tr>\n",
       "    <tr>\n",
       "      <th>3</th>\n",
       "      <td>1</td>\n",
       "      <td>賓館在小街道上，不大好找，但還好北京熱心同胞很多~賓館設施跟介紹的差不多，房間很小，確實挺小...</td>\n",
       "    </tr>\n",
       "    <tr>\n",
       "      <th>4</th>\n",
       "      <td>1</td>\n",
       "      <td>CBD中心,周圍沒什麼店鋪,說5星有點勉強.不知道為什麼衛生間沒有電吹風</td>\n",
       "    </tr>\n",
       "  </tbody>\n",
       "</table>\n",
       "</div>"
      ],
      "text/plain": [
       "   label                                             review\n",
       "0      1  距離川沙公路較近,但是公交指示不對,如果是\"蔡陸線\"的話,會非常麻煩.建議用別的路線.房間較...\n",
       "1      1                       商務大床房，房間很大，床有2M寬，整體感覺經濟實惠不錯!\n",
       "2      1         早餐太差，無論去多少人，那邊也不加食品的。酒店應該重視一下這個問題了。房間本身很好。\n",
       "3      1  賓館在小街道上，不大好找，但還好北京熱心同胞很多~賓館設施跟介紹的差不多，房間很小，確實挺小...\n",
       "4      1               CBD中心,周圍沒什麼店鋪,說5星有點勉強.不知道為什麼衛生間沒有電吹風"
      ]
     },
     "execution_count": 2,
     "metadata": {},
     "output_type": "execute_result"
    }
   ],
   "source": [
    "import pandas as pd\n",
    "data = pd.read_csv(\"./ChnSentiCorp_htl_all.csv\")\n",
    "data.head()"
   ]
  },
  {
   "cell_type": "code",
   "execution_count": 3,
   "metadata": {},
   "outputs": [
    {
     "data": {
      "text/html": [
       "<div>\n",
       "<style scoped>\n",
       "    .dataframe tbody tr th:only-of-type {\n",
       "        vertical-align: middle;\n",
       "    }\n",
       "\n",
       "    .dataframe tbody tr th {\n",
       "        vertical-align: top;\n",
       "    }\n",
       "\n",
       "    .dataframe thead th {\n",
       "        text-align: right;\n",
       "    }\n",
       "</style>\n",
       "<table border=\"1\" class=\"dataframe\">\n",
       "  <thead>\n",
       "    <tr style=\"text-align: right;\">\n",
       "      <th></th>\n",
       "      <th>label</th>\n",
       "      <th>review</th>\n",
       "    </tr>\n",
       "  </thead>\n",
       "  <tbody>\n",
       "    <tr>\n",
       "      <th>0</th>\n",
       "      <td>1</td>\n",
       "      <td>距離川沙公路較近,但是公交指示不對,如果是\"蔡陸線\"的話,會非常麻煩.建議用別的路線.房間較...</td>\n",
       "    </tr>\n",
       "    <tr>\n",
       "      <th>1</th>\n",
       "      <td>1</td>\n",
       "      <td>商務大床房，房間很大，床有2M寬，整體感覺經濟實惠不錯!</td>\n",
       "    </tr>\n",
       "    <tr>\n",
       "      <th>2</th>\n",
       "      <td>1</td>\n",
       "      <td>早餐太差，無論去多少人，那邊也不加食品的。酒店應該重視一下這個問題了。房間本身很好。</td>\n",
       "    </tr>\n",
       "    <tr>\n",
       "      <th>3</th>\n",
       "      <td>1</td>\n",
       "      <td>賓館在小街道上，不大好找，但還好北京熱心同胞很多~賓館設施跟介紹的差不多，房間很小，確實挺小...</td>\n",
       "    </tr>\n",
       "    <tr>\n",
       "      <th>4</th>\n",
       "      <td>1</td>\n",
       "      <td>CBD中心,周圍沒什麼店鋪,說5星有點勉強.不知道為什麼衛生間沒有電吹風</td>\n",
       "    </tr>\n",
       "    <tr>\n",
       "      <th>...</th>\n",
       "      <td>...</td>\n",
       "      <td>...</td>\n",
       "    </tr>\n",
       "    <tr>\n",
       "      <th>7761</th>\n",
       "      <td>0</td>\n",
       "      <td>尼斯酒店的幾大特點：噪音大、環境差、配置低、服務效率低。如：1、隔壁歌廳的聲音鬧至午夜3點許...</td>\n",
       "    </tr>\n",
       "    <tr>\n",
       "      <th>7762</th>\n",
       "      <td>0</td>\n",
       "      <td>鹽城來了很多次，第一次住鹽阜賓館，我的確很失望整個牆壁黑咕隆咚的，好像被煙燻過一樣傢俱非常的...</td>\n",
       "    </tr>\n",
       "    <tr>\n",
       "      <th>7763</th>\n",
       "      <td>0</td>\n",
       "      <td>看照片覺得還挺不錯的，又是4星級的，但入住以後除了後悔沒有別的，房間挺大但空空的，早餐是有但...</td>\n",
       "    </tr>\n",
       "    <tr>\n",
       "      <th>7764</th>\n",
       "      <td>0</td>\n",
       "      <td>我們去鹽城的時候那裡的最低氣溫只有4度，晚上冷得要死，居然還不開空調，投訴到酒店客房部，得到...</td>\n",
       "    </tr>\n",
       "    <tr>\n",
       "      <th>7765</th>\n",
       "      <td>0</td>\n",
       "      <td>說實在的我很失望，之前看了其他人的點評後覺得還可以才去的，結果讓我們大跌眼鏡。我想這家酒店以...</td>\n",
       "    </tr>\n",
       "  </tbody>\n",
       "</table>\n",
       "<p>7765 rows × 2 columns</p>\n",
       "</div>"
      ],
      "text/plain": [
       "      label                                             review\n",
       "0         1  距離川沙公路較近,但是公交指示不對,如果是\"蔡陸線\"的話,會非常麻煩.建議用別的路線.房間較...\n",
       "1         1                       商務大床房，房間很大，床有2M寬，整體感覺經濟實惠不錯!\n",
       "2         1         早餐太差，無論去多少人，那邊也不加食品的。酒店應該重視一下這個問題了。房間本身很好。\n",
       "3         1  賓館在小街道上，不大好找，但還好北京熱心同胞很多~賓館設施跟介紹的差不多，房間很小，確實挺小...\n",
       "4         1               CBD中心,周圍沒什麼店鋪,說5星有點勉強.不知道為什麼衛生間沒有電吹風\n",
       "...     ...                                                ...\n",
       "7761      0  尼斯酒店的幾大特點：噪音大、環境差、配置低、服務效率低。如：1、隔壁歌廳的聲音鬧至午夜3點許...\n",
       "7762      0  鹽城來了很多次，第一次住鹽阜賓館，我的確很失望整個牆壁黑咕隆咚的，好像被煙燻過一樣傢俱非常的...\n",
       "7763      0  看照片覺得還挺不錯的，又是4星級的，但入住以後除了後悔沒有別的，房間挺大但空空的，早餐是有但...\n",
       "7764      0  我們去鹽城的時候那裡的最低氣溫只有4度，晚上冷得要死，居然還不開空調，投訴到酒店客房部，得到...\n",
       "7765      0  說實在的我很失望，之前看了其他人的點評後覺得還可以才去的，結果讓我們大跌眼鏡。我想這家酒店以...\n",
       "\n",
       "[7765 rows x 2 columns]"
      ]
     },
     "execution_count": 3,
     "metadata": {},
     "output_type": "execute_result"
    }
   ],
   "source": [
    "data = data.dropna()\n",
    "data"
   ]
  },
  {
   "cell_type": "markdown",
   "metadata": {},
   "source": [
    "#### 建立DataSet"
   ]
  },
  {
   "cell_type": "code",
   "execution_count": 4,
   "metadata": {},
   "outputs": [],
   "source": [
    "from torch.utils.data import Dataset\n",
    "\n",
    "class MyDataset(Dataset):\n",
    "    def __init__(self) -> None:\n",
    "        super().__init__()\n",
    "        self.data = pd.read_csv('./ChnSentiCorp_htl_all.csv')\n",
    "        self.data = self.data.dropna()\n",
    "\n",
    "    def __getitem__(self, index):\n",
    "        return self.data.iloc[index][\"review\"], int(self.data.iloc[index][\"label\"])\n",
    "    \n",
    "    def __len__(self):\n",
    "        return len(self.data)"
   ]
  },
  {
   "cell_type": "code",
   "execution_count": 5,
   "metadata": {},
   "outputs": [
    {
     "name": "stdout",
     "output_type": "stream",
     "text": [
      "('距離川沙公路較近,但是公交指示不對,如果是\"蔡陸線\"的話,會非常麻煩.建議用別的路線.房間較為簡單.', 1)\n",
      "('商務大床房，房間很大，床有2M寬，整體感覺經濟實惠不錯!', 1)\n",
      "('早餐太差，無論去多少人，那邊也不加食品的。酒店應該重視一下這個問題了。房間本身很好。', 1)\n",
      "('賓館在小街道上，不大好找，但還好北京熱心同胞很多~賓館設施跟介紹的差不多，房間很小，確實挺小，但加上低價位因素，還是無超所值的；環境不錯，就在小衚衕內，安靜整潔，暖氣好足-_-||。。。呵還有一大優勢就是從賓館出發，步行不到十分鐘就可以到梅蘭芳故居等等，京味小衚衕，北海距離好近呢。總之，不錯。推薦給節約消費的自助遊朋友~比較划算，附近特色小吃很多~', 1)\n",
      "('CBD中心,周圍沒什麼店鋪,說5星有點勉強.不知道為什麼衛生間沒有電吹風', 1)\n"
     ]
    }
   ],
   "source": [
    "dataset = MyDataset()\n",
    "for i in range(5):\n",
    "    print(dataset[i])"
   ]
  },
  {
   "cell_type": "markdown",
   "metadata": {},
   "source": [
    "#### 劃分數據集"
   ]
  },
  {
   "cell_type": "code",
   "execution_count": 6,
   "metadata": {},
   "outputs": [
    {
     "data": {
      "text/plain": [
       "(6989, 776)"
      ]
     },
     "execution_count": 6,
     "metadata": {},
     "output_type": "execute_result"
    }
   ],
   "source": [
    "from torch.utils.data import random_split\n",
    "trainset, validset = random_split(dataset, lengths=[0.9, 0.1])\n",
    "len(trainset), len(validset)"
   ]
  },
  {
   "cell_type": "code",
   "execution_count": 7,
   "metadata": {},
   "outputs": [
    {
     "name": "stdout",
     "output_type": "stream",
     "text": [
      "('1,交通離石龍路地鐵站步行10分鐘，算是比較方便。2、房價和屋內設施不太相符，屋內裝置太簡陋。3、商務電腦上網還要5元/小時。總值，感覺價效比不好。', 0)\n",
      "('我們於11月初入住該酒店450元/天房間。感覺還行。就是客房把一次性睡衣和不收費睡衣放在一起，外包裝一樣。一次性睡衣收費98元，只要開封即視為使用。問題在於2種睡衣放在一起，且沒有明顯標示。而且該酒店沒有窗戶，室內光線也不好，如果沒有把2個睡衣拿起來仔細分辨很容易就隨便拿一個算了，把一次性睡衣撕開包裝口。作為服務行業的酒店是不是該提供鮮明的收費標識說明，以免客戶發生錯誤？', 0)\n",
      "('看過以前的點評，預訂之前很猶豫。但因為是五一其他的選擇不多，還是訂了上客堂。住進去後覺得很不錯。服務員穿著藏服，態度很熱情。房間是四合院的形式，裡面很乾淨，非常安靜。好多年前住過綺望樓，覺得房間設施比那兒好（不過說不定綺望樓現在已重新裝修過--但房價已貴得驚人）。上客堂唯一不足的是早餐很一般。總的來說價效比不錯。', 1)\n",
      "('到達後前臺說刷卡需要直接消費，因此採用現金押金，最後用信用卡結賬（因為異地取現金要支付手續費用，所以，不願多用現金支付房費）剛進入房間，拉開桌子抽屜就發現兩個蟑螂，立刻電話通知客房中心，久等不來，連續三次電話，來了一個服務員，滿不在乎的拿了一個藥在噴。而且說他們天天噴藥。晚上，進入洗手間，發現蟑螂，行李箱下面也是蟑螂，就把服務員留下的藥拼命的噴。第二天早晨，起來穿鞋，還是蟑螂。清晨，電話到前臺要求換房，前臺解釋說，可能樓層太低，所以，蟑螂從餐廳跑到了客房，我要求由服務員直接送另外房間房卡，可是前臺說必須本人來。無奈下樓辦手續，卻告知必須先結賬，再入住。無奈，結賬，重新辦理入住。換至最高樓層，感覺稍好。下午，發現剛買的食物上又是蟑螂。頓時噁心不止。再次通知客房中心。還是藥噴。忍了兩天，退房走人。結果退房時，說第一天費用已經入賬，不能再退還第一天房費的現金押金。跟酒店前臺拍著桌子發了一通火，又同意刷卡結付所有費用，退還現金了。發誓再也不會到此酒店。', 0)\n",
      "('感覺非常差。地段沒有什麼娛樂吃飯的地方。房間灰暗。服務態度也是很差。最有趣的是健身房對住客收費。我去檢視一下，說了一句“沒聽說酒店健身房對住客收費的”。結果那個老頭說：“沒聽說現在聽說啦！”非常沒李矛而且粗魯。下次絕對不再住。補充點評2008年5月12日：還有，早上下雨，出門才發現酒店不幫人叫的士。只好自己冒雨走到後面的街轉角去叫的士。淋了一身雨。四星級？我看根本連招待所都不如。', 0)\n",
      "('位置還好，不算太難找，屋內比較乾淨，衛生間裝修不錯，木製的氛圍比較喜歡。沒窗戶，但是夏天住空調房也不是很需要窗戶，所以能接受。', 1)\n",
      "('入住了三天，真的不錯，早餐很豐富，中西都有，特別是很受我們大城市人的喜愛．六樓的中餐就差了點，海鮮不多，且價格還是高了點，但觀景桌只有４個少了點，晚去就坐不到了．茶餐廳的小吃還是可以，人氣也比較旺．客房１樓是完全沒有陽臺的，二樓以上每層也只有８個陽臺，訂房時還是最好問清楚．客房的顏色很浪漫．賓館的地理位置是沒話好說了，確實不錯，靠海每間客房都能看到對岸的鼓浪嶼，渡口就在對面，中山路就在邊上．本人恰好有天生日，賓館還是很人心化，送了個小小的生日蛋糕，身在他鄉感覺還是有點驚喜！謝謝賓館的總經理：吳佩英，送來代表賓館的賀卡和祝福．總得來說服務還是不錯的．補充點評2008年8月10日：我會推薦給我的朋友們的．', 1)\n",
      "('一進房間就有一股黴味，後來發現馬桶水箱出不了水，兩次讓服務員來修理，還是不太放心，而且對服務員的態度也感到不滿，於是在前臺要求更換另一樓層的房間，可是換過了的房間，可能很長時間無人住過，下水渠散出很濃的臭味，真讓人不適，還好，這層的服務員還算很認真地用水沖洗了浴室，到了晚上我們洗澡後，又發現有水從床前的木地板夾逢滲透出來，相對這樣收費卻又如此的質量，真讓我無話可說了。', 0)\n",
      "('我在預定時要求房間一定要安靜,但還是給了我一間靠馬路的房間,並對我的要求結束通話電話,我對這個四星的號稱沒有冬天的酒店很失望.同樣是在攜程訂的武漢酒店,我只是要求樓層高一點,酒店沒辦法達到我的要求,攜程主動聯絡我,和我解釋,我心情很愉快的接受了.所以環境不是主要,服務才是王道啊!', 0)\n",
      "('地理位置非常優越,機場大巴\\\\地鐵和公車幾乎就在門口,但靠街的房間晚上可能會有點吵.', 1)\n"
     ]
    }
   ],
   "source": [
    "for i in range(10):\n",
    "    print(trainset[i])"
   ]
  },
  {
   "cell_type": "markdown",
   "metadata": {},
   "source": [
    "#### 建立Dataloader\n"
   ]
  },
  {
   "cell_type": "code",
   "execution_count": 8,
   "metadata": {},
   "outputs": [],
   "source": [
    "from transformers import AutoTokenizer\n",
    "import torch\n",
    "tokenizer = AutoTokenizer.from_pretrained('rbt3')\n",
    "def collate_func(batch):\n",
    "    texts, labels = [], []\n",
    "    for item in batch:\n",
    "        texts.append(item[0])\n",
    "        labels.append(item[1])\n",
    "\n",
    "    inputs = tokenizer(texts, max_length=128, padding='max_length', truncation=True, return_tensors=\"pt\")\n",
    "    inputs[\"labels\"] = torch.tensor(labels)\n",
    "    return inputs\n",
    "    "
   ]
  },
  {
   "cell_type": "code",
   "execution_count": 9,
   "metadata": {},
   "outputs": [],
   "source": [
    "from torch.utils.data import DataLoader\n",
    "\n",
    "trainloader = DataLoader(trainset, batch_size=32, shuffle=True, collate_fn=collate_func)\n",
    "validloader = DataLoader(validset, batch_size=64, shuffle=False, collate_fn=collate_func)"
   ]
  },
  {
   "cell_type": "code",
   "execution_count": 10,
   "metadata": {},
   "outputs": [
    {
     "data": {
      "text/plain": [
       "{'input_ids': tensor([[ 101, 6857,  943,  ..., 6121, 3330,  102],\n",
       "        [ 101, 4448, 1395,  ...,    0,    0,    0],\n",
       "        [ 101, 6983, 2421,  ...,    0,    0,    0],\n",
       "        ...,\n",
       "        [ 101,  671,  943,  ..., 1139, 1343,  102],\n",
       "        [ 101, 5244, 7768,  ...,    0,    0,    0],\n",
       "        [ 101, 3336, 3299,  ...,    0,    0,    0]]), 'token_type_ids': tensor([[0, 0, 0,  ..., 0, 0, 0],\n",
       "        [0, 0, 0,  ..., 0, 0, 0],\n",
       "        [0, 0, 0,  ..., 0, 0, 0],\n",
       "        ...,\n",
       "        [0, 0, 0,  ..., 0, 0, 0],\n",
       "        [0, 0, 0,  ..., 0, 0, 0],\n",
       "        [0, 0, 0,  ..., 0, 0, 0]]), 'attention_mask': tensor([[1, 1, 1,  ..., 1, 1, 1],\n",
       "        [1, 1, 1,  ..., 0, 0, 0],\n",
       "        [1, 1, 1,  ..., 0, 0, 0],\n",
       "        ...,\n",
       "        [1, 1, 1,  ..., 1, 1, 1],\n",
       "        [1, 1, 1,  ..., 0, 0, 0],\n",
       "        [1, 1, 1,  ..., 0, 0, 0]]), 'labels': tensor([0, 1, 1, 1, 0, 0, 1, 1, 0, 0, 1, 0, 1, 1, 0, 1, 1, 1, 1, 1, 0, 0, 1, 1,\n",
       "        0, 1, 1, 0, 1, 1, 0, 1])}"
      ]
     },
     "execution_count": 10,
     "metadata": {},
     "output_type": "execute_result"
    }
   ],
   "source": [
    "next(enumerate(trainloader))[1]"
   ]
  },
  {
   "cell_type": "markdown",
   "metadata": {},
   "source": [
    "#### 建立模型和優化器"
   ]
  },
  {
   "cell_type": "code",
   "execution_count": 11,
   "metadata": {},
   "outputs": [
    {
     "name": "stderr",
     "output_type": "stream",
     "text": [
      "Some weights of BertForSequenceClassification were not initialized from the model checkpoint at rbt3 and are newly initialized: ['classifier.bias', 'classifier.weight']\n",
      "You should probably TRAIN this model on a down-stream task to be able to use it for predictions and inference.\n"
     ]
    }
   ],
   "source": [
    "from torch.optim import Adam\n",
    "model = AutoModelForSequenceClassification.from_pretrained('rbt3')\n"
   ]
  },
  {
   "cell_type": "code",
   "execution_count": 12,
   "metadata": {},
   "outputs": [],
   "source": [
    "optimizer = Adam(model.parameters(), lr=2e-5)"
   ]
  },
  {
   "cell_type": "markdown",
   "metadata": {},
   "source": [
    "#### 訓練和驗証"
   ]
  },
  {
   "cell_type": "code",
   "execution_count": 13,
   "metadata": {},
   "outputs": [],
   "source": [
    "def evaluate():\n",
    "    model.eval()\n",
    "    acc_num = 0\n",
    "    with torch.inference_mode():\n",
    "        for batch in validloader:\n",
    "            if torch.cuda.is_available():\n",
    "                batch = {k: v.cuda() for k, v in batch.items()}\n",
    "            output = model(**batch)\n",
    "            pred = torch.argmax(output.logits, dim=-1)\n",
    "            acc_num += (pred.long() == batch['labels'].long()).float().sum()\n",
    "    return acc_num / len(validset)\n",
    "\n",
    "def train(epoch=1, log_step=100):\n",
    "    global_step = 0\n",
    "    for ep in range(epoch):\n",
    "        model.train()\n",
    "        for batch in trainloader:\n",
    "            if torch.cuda.is_available():\n",
    "                batch = {k:v.cuda() for k, v in batch.items()}\n",
    "            optimizer.zero_grad()\n",
    "            output = model(**batch)\n",
    "            output.loss.backward()\n",
    "            optimizer.step()\n",
    "            if global_step % log_step == 0:\n",
    "                print(f\"ep:{ep}, global_step:{global_step}, loss:{output.loss.item()}\")\n",
    "            global_step += 1\n",
    "        acc = evaluate()\n",
    "        print(f'ep:{ep}, acc:{acc}')"
   ]
  },
  {
   "cell_type": "markdown",
   "metadata": {},
   "source": [
    "#### 模型訓練"
   ]
  },
  {
   "cell_type": "code",
   "execution_count": 14,
   "metadata": {},
   "outputs": [
    {
     "name": "stdout",
     "output_type": "stream",
     "text": [
      "ep:0, global_step:0, loss:0.6866779923439026\n",
      "ep:0, global_step:100, loss:0.37636223435401917\n",
      "ep:0, global_step:200, loss:0.18301239609718323\n",
      "ep:0, acc:0.8827319741249084\n"
     ]
    }
   ],
   "source": [
    "train()"
   ]
  }
 ],
 "metadata": {
  "kernelspec": {
   "display_name": "huggingFace",
   "language": "python",
   "name": "python3"
  },
  "language_info": {
   "codemirror_mode": {
    "name": "ipython",
    "version": 3
   },
   "file_extension": ".py",
   "mimetype": "text/x-python",
   "name": "python",
   "nbconvert_exporter": "python",
   "pygments_lexer": "ipython3",
   "version": "3.9.20"
  }
 },
 "nbformat": 4,
 "nbformat_minor": 2
}
