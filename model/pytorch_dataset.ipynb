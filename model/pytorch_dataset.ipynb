{
 "cells": [
  {
   "cell_type": "code",
   "execution_count": 3,
   "metadata": {},
   "outputs": [],
   "source": [
    "import torch\n",
    "from torch.utils.data import Dataset"
   ]
  },
  {
   "cell_type": "code",
   "execution_count": 4,
   "metadata": {},
   "outputs": [],
   "source": [
    "class CustomeDataset(Dataset):\n",
    "    def __init__(self,data, labels):\n",
    "        self.data = data\n",
    "        self.labels = labels\n",
    "\n",
    "    def __len__(self):\n",
    "        return len(self.data)\n",
    "    \n",
    "    def __getitem__(self,index):\n",
    "        x = torch.tensor(self.data[index], dtype=torch.float32)\n",
    "        y = torch.tensor(self.labels[index], dtype=torch.long)\n",
    "        return x, y"
   ]
  },
  {
   "cell_type": "code",
   "execution_count": 5,
   "metadata": {},
   "outputs": [
    {
     "name": "stdout",
     "output_type": "stream",
     "text": [
      "Dataset大小:4\n",
      "索引0:x=tensor([1., 2.]), y=0\n",
      "索引1:x=tensor([3., 4.]), y=1\n",
      "索引2:x=tensor([5., 6.]), y=0\n",
      "索引3:x=tensor([7., 8.]), y=1\n"
     ]
    }
   ],
   "source": [
    "data = [[1, 2], [3, 4], [5, 6], [7, 8]]\n",
    "labels = [0, 1, 0, 1]\n",
    "\n",
    "dataset = CustomeDataset(data, labels)\n",
    "print(f\"Dataset大小:{len(dataset)}\")\n",
    "\n",
    "for i in range(len(dataset)):\n",
    "    x, y = dataset[i]\n",
    "    print(f\"索引{i}:x={x}, y={y}\")"
   ]
  },
  {
   "cell_type": "code",
   "execution_count": 7,
   "metadata": {},
   "outputs": [
    {
     "name": "stdout",
     "output_type": "stream",
     "text": [
      "Batch: 0\n",
      "x_batch:tensor([[1., 2.],\n",
      "        [3., 4.]])\n",
      "y_batch:tensor([0, 1])\n",
      "Batch: 1\n",
      "x_batch:tensor([[7., 8.],\n",
      "        [5., 6.]])\n",
      "y_batch:tensor([1, 0])\n"
     ]
    }
   ],
   "source": [
    "from torch.utils.data import DataLoader\n",
    "\n",
    "dataloader = DataLoader(dataset, batch_size=2, shuffle=True)\n",
    "for batch_idx,(x_batch, y_batch) in enumerate(dataloader):\n",
    "    print(f\"Batch: {batch_idx}\")\n",
    "    print(f\"x_batch:{x_batch}\")\n",
    "    print(f\"y_batch:{y_batch}\")"
   ]
  }
 ],
 "metadata": {
  "kernelspec": {
   "display_name": "base",
   "language": "python",
   "name": "python3"
  },
  "language_info": {
   "codemirror_mode": {
    "name": "ipython",
    "version": 3
   },
   "file_extension": ".py",
   "mimetype": "text/x-python",
   "name": "python",
   "nbconvert_exporter": "python",
   "pygments_lexer": "ipython3",
   "version": "3.12.8"
  }
 },
 "nbformat": 4,
 "nbformat_minor": 2
}
