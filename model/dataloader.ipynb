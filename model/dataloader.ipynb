{
 "cells": [
  {
   "cell_type": "code",
   "execution_count": 9,
   "metadata": {},
   "outputs": [
    {
     "name": "stdout",
     "output_type": "stream",
     "text": [
      "x_batch:[6.0, 3.0, 7.0], y_batch:[12.0, 6.0, 14.0]\n",
      "x_batch:[0.0, 9.0, 2.0], y_batch:[0.0, 18.0, 4.0]\n",
      "x_batch:[1.0, 4.0, 8.0], y_batch:[2.0, 8.0, 16.0]\n",
      "x_batch:5.0, y_batch:10.0\n"
     ]
    }
   ],
   "source": [
    "import torch\n",
    "from torch.utils.data import DataLoader,TensorDataset\n",
    "\n",
    "x = torch.arange(10).float().unsqueeze(1)\n",
    "y = x * 2\n",
    "dataset = TensorDataset(x, y)\n",
    "\n",
    "dataloader = DataLoader(dataset, batch_size=3, shuffle=True)\n",
    "\n",
    "for batch in dataloader:\n",
    "    x_batch, y_batch = batch\n",
    "    print(f\"x_batch:{x_batch.squeeze().tolist()}, y_batch:{y_batch.squeeze().tolist()}\")"
   ]
  }
 ],
 "metadata": {
  "kernelspec": {
   "display_name": "base",
   "language": "python",
   "name": "python3"
  },
  "language_info": {
   "codemirror_mode": {
    "name": "ipython",
    "version": 3
   },
   "file_extension": ".py",
   "mimetype": "text/x-python",
   "name": "python",
   "nbconvert_exporter": "python",
   "pygments_lexer": "ipython3",
   "version": "3.12.8"
  }
 },
 "nbformat": 4,
 "nbformat_minor": 2
}
