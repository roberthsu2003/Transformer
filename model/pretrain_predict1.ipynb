{
 "cells": [
  {
   "cell_type": "code",
   "execution_count": 8,
   "metadata": {},
   "outputs": [
    {
     "name": "stderr",
     "output_type": "stream",
     "text": [
      "Device set to use cpu\n"
     ]
    },
    {
     "name": "stdout",
     "output_type": "stream",
     "text": [
      "好評,0.9752063751220703\n"
     ]
    }
   ],
   "source": [
    "# Use a pipeline as a high-level helper\n",
    "from transformers import pipeline\n",
    "id2str = {'LABEL_0':\"差評\",'LABEL_1':\"好評\"}\n",
    "pipe = pipeline(\"text-classification\", model=\"roberthsu2003/save_model\")\n",
    "sen=\"服務人員很熱心\"\n",
    "output = pipe(sen)\n",
    "key = output[0]['label']\n",
    "score_str = id2str.get(key)\n",
    "score = output[0]['score']\n",
    "print(f\"{score_str},{score}\")"
   ]
  }
 ],
 "metadata": {
  "kernelspec": {
   "display_name": "base",
   "language": "python",
   "name": "python3"
  },
  "language_info": {
   "codemirror_mode": {
    "name": "ipython",
    "version": 3
   },
   "file_extension": ".py",
   "mimetype": "text/x-python",
   "name": "python",
   "nbconvert_exporter": "python",
   "pygments_lexer": "ipython3",
   "version": "3.12.8"
  }
 },
 "nbformat": 4,
 "nbformat_minor": 2
}
