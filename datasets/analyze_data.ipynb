{
 "cells": [
  {
   "cell_type": "code",
   "execution_count": null,
   "metadata": {},
   "outputs": [],
   "source": [
    "import pandas as pd\n",
    "\n",
    "data = pd.read_csv('ChnSentiCorp_htl_all.csv')\n",
    "data = data.dropna()\n",
    "data.info()"
   ]
  },
  {
   "cell_type": "code",
   "execution_count": 6,
   "metadata": {},
   "outputs": [
    {
     "data": {
      "text/html": [
       "<div>\n",
       "<style scoped>\n",
       "    .dataframe tbody tr th:only-of-type {\n",
       "        vertical-align: middle;\n",
       "    }\n",
       "\n",
       "    .dataframe tbody tr th {\n",
       "        vertical-align: top;\n",
       "    }\n",
       "\n",
       "    .dataframe thead th {\n",
       "        text-align: right;\n",
       "    }\n",
       "</style>\n",
       "<table border=\"1\" class=\"dataframe\">\n",
       "  <thead>\n",
       "    <tr style=\"text-align: right;\">\n",
       "      <th></th>\n",
       "      <th>label</th>\n",
       "      <th>review</th>\n",
       "      <th>label_name</th>\n",
       "    </tr>\n",
       "  </thead>\n",
       "  <tbody>\n",
       "    <tr>\n",
       "      <th>0</th>\n",
       "      <td>1</td>\n",
       "      <td>距離川沙公路較近,但是公交指示不對,如果是\"蔡陸線\"的話,會非常麻煩.建議用別的路線.房間較...</td>\n",
       "      <td>good</td>\n",
       "    </tr>\n",
       "    <tr>\n",
       "      <th>1</th>\n",
       "      <td>1</td>\n",
       "      <td>商務大床房，房間很大，床有2M寬，整體感覺經濟實惠不錯!</td>\n",
       "      <td>good</td>\n",
       "    </tr>\n",
       "    <tr>\n",
       "      <th>2</th>\n",
       "      <td>1</td>\n",
       "      <td>早餐太差，無論去多少人，那邊也不加食品的。酒店應該重視一下這個問題了。房間本身很好。</td>\n",
       "      <td>good</td>\n",
       "    </tr>\n",
       "    <tr>\n",
       "      <th>3</th>\n",
       "      <td>1</td>\n",
       "      <td>賓館在小街道上，不大好找，但還好北京熱心同胞很多~賓館設施跟介紹的差不多，房間很小，確實挺小...</td>\n",
       "      <td>good</td>\n",
       "    </tr>\n",
       "    <tr>\n",
       "      <th>4</th>\n",
       "      <td>1</td>\n",
       "      <td>CBD中心,周圍沒什麼店鋪,說5星有點勉強.不知道為什麼衛生間沒有電吹風</td>\n",
       "      <td>good</td>\n",
       "    </tr>\n",
       "  </tbody>\n",
       "</table>\n",
       "</div>"
      ],
      "text/plain": [
       "   label                                             review label_name\n",
       "0      1  距離川沙公路較近,但是公交指示不對,如果是\"蔡陸線\"的話,會非常麻煩.建議用別的路線.房間較...       good\n",
       "1      1                       商務大床房，房間很大，床有2M寬，整體感覺經濟實惠不錯!       good\n",
       "2      1         早餐太差，無論去多少人，那邊也不加食品的。酒店應該重視一下這個問題了。房間本身很好。       good\n",
       "3      1  賓館在小街道上，不大好找，但還好北京熱心同胞很多~賓館設施跟介紹的差不多，房間很小，確實挺小...       good\n",
       "4      1               CBD中心,周圍沒什麼店鋪,說5星有點勉強.不知道為什麼衛生間沒有電吹風       good"
      ]
     },
     "execution_count": 6,
     "metadata": {},
     "output_type": "execute_result"
    }
   ],
   "source": [
    "from pandas import Series\n",
    "def apply_func(value:int)->str:\n",
    "    if value == 0:\n",
    "        return 'bad'\n",
    "    else:\n",
    "        return 'good'\n",
    "    \n",
    "label_name:Series = data['label'].apply(apply_func)\n",
    "data['label_name'] = label_name\n",
    "data.head()"
   ]
  },
  {
   "cell_type": "code",
   "execution_count": 8,
   "metadata": {},
   "outputs": [
    {
     "data": {
      "image/png": "[encoded data removed]",
      "text/plain": [
       "<Figure size 640x480 with 1 Axes>"
      ]
     },
     "metadata": {},
     "output_type": "display_data"
    }
   ],
   "source": [
    "import matplotlib.pyplot as plt\n",
    "data['label_name'].value_counts(ascending=True).plot.bar()\n",
    "plt.title('Frequence')\n",
    "plt.show()"
   ]
  },
  {
   "cell_type": "code",
   "execution_count": 13,
   "metadata": {},
   "outputs": [
    {
     "data": {
      "text/html": [
       "<div>\n",
       "<style scoped>\n",
       "    .dataframe tbody tr th:only-of-type {\n",
       "        vertical-align: middle;\n",
       "    }\n",
       "\n",
       "    .dataframe tbody tr th {\n",
       "        vertical-align: top;\n",
       "    }\n",
       "\n",
       "    .dataframe thead th {\n",
       "        text-align: right;\n",
       "    }\n",
       "</style>\n",
       "<table border=\"1\" class=\"dataframe\">\n",
       "  <thead>\n",
       "    <tr style=\"text-align: right;\">\n",
       "      <th></th>\n",
       "      <th>label</th>\n",
       "      <th>review</th>\n",
       "      <th>label_name</th>\n",
       "      <th>words_per_tweet</th>\n",
       "    </tr>\n",
       "  </thead>\n",
       "  <tbody>\n",
       "    <tr>\n",
       "      <th>0</th>\n",
       "      <td>1</td>\n",
       "      <td>距離川沙公路較近,但是公交指示不對,如果是\"蔡陸線\"的話,會非常麻煩.建議用別的路線.房間較...</td>\n",
       "      <td>good</td>\n",
       "      <td>50</td>\n",
       "    </tr>\n",
       "    <tr>\n",
       "      <th>1</th>\n",
       "      <td>1</td>\n",
       "      <td>商務大床房，房間很大，床有2M寬，整體感覺經濟實惠不錯!</td>\n",
       "      <td>good</td>\n",
       "      <td>28</td>\n",
       "    </tr>\n",
       "    <tr>\n",
       "      <th>2</th>\n",
       "      <td>1</td>\n",
       "      <td>早餐太差，無論去多少人，那邊也不加食品的。酒店應該重視一下這個問題了。房間本身很好。</td>\n",
       "      <td>good</td>\n",
       "      <td>42</td>\n",
       "    </tr>\n",
       "    <tr>\n",
       "      <th>3</th>\n",
       "      <td>1</td>\n",
       "      <td>賓館在小街道上，不大好找，但還好北京熱心同胞很多~賓館設施跟介紹的差不多，房間很小，確實挺小...</td>\n",
       "      <td>good</td>\n",
       "      <td>175</td>\n",
       "    </tr>\n",
       "    <tr>\n",
       "      <th>4</th>\n",
       "      <td>1</td>\n",
       "      <td>CBD中心,周圍沒什麼店鋪,說5星有點勉強.不知道為什麼衛生間沒有電吹風</td>\n",
       "      <td>good</td>\n",
       "      <td>36</td>\n",
       "    </tr>\n",
       "    <tr>\n",
       "      <th>...</th>\n",
       "      <td>...</td>\n",
       "      <td>...</td>\n",
       "      <td>...</td>\n",
       "      <td>...</td>\n",
       "    </tr>\n",
       "    <tr>\n",
       "      <th>7761</th>\n",
       "      <td>0</td>\n",
       "      <td>尼斯酒店的幾大特點：噪音大、環境差、配置低、服務效率低。如：1、隔壁歌廳的聲音鬧至午夜3點許...</td>\n",
       "      <td>bad</td>\n",
       "      <td>193</td>\n",
       "    </tr>\n",
       "    <tr>\n",
       "      <th>7762</th>\n",
       "      <td>0</td>\n",
       "      <td>鹽城來了很多次，第一次住鹽阜賓館，我的確很失望整個牆壁黑咕隆咚的，好像被煙燻過一樣傢俱非常的...</td>\n",
       "      <td>bad</td>\n",
       "      <td>131</td>\n",
       "    </tr>\n",
       "    <tr>\n",
       "      <th>7763</th>\n",
       "      <td>0</td>\n",
       "      <td>看照片覺得還挺不錯的，又是4星級的，但入住以後除了後悔沒有別的，房間挺大但空空的，早餐是有但...</td>\n",
       "      <td>bad</td>\n",
       "      <td>77</td>\n",
       "    </tr>\n",
       "    <tr>\n",
       "      <th>7764</th>\n",
       "      <td>0</td>\n",
       "      <td>我們去鹽城的時候那裡的最低氣溫只有4度，晚上冷得要死，居然還不開空調，投訴到酒店客房部，得到...</td>\n",
       "      <td>bad</td>\n",
       "      <td>86</td>\n",
       "    </tr>\n",
       "    <tr>\n",
       "      <th>7765</th>\n",
       "      <td>0</td>\n",
       "      <td>說實在的我很失望，之前看了其他人的點評後覺得還可以才去的，結果讓我們大跌眼鏡。我想這家酒店以...</td>\n",
       "      <td>bad</td>\n",
       "      <td>59</td>\n",
       "    </tr>\n",
       "  </tbody>\n",
       "</table>\n",
       "<p>7765 rows × 4 columns</p>\n",
       "</div>"
      ],
      "text/plain": [
       "      label                                             review label_name  \\\n",
       "0         1  距離川沙公路較近,但是公交指示不對,如果是\"蔡陸線\"的話,會非常麻煩.建議用別的路線.房間較...       good   \n",
       "1         1                       商務大床房，房間很大，床有2M寬，整體感覺經濟實惠不錯!       good   \n",
       "2         1         早餐太差，無論去多少人，那邊也不加食品的。酒店應該重視一下這個問題了。房間本身很好。       good   \n",
       "3         1  賓館在小街道上，不大好找，但還好北京熱心同胞很多~賓館設施跟介紹的差不多，房間很小，確實挺小...       good   \n",
       "4         1               CBD中心,周圍沒什麼店鋪,說5星有點勉強.不知道為什麼衛生間沒有電吹風       good   \n",
       "...     ...                                                ...        ...   \n",
       "7761      0  尼斯酒店的幾大特點：噪音大、環境差、配置低、服務效率低。如：1、隔壁歌廳的聲音鬧至午夜3點許...        bad   \n",
       "7762      0  鹽城來了很多次，第一次住鹽阜賓館，我的確很失望整個牆壁黑咕隆咚的，好像被煙燻過一樣傢俱非常的...        bad   \n",
       "7763      0  看照片覺得還挺不錯的，又是4星級的，但入住以後除了後悔沒有別的，房間挺大但空空的，早餐是有但...        bad   \n",
       "7764      0  我們去鹽城的時候那裡的最低氣溫只有4度，晚上冷得要死，居然還不開空調，投訴到酒店客房部，得到...        bad   \n",
       "7765      0  說實在的我很失望，之前看了其他人的點評後覺得還可以才去的，結果讓我們大跌眼鏡。我想這家酒店以...        bad   \n",
       "\n",
       "      words_per_tweet  \n",
       "0                  50  \n",
       "1                  28  \n",
       "2                  42  \n",
       "3                 175  \n",
       "4                  36  \n",
       "...               ...  \n",
       "7761              193  \n",
       "7762              131  \n",
       "7763               77  \n",
       "7764               86  \n",
       "7765               59  \n",
       "\n",
       "[7765 rows x 4 columns]"
      ]
     },
     "execution_count": 13,
     "metadata": {},
     "output_type": "execute_result"
    }
   ],
   "source": [
    "data['words_per_tweet']= data['review'].str.len()\n",
    "data"
   ]
  },
  {
   "cell_type": "code",
   "execution_count": 20,
   "metadata": {},
   "outputs": [
    {
     "data": {
      "image/png": "[encoded data removed]",
      "text/plain": [
       "<Figure size 640x480 with 1 Axes>"
      ]
     },
     "metadata": {},
     "output_type": "display_data"
    }
   ],
   "source": [
    "import matplotlib.pyplot as plt\n",
    "\n",
    "data.boxplot(column='words_per_tweet',\n",
    "             by='label_name',\n",
    "             grid=False,\n",
    "             showfliers=False)\n",
    "plt.suptitle(\"\")\n",
    "plt.xlabel('')\n",
    "plt.show()"
   ]
  },
  {
   "cell_type": "code",
   "execution_count": 35,
   "metadata": {},
   "outputs": [
    {
     "data": {
      "text/plain": [
       "<Axes: ylabel='Frequency'>"
      ]
     },
     "execution_count": 35,
     "metadata": {},
     "output_type": "execute_result"
    },
    {
     "data": {
      "image/png": "[encoded data removed]",
      "text/plain": [
       "<Figure size 640x480 with 1 Axes>"
      ]
     },
     "metadata": {},
     "output_type": "display_data"
    }
   ],
   "source": [
    "data['words_per_tweet'].plot.hist(alpha=0.5,range=(0,600))"
   ]
  },
  {
   "cell_type": "code",
   "execution_count": 30,
   "metadata": {},
   "outputs": [
    {
     "data": {
      "text/plain": [
       "(array([ 13., 354., 889., 686., 620., 598., 535., 404., 395., 330., 307.,\n",
       "        258., 241., 212., 179., 169., 134., 123., 114.,  94.,  85.,  84.,\n",
       "         69.,  65.,  43.,  54.,  52.,  52.,  38.,  41.,  35.,  25.,  36.,\n",
       "         26.,  22.,  15.,  11.,  18.,  22.,  16.,  17.,  16.,  13.,  17.,\n",
       "         14.,  10.,  12.,  12.,  11.,  10.,   8.,   6.,  12.,   9.,   7.,\n",
       "          9.,   4.,   4.,   6.,   5.,  10.,   7.,   1.,   9.,   2.,   3.,\n",
       "          1.,   2.,   3.,   4.,   2.,   0.,   0.,   2.,   1.,   3.,   2.,\n",
       "          3.,   0.,   1.,   0.,   2.,   0.,   1.,   1.,   1.,   2.,   3.,\n",
       "          1.,   2.,   0.,   1.,   1.,   0.,   1.,   2.,   2.,   4.,   3.,\n",
       "          1.,   1.,   0.,   1.,   1.,   0.,   2.,   1.,   0.,   1.,   1.,\n",
       "          0.,   0.,   0.,   0.,   1.,   0.,   0.,   0.,   0.,   1.,   1.,\n",
       "          0.,   0.,   1.,   0.,   0.,   0.,   0.,   0.,   0.,   0.,   0.,\n",
       "          1.,   0.,   0.,   0.,   0.,   0.,   0.,   0.,   0.,   0.,   0.,\n",
       "          0.,   0.,   0.,   0.,   0.,   0.,   0.,   0.,   0.,   0.,   0.,\n",
       "          0.,   0.,   0.,   0.,   0.,   0.,   0.,   0.,   0.,   0.,   0.,\n",
       "          0.,   0.,   0.,   0.,   0.,   0.,   0.,   0.,   0.,   0.,   0.,\n",
       "          0.,   0.,   0.,   0.,   1.,   0.,   0.,   0.,   0.,   0.,   0.,\n",
       "          0.,   0.,   0.,   0.,   0.,   0.,   0.,   0.,   0.,   0.,   0.,\n",
       "          0.,   0.,   0.,   0.,   0.,   0.,   0.,   0.,   0.,   0.,   0.,\n",
       "          0.,   0.,   0.,   0.,   0.,   0.,   0.,   0.,   0.,   0.,   0.,\n",
       "          0.,   0.,   0.,   0.,   0.,   0.,   0.,   0.,   0.,   0.,   0.,\n",
       "          0.,   0.,   0.,   0.,   0.,   0.,   0.,   0.,   0.,   0.,   0.,\n",
       "          0.,   0.,   0.,   0.,   0.,   0.,   0.,   0.,   0.,   0.,   0.,\n",
       "          0.,   0.,   0.,   0.,   0.,   0.,   0.,   0.,   0.,   0.,   0.,\n",
       "          0.,   1.]),\n",
       " array([2.00000000e+00, 1.29849624e+01, 2.39699248e+01, 3.49548872e+01,\n",
       "        4.59398496e+01, 5.69248120e+01, 6.79097744e+01, 7.88947368e+01,\n",
       "        8.98796992e+01, 1.00864662e+02, 1.11849624e+02, 1.22834586e+02,\n",
       "        1.33819549e+02, 1.44804511e+02, 1.55789474e+02, 1.66774436e+02,\n",
       "        1.77759398e+02, 1.88744361e+02, 1.99729323e+02, 2.10714286e+02,\n",
       "        2.21699248e+02, 2.32684211e+02, 2.43669173e+02, 2.54654135e+02,\n",
       "        2.65639098e+02, 2.76624060e+02, 2.87609023e+02, 2.98593985e+02,\n",
       "        3.09578947e+02, 3.20563910e+02, 3.31548872e+02, 3.42533835e+02,\n",
       "        3.53518797e+02, 3.64503759e+02, 3.75488722e+02, 3.86473684e+02,\n",
       "        3.97458647e+02, 4.08443609e+02, 4.19428571e+02, 4.30413534e+02,\n",
       "        4.41398496e+02, 4.52383459e+02, 4.63368421e+02, 4.74353383e+02,\n",
       "        4.85338346e+02, 4.96323308e+02, 5.07308271e+02, 5.18293233e+02,\n",
       "        5.29278195e+02, 5.40263158e+02, 5.51248120e+02, 5.62233083e+02,\n",
       "        5.73218045e+02, 5.84203008e+02, 5.95187970e+02, 6.06172932e+02,\n",
       "        6.17157895e+02, 6.28142857e+02, 6.39127820e+02, 6.50112782e+02,\n",
       "        6.61097744e+02, 6.72082707e+02, 6.83067669e+02, 6.94052632e+02,\n",
       "        7.05037594e+02, 7.16022556e+02, 7.27007519e+02, 7.37992481e+02,\n",
       "        7.48977444e+02, 7.59962406e+02, 7.70947368e+02, 7.81932331e+02,\n",
       "        7.92917293e+02, 8.03902256e+02, 8.14887218e+02, 8.25872180e+02,\n",
       "        8.36857143e+02, 8.47842105e+02, 8.58827068e+02, 8.69812030e+02,\n",
       "        8.80796992e+02, 8.91781955e+02, 9.02766917e+02, 9.13751880e+02,\n",
       "        9.24736842e+02, 9.35721805e+02, 9.46706767e+02, 9.57691729e+02,\n",
       "        9.68676692e+02, 9.79661654e+02, 9.90646617e+02, 1.00163158e+03,\n",
       "        1.01261654e+03, 1.02360150e+03, 1.03458647e+03, 1.04557143e+03,\n",
       "        1.05655639e+03, 1.06754135e+03, 1.07852632e+03, 1.08951128e+03,\n",
       "        1.10049624e+03, 1.11148120e+03, 1.12246617e+03, 1.13345113e+03,\n",
       "        1.14443609e+03, 1.15542105e+03, 1.16640602e+03, 1.17739098e+03,\n",
       "        1.18837594e+03, 1.19936090e+03, 1.21034586e+03, 1.22133083e+03,\n",
       "        1.23231579e+03, 1.24330075e+03, 1.25428571e+03, 1.26527068e+03,\n",
       "        1.27625564e+03, 1.28724060e+03, 1.29822556e+03, 1.30921053e+03,\n",
       "        1.32019549e+03, 1.33118045e+03, 1.34216541e+03, 1.35315038e+03,\n",
       "        1.36413534e+03, 1.37512030e+03, 1.38610526e+03, 1.39709023e+03,\n",
       "        1.40807519e+03, 1.41906015e+03, 1.43004511e+03, 1.44103008e+03,\n",
       "        1.45201504e+03, 1.46300000e+03, 1.47398496e+03, 1.48496992e+03,\n",
       "        1.49595489e+03, 1.50693985e+03, 1.51792481e+03, 1.52890977e+03,\n",
       "        1.53989474e+03, 1.55087970e+03, 1.56186466e+03, 1.57284962e+03,\n",
       "        1.58383459e+03, 1.59481955e+03, 1.60580451e+03, 1.61678947e+03,\n",
       "        1.62777444e+03, 1.63875940e+03, 1.64974436e+03, 1.66072932e+03,\n",
       "        1.67171429e+03, 1.68269925e+03, 1.69368421e+03, 1.70466917e+03,\n",
       "        1.71565414e+03, 1.72663910e+03, 1.73762406e+03, 1.74860902e+03,\n",
       "        1.75959398e+03, 1.77057895e+03, 1.78156391e+03, 1.79254887e+03,\n",
       "        1.80353383e+03, 1.81451880e+03, 1.82550376e+03, 1.83648872e+03,\n",
       "        1.84747368e+03, 1.85845865e+03, 1.86944361e+03, 1.88042857e+03,\n",
       "        1.89141353e+03, 1.90239850e+03, 1.91338346e+03, 1.92436842e+03,\n",
       "        1.93535338e+03, 1.94633835e+03, 1.95732331e+03, 1.96830827e+03,\n",
       "        1.97929323e+03, 1.99027820e+03, 2.00126316e+03, 2.01224812e+03,\n",
       "        2.02323308e+03, 2.03421805e+03, 2.04520301e+03, 2.05618797e+03,\n",
       "        2.06717293e+03, 2.07815789e+03, 2.08914286e+03, 2.10012782e+03,\n",
       "        2.11111278e+03, 2.12209774e+03, 2.13308271e+03, 2.14406767e+03,\n",
       "        2.15505263e+03, 2.16603759e+03, 2.17702256e+03, 2.18800752e+03,\n",
       "        2.19899248e+03, 2.20997744e+03, 2.22096241e+03, 2.23194737e+03,\n",
       "        2.24293233e+03, 2.25391729e+03, 2.26490226e+03, 2.27588722e+03,\n",
       "        2.28687218e+03, 2.29785714e+03, 2.30884211e+03, 2.31982707e+03,\n",
       "        2.33081203e+03, 2.34179699e+03, 2.35278195e+03, 2.36376692e+03,\n",
       "        2.37475188e+03, 2.38573684e+03, 2.39672180e+03, 2.40770677e+03,\n",
       "        2.41869173e+03, 2.42967669e+03, 2.44066165e+03, 2.45164662e+03,\n",
       "        2.46263158e+03, 2.47361654e+03, 2.48460150e+03, 2.49558647e+03,\n",
       "        2.50657143e+03, 2.51755639e+03, 2.52854135e+03, 2.53952632e+03,\n",
       "        2.55051128e+03, 2.56149624e+03, 2.57248120e+03, 2.58346617e+03,\n",
       "        2.59445113e+03, 2.60543609e+03, 2.61642105e+03, 2.62740602e+03,\n",
       "        2.63839098e+03, 2.64937594e+03, 2.66036090e+03, 2.67134586e+03,\n",
       "        2.68233083e+03, 2.69331579e+03, 2.70430075e+03, 2.71528571e+03,\n",
       "        2.72627068e+03, 2.73725564e+03, 2.74824060e+03, 2.75922556e+03,\n",
       "        2.77021053e+03, 2.78119549e+03, 2.79218045e+03, 2.80316541e+03,\n",
       "        2.81415038e+03, 2.82513534e+03, 2.83612030e+03, 2.84710526e+03,\n",
       "        2.85809023e+03, 2.86907519e+03, 2.88006015e+03, 2.89104511e+03,\n",
       "        2.90203008e+03, 2.91301504e+03, 2.92400000e+03]),\n",
       " <BarContainer object of 266 artists>)"
      ]
     },
     "execution_count": 30,
     "metadata": {},
     "output_type": "execute_result"
    },
    {
     "data": {
      "image/png": "[encoded data removed]",
      "text/plain": [
       "<Figure size 640x480 with 1 Axes>"
      ]
     },
     "metadata": {},
     "output_type": "display_data"
    }
   ],
   "source": [
    "plt.hist(data['words_per_tweet'],bins='auto')"
   ]
  },
  {
   "cell_type": "code",
   "execution_count": 40,
   "metadata": {},
   "outputs": [
    {
     "data": {
      "text/plain": [
       "np.float64(84.0)"
      ]
     },
     "execution_count": 40,
     "metadata": {},
     "output_type": "execute_result"
    }
   ],
   "source": [
    "data['words_per_tweet'].median()"
   ]
  }
 ],
 "metadata": {
  "kernelspec": {
   "display_name": "base",
   "language": "python",
   "name": "python3"
  },
  "language_info": {
   "codemirror_mode": {
    "name": "ipython",
    "version": 3
   },
   "file_extension": ".py",
   "mimetype": "text/x-python",
   "name": "python",
   "nbconvert_exporter": "python",
   "pygments_lexer": "ipython3",
   "version": "3.12.8"
  }
 },
 "nbformat": 4,
 "nbformat_minor": 2
}
