{
 "cells": [
  {
   "cell_type": "code",
   "execution_count": 13,
   "metadata": {},
   "outputs": [
    {
     "data": {
      "text/plain": [
       "Dataset({\n",
       "    features: ['Unnamed: 0', 'case_id', 'duration_seconds', 'last_screen', 'device', 'ethn_hispanic', 'ethn_white', 'ethn_afr_american', 'ethn_asian', 'ethn_sth_else', 'ethn_prefer_not', 'age', 'education', 'english_fl', 'twitter_use', 'socmedia_use', 'prolific_hours', 'task_fun', 'task_interesting', 'task_boring', 'task_repetitive', 'task_important', 'task_depressing', 'task_offensive', 'repeat_tweet_coding', 'repeat_hs_coding', 'target_online_harassment', 'target_other_harassment', 'party_affiliation', 'societal_relevance_hs', 'annotator_id', 'condition', 'tweet_batch', 'hate_speech', 'offensive_language', 'tweet_id', 'orig_label_hs', 'orig_label_ol', 'orig_label_ne', 'tweet_hashed'],\n",
       "    num_rows: 89150\n",
       "})"
      ]
     },
     "execution_count": 13,
     "metadata": {},
     "output_type": "execute_result"
    }
   ],
   "source": [
    "from datasets import load_dataset,DatasetDict\n",
    "\n",
    "datasets = load_dataset('soda-lmu/tweet-annotation-sensitivity-2')\n",
    "dataset = datasets['train']\n",
    "dataset"
   ]
  },
  {
   "cell_type": "code",
   "execution_count": 15,
   "metadata": {},
   "outputs": [
    {
     "data": {
      "text/plain": [
       "Dataset({\n",
       "    features: ['Unnamed: 0', 'case_id', 'duration_seconds', 'last_screen', 'device', 'ethn_hispanic', 'ethn_white', 'ethn_afr_american', 'ethn_asian', 'ethn_sth_else', 'ethn_prefer_not', 'age', 'education', 'english_fl', 'twitter_use', 'socmedia_use', 'prolific_hours', 'task_fun', 'task_interesting', 'task_boring', 'task_repetitive', 'task_important', 'task_depressing', 'task_offensive', 'repeat_tweet_coding', 'repeat_hs_coding', 'target_online_harassment', 'target_other_harassment', 'party_affiliation', 'societal_relevance_hs', 'annotator_id', 'condition', 'tweet_batch', 'hate_speech', 'offensive_language', 'tweet_id', 'orig_label_hs', 'orig_label_ol', 'orig_label_ne', 'tweet_hashed'],\n",
       "    num_rows: 17830\n",
       "})"
      ]
     },
     "execution_count": 15,
     "metadata": {},
     "output_type": "execute_result"
    }
   ],
   "source": [
    "another_dict = dataset.train_test_split(test_size=0.2,seed=42)\n",
    "test_dataset = another_dict['test']\n",
    "test_dataset"
   ]
  },
  {
   "cell_type": "code",
   "execution_count": 16,
   "metadata": {},
   "outputs": [
    {
     "data": {
      "text/plain": [
       "DatasetDict({\n",
       "    train: Dataset({\n",
       "        features: ['Unnamed: 0', 'case_id', 'duration_seconds', 'last_screen', 'device', 'ethn_hispanic', 'ethn_white', 'ethn_afr_american', 'ethn_asian', 'ethn_sth_else', 'ethn_prefer_not', 'age', 'education', 'english_fl', 'twitter_use', 'socmedia_use', 'prolific_hours', 'task_fun', 'task_interesting', 'task_boring', 'task_repetitive', 'task_important', 'task_depressing', 'task_offensive', 'repeat_tweet_coding', 'repeat_hs_coding', 'target_online_harassment', 'target_other_harassment', 'party_affiliation', 'societal_relevance_hs', 'annotator_id', 'condition', 'tweet_batch', 'hate_speech', 'offensive_language', 'tweet_id', 'orig_label_hs', 'orig_label_ol', 'orig_label_ne', 'tweet_hashed'],\n",
       "        num_rows: 8915\n",
       "    })\n",
       "    test: Dataset({\n",
       "        features: ['Unnamed: 0', 'case_id', 'duration_seconds', 'last_screen', 'device', 'ethn_hispanic', 'ethn_white', 'ethn_afr_american', 'ethn_asian', 'ethn_sth_else', 'ethn_prefer_not', 'age', 'education', 'english_fl', 'twitter_use', 'socmedia_use', 'prolific_hours', 'task_fun', 'task_interesting', 'task_boring', 'task_repetitive', 'task_important', 'task_depressing', 'task_offensive', 'repeat_tweet_coding', 'repeat_hs_coding', 'target_online_harassment', 'target_other_harassment', 'party_affiliation', 'societal_relevance_hs', 'annotator_id', 'condition', 'tweet_batch', 'hate_speech', 'offensive_language', 'tweet_id', 'orig_label_hs', 'orig_label_ol', 'orig_label_ne', 'tweet_hashed'],\n",
       "        num_rows: 8915\n",
       "    })\n",
       "})"
      ]
     },
     "execution_count": 16,
     "metadata": {},
     "output_type": "execute_result"
    }
   ],
   "source": [
    "validation_test_dict = test_dataset.train_test_split(test_size=0.5,seed=42)\n",
    "validation_test_dict"
   ]
  },
  {
   "cell_type": "code",
   "execution_count": 19,
   "metadata": {},
   "outputs": [
    {
     "data": {
      "text/plain": [
       "DatasetDict({\n",
       "    train: Dataset({\n",
       "        features: ['Unnamed: 0', 'case_id', 'duration_seconds', 'last_screen', 'device', 'ethn_hispanic', 'ethn_white', 'ethn_afr_american', 'ethn_asian', 'ethn_sth_else', 'ethn_prefer_not', 'age', 'education', 'english_fl', 'twitter_use', 'socmedia_use', 'prolific_hours', 'task_fun', 'task_interesting', 'task_boring', 'task_repetitive', 'task_important', 'task_depressing', 'task_offensive', 'repeat_tweet_coding', 'repeat_hs_coding', 'target_online_harassment', 'target_other_harassment', 'party_affiliation', 'societal_relevance_hs', 'annotator_id', 'condition', 'tweet_batch', 'hate_speech', 'offensive_language', 'tweet_id', 'orig_label_hs', 'orig_label_ol', 'orig_label_ne', 'tweet_hashed'],\n",
       "        num_rows: 71320\n",
       "    })\n",
       "    validation: Dataset({\n",
       "        features: ['Unnamed: 0', 'case_id', 'duration_seconds', 'last_screen', 'device', 'ethn_hispanic', 'ethn_white', 'ethn_afr_american', 'ethn_asian', 'ethn_sth_else', 'ethn_prefer_not', 'age', 'education', 'english_fl', 'twitter_use', 'socmedia_use', 'prolific_hours', 'task_fun', 'task_interesting', 'task_boring', 'task_repetitive', 'task_important', 'task_depressing', 'task_offensive', 'repeat_tweet_coding', 'repeat_hs_coding', 'target_online_harassment', 'target_other_harassment', 'party_affiliation', 'societal_relevance_hs', 'annotator_id', 'condition', 'tweet_batch', 'hate_speech', 'offensive_language', 'tweet_id', 'orig_label_hs', 'orig_label_ol', 'orig_label_ne', 'tweet_hashed'],\n",
       "        num_rows: 8915\n",
       "    })\n",
       "    test: Dataset({\n",
       "        features: ['Unnamed: 0', 'case_id', 'duration_seconds', 'last_screen', 'device', 'ethn_hispanic', 'ethn_white', 'ethn_afr_american', 'ethn_asian', 'ethn_sth_else', 'ethn_prefer_not', 'age', 'education', 'english_fl', 'twitter_use', 'socmedia_use', 'prolific_hours', 'task_fun', 'task_interesting', 'task_boring', 'task_repetitive', 'task_important', 'task_depressing', 'task_offensive', 'repeat_tweet_coding', 'repeat_hs_coding', 'target_online_harassment', 'target_other_harassment', 'party_affiliation', 'societal_relevance_hs', 'annotator_id', 'condition', 'tweet_batch', 'hate_speech', 'offensive_language', 'tweet_id', 'orig_label_hs', 'orig_label_ol', 'orig_label_ne', 'tweet_hashed'],\n",
       "        num_rows: 8915\n",
       "    })\n",
       "})"
      ]
     },
     "execution_count": 19,
     "metadata": {},
     "output_type": "execute_result"
    }
   ],
   "source": [
    "datasets_3kind = DatasetDict({\n",
    "    \"train\": another_dict['train'],\n",
    "    \"validation\": validation_test_dict['train'],\n",
    "    \"test\": validation_test_dict['test']\n",
    "})\n",
    "\n",
    "datasets_3kind\n"
   ]
  }
 ],
 "metadata": {
  "kernelspec": {
   "display_name": "base",
   "language": "python",
   "name": "python3"
  },
  "language_info": {
   "codemirror_mode": {
    "name": "ipython",
    "version": 3
   },
   "file_extension": ".py",
   "mimetype": "text/x-python",
   "name": "python",
   "nbconvert_exporter": "python",
   "pygments_lexer": "ipython3",
   "version": "3.12.8"
  }
 },
 "nbformat": 4,
 "nbformat_minor": 2
}
