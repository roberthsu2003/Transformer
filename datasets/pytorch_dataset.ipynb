{
 "cells": [
  {
   "cell_type": "code",
   "execution_count": 1,
   "metadata": {},
   "outputs": [
    {
     "data": {
      "text/html": [
       "<div>\n",
       "<style scoped>\n",
       "    .dataframe tbody tr th:only-of-type {\n",
       "        vertical-align: middle;\n",
       "    }\n",
       "\n",
       "    .dataframe tbody tr th {\n",
       "        vertical-align: top;\n",
       "    }\n",
       "\n",
       "    .dataframe thead th {\n",
       "        text-align: right;\n",
       "    }\n",
       "</style>\n",
       "<table border=\"1\" class=\"dataframe\">\n",
       "  <thead>\n",
       "    <tr style=\"text-align: right;\">\n",
       "      <th></th>\n",
       "      <th>label</th>\n",
       "      <th>review</th>\n",
       "    </tr>\n",
       "  </thead>\n",
       "  <tbody>\n",
       "    <tr>\n",
       "      <th>0</th>\n",
       "      <td>1</td>\n",
       "      <td>距離川沙公路較近,但是公交指示不對,如果是\"蔡陸線\"的話,會非常麻煩.建議用別的路線.房間較...</td>\n",
       "    </tr>\n",
       "    <tr>\n",
       "      <th>1</th>\n",
       "      <td>1</td>\n",
       "      <td>商務大床房，房間很大，床有2M寬，整體感覺經濟實惠不錯!</td>\n",
       "    </tr>\n",
       "    <tr>\n",
       "      <th>2</th>\n",
       "      <td>1</td>\n",
       "      <td>早餐太差，無論去多少人，那邊也不加食品的。酒店應該重視一下這個問題了。房間本身很好。</td>\n",
       "    </tr>\n",
       "    <tr>\n",
       "      <th>3</th>\n",
       "      <td>1</td>\n",
       "      <td>賓館在小街道上，不大好找，但還好北京熱心同胞很多~賓館設施跟介紹的差不多，房間很小，確實挺小...</td>\n",
       "    </tr>\n",
       "    <tr>\n",
       "      <th>4</th>\n",
       "      <td>1</td>\n",
       "      <td>CBD中心,周圍沒什麼店鋪,說5星有點勉強.不知道為什麼衛生間沒有電吹風</td>\n",
       "    </tr>\n",
       "  </tbody>\n",
       "</table>\n",
       "</div>"
      ],
      "text/plain": [
       "   label                                             review\n",
       "0      1  距離川沙公路較近,但是公交指示不對,如果是\"蔡陸線\"的話,會非常麻煩.建議用別的路線.房間較...\n",
       "1      1                       商務大床房，房間很大，床有2M寬，整體感覺經濟實惠不錯!\n",
       "2      1         早餐太差，無論去多少人，那邊也不加食品的。酒店應該重視一下這個問題了。房間本身很好。\n",
       "3      1  賓館在小街道上，不大好找，但還好北京熱心同胞很多~賓館設施跟介紹的差不多，房間很小，確實挺小...\n",
       "4      1               CBD中心,周圍沒什麼店鋪,說5星有點勉強.不知道為什麼衛生間沒有電吹風"
      ]
     },
     "execution_count": 1,
     "metadata": {},
     "output_type": "execute_result"
    }
   ],
   "source": [
    "import pandas as pd\n",
    "\n",
    "data = pd.read_csv('ChnSentiCorp_htl_all.csv')\n",
    "data.head()"
   ]
  },
  {
   "cell_type": "code",
   "execution_count": 4,
   "metadata": {},
   "outputs": [
    {
     "data": {
      "text/plain": [
       "7765"
      ]
     },
     "execution_count": 4,
     "metadata": {},
     "output_type": "execute_result"
    }
   ],
   "source": [
    "data = data.dropna()\n",
    "len(data)"
   ]
  },
  {
   "cell_type": "code",
   "execution_count": null,
   "metadata": {},
   "outputs": [
    {
     "data": {
      "text/plain": [
       "('距離川沙公路較近,但是公交指示不對,如果是\"蔡陸線\"的話,會非常麻煩.建議用別的路線.房間較為簡單.', np.int64(1))"
      ]
     },
     "execution_count": 6,
     "metadata": {},
     "output_type": "execute_result"
    }
   ],
   "source": [
    "from torch.utils.data import Dataset\n",
    "\n",
    "class HotelDataSet(Dataset):\n",
    "    def __init__(self):\n",
    "        super().__init__()\n",
    "        data = pd.read_csv('ChnSentiCorp_htl_all.csv')\n",
    "        self.data = data.dropna()\n",
    "\n",
    "    def __len__(self):\n",
    "        return len(self.data)\n",
    "    \n",
    "    def __getitem__(self, index): #傳出tuple\n",
    "        return self.data.iloc[index]['review'], self.data.iloc[index]['label']\n",
    "\n",
    "hotelDataSet = HotelDataSet()\n",
    "hotelDataSet[0]"
   ]
  },
  {
   "cell_type": "code",
   "execution_count": 8,
   "metadata": {},
   "outputs": [
    {
     "data": {
      "text/plain": [
       "(('因為公司的報銷制度嚴格,所以我在酒店結帳的時候讓前臺在列印出來的明細單上加蓋酒店的章(大家說這個要求過分嗎),但是前臺小姐以各種理由拒不蓋章,試問如果出差回去不能報銷費用的話,這樣的酒店誰還敢住?如果不是急著趕飛機的話,一定要找酒店要個說法!建議報銷制度嚴格的朋友不要考慮這個酒店了.',\n",
       "  np.int64(0)),\n",
       " 6989,\n",
       " 776)"
      ]
     },
     "execution_count": 8,
     "metadata": {},
     "output_type": "execute_result"
    }
   ],
   "source": [
    "from torch.utils.data import random_split\n",
    "\n",
    "trainset, validset= random_split(hotelDataSet,lengths=[0.9,0.1])\n",
    "trainset[0], len(trainset), len(validset)"
   ]
  },
  {
   "cell_type": "code",
   "execution_count": null,
   "metadata": {},
   "outputs": [
    {
     "data": {
      "text/plain": [
       "[('酒店位置不錯，交通方便。硬體環境雖然顯得比較舊了，但依舊不失檔次。服務態度基本令人滿意。寬頻網路速度不錯，就是還需要單獨聯絡前臺開通帳號且沒有什麼提示說明，不大方便。房間裡準備了滅蚊器，但是沒有藥片，需要自己聯絡服務員索取。離店那天的早餐不大理想，還沒到結束時間（差一小時），我們一邊吃，服務員一邊在旁邊就把各種餐具、菜品收走了，令人感覺比較尷尬。另外，在衛生間看到',\n",
       "  '大堂顯得太小,服務周到細緻,我下次一定會在入住.',\n",
       "  '感覺還不錯，雖然不算新也不算豪華。地下一層的桑那按摩（當然應該是獨立經營的）騙錢，故意不說要加房間錢。'),\n",
       " tensor([1, 1, 1])]"
      ]
     },
     "execution_count": 15,
     "metadata": {},
     "output_type": "execute_result"
    }
   ],
   "source": [
    "from torch.utils.data import DataLoader\n",
    "\n",
    "trainDataLoader = DataLoader(trainset, batch_size=32, shuffle=True)\n",
    "validDataLoader = DataLoader(validset, batch_size=32, shuffle=True)\n",
    "next(enumerate(trainDataLoader))[1]"
   ]
  },
  {
   "cell_type": "code",
   "execution_count": 26,
   "metadata": {},
   "outputs": [
    {
     "data": {
      "text/plain": [
       "{'text': ['地理位置不錯，就是臨街有點吵，其他都不錯',\n",
       "  '酒店設施一流，房間設施一流，前臺及銷售人員服務非常令人滿意，我因為是陪同客人去旅遊，旅遊路線不瞭解，詢問了酒店總檯，總檯馬上安排酒店銷售人員熱情為我一一解答，銷售人員還提出如有需要可以陪同我們一起前往旅遊景點，讓人有賓至如歸的感覺真的非常不錯，但美中不足的是酒店的早餐，我一共入住酒店2次，每次早上我大約都在9點去餐廳用早餐（9：30結束），但是每次都是沒有什麼可以吃的了，每次都有很多客人都在向服務員抱怨，而服務員也沒有作出進一步的反應，我覺得這與五星級的酒店不太相忖，希望酒店能予以改進。',\n",
       "  '設施雖稍陳舊一些,但良好的服務給人溫暖.酒店所處地理位置和環境極好.對年齡較大的個人旅遊者而言,入住該酒店不失為較佳選擇.'],\n",
       " 'label': tensor([1, 1, 1])}"
      ]
     },
     "execution_count": 26,
     "metadata": {},
     "output_type": "execute_result"
    }
   ],
   "source": [
    "from torch.utils.data import DataLoader\n",
    "import torch\n",
    "def collate_func(batch):\n",
    "    \"\"\"\n",
    "    將batch的資料轉換為訓練需要的格式\n",
    "    Param:\n",
    "        每個批次,list內有2個元素,第1個元素為文字,第2個元素為label\n",
    "    Return:\n",
    "        傳出一個批次訓練需要的dictionary\n",
    "    \"\"\"\n",
    "    \n",
    "    #使用取出文字和label\n",
    "    reviews , labels = [],[]\n",
    "    for item in batch:\n",
    "        reviews.append(item[0])\n",
    "        labels.append(item[1])\n",
    "\n",
    "    return {'text':reviews, 'label':torch.tensor(labels)}\n",
    "\n",
    "\n",
    "trainDataLoader = DataLoader(trainset, batch_size=3, shuffle=True,collate_fn=collate_func)\n",
    "validDataLoader = DataLoader(validset, batch_size=64, shuffle=True)\n",
    "next(enumerate(trainDataLoader))[1]"
   ]
  },
  {
   "cell_type": "code",
   "execution_count": 28,
   "metadata": {},
   "outputs": [
    {
     "data": {
      "text/plain": [
       "{'input_ids': tensor([[ 101, 3302, 1243, 1922, 2345, 3302, 1243, 1922, 2345, 3302, 1243, 1922,\n",
       "         2345, 3302, 1243, 1922, 2345, 3302, 1243, 1922, 2345,  102,    0,    0,\n",
       "            0,    0,    0,    0,    0,    0,    0,    0,    0,    0,    0,    0,\n",
       "            0,    0,    0,    0,    0,    0,    0,    0,    0,    0,    0,    0,\n",
       "            0,    0,    0,    0,    0,    0,    0,    0,    0,    0,    0,    0,\n",
       "            0,    0,    0,    0,    0,    0,    0,    0,    0,    0,    0,    0,\n",
       "            0,    0,    0,    0,    0,    0,    0,    0,    0,    0,    0,    0,\n",
       "            0,    0,    0,    0,    0,    0,    0,    0,    0,    0,    0,    0,\n",
       "            0,    0,    0,    0,    0,    0,    0,    0,    0,    0,    0,    0,\n",
       "            0,    0,    0,    0,    0,    0,    0,    0,    0,    0,    0,    0,\n",
       "            0,    0,    0,    0,    0,    0,    0,    0],\n",
       "        [ 101, 2523, 1914, 2399, 1184,  857, 6882,  671, 3613,  511, 6857, 3613,\n",
       "         3221, 5018,  753, 3613,  857,  511, 2791, 7279, 2523, 1920, 8024,  738,\n",
       "         2523,  746, 3912,  511, 4507, 3176, 6983, 2421, 7271, 1184, 4638, 6887,\n",
       "         4415, 1962,  749, 8024, 1728, 3634,  738, 3175,  912,  749, 2523, 1914,\n",
       "          511, 6983, 2421, 3330, 1298, 4097, 6662, 4638, 5401, 7608,  671, 3454,\n",
       "         6125,  679, 6895,  511, 6983, 2421, 4638, 3193, 7623, 4696, 3221, 7478,\n",
       "         2382,  679, 7097, 8024, 1469, 2523, 1914, 3291, 7770, 3593, 3613, 4638,\n",
       "         6983, 2421, 3683,  738,  679, 6893, 5682,  511,  852, 3221, 6857, 7938,\n",
       "         1914, 2399, 2697, 6221, 6983, 2421, 4638, 1912, 6223, 1922, 5648,  749,\n",
       "         8024, 1920, 1828,  738, 3760, 3300,  749, 1724, 3215, 5159, 6983, 2421,\n",
       "         4638, 3706, 3836,  511,  102,    0,    0,    0]]), 'token_type_ids': tensor([[0, 0, 0, 0, 0, 0, 0, 0, 0, 0, 0, 0, 0, 0, 0, 0, 0, 0, 0, 0, 0, 0, 0, 0,\n",
       "         0, 0, 0, 0, 0, 0, 0, 0, 0, 0, 0, 0, 0, 0, 0, 0, 0, 0, 0, 0, 0, 0, 0, 0,\n",
       "         0, 0, 0, 0, 0, 0, 0, 0, 0, 0, 0, 0, 0, 0, 0, 0, 0, 0, 0, 0, 0, 0, 0, 0,\n",
       "         0, 0, 0, 0, 0, 0, 0, 0, 0, 0, 0, 0, 0, 0, 0, 0, 0, 0, 0, 0, 0, 0, 0, 0,\n",
       "         0, 0, 0, 0, 0, 0, 0, 0, 0, 0, 0, 0, 0, 0, 0, 0, 0, 0, 0, 0, 0, 0, 0, 0,\n",
       "         0, 0, 0, 0, 0, 0, 0, 0],\n",
       "        [0, 0, 0, 0, 0, 0, 0, 0, 0, 0, 0, 0, 0, 0, 0, 0, 0, 0, 0, 0, 0, 0, 0, 0,\n",
       "         0, 0, 0, 0, 0, 0, 0, 0, 0, 0, 0, 0, 0, 0, 0, 0, 0, 0, 0, 0, 0, 0, 0, 0,\n",
       "         0, 0, 0, 0, 0, 0, 0, 0, 0, 0, 0, 0, 0, 0, 0, 0, 0, 0, 0, 0, 0, 0, 0, 0,\n",
       "         0, 0, 0, 0, 0, 0, 0, 0, 0, 0, 0, 0, 0, 0, 0, 0, 0, 0, 0, 0, 0, 0, 0, 0,\n",
       "         0, 0, 0, 0, 0, 0, 0, 0, 0, 0, 0, 0, 0, 0, 0, 0, 0, 0, 0, 0, 0, 0, 0, 0,\n",
       "         0, 0, 0, 0, 0, 0, 0, 0]]), 'attention_mask': tensor([[1, 1, 1, 1, 1, 1, 1, 1, 1, 1, 1, 1, 1, 1, 1, 1, 1, 1, 1, 1, 1, 1, 0, 0,\n",
       "         0, 0, 0, 0, 0, 0, 0, 0, 0, 0, 0, 0, 0, 0, 0, 0, 0, 0, 0, 0, 0, 0, 0, 0,\n",
       "         0, 0, 0, 0, 0, 0, 0, 0, 0, 0, 0, 0, 0, 0, 0, 0, 0, 0, 0, 0, 0, 0, 0, 0,\n",
       "         0, 0, 0, 0, 0, 0, 0, 0, 0, 0, 0, 0, 0, 0, 0, 0, 0, 0, 0, 0, 0, 0, 0, 0,\n",
       "         0, 0, 0, 0, 0, 0, 0, 0, 0, 0, 0, 0, 0, 0, 0, 0, 0, 0, 0, 0, 0, 0, 0, 0,\n",
       "         0, 0, 0, 0, 0, 0, 0, 0],\n",
       "        [1, 1, 1, 1, 1, 1, 1, 1, 1, 1, 1, 1, 1, 1, 1, 1, 1, 1, 1, 1, 1, 1, 1, 1,\n",
       "         1, 1, 1, 1, 1, 1, 1, 1, 1, 1, 1, 1, 1, 1, 1, 1, 1, 1, 1, 1, 1, 1, 1, 1,\n",
       "         1, 1, 1, 1, 1, 1, 1, 1, 1, 1, 1, 1, 1, 1, 1, 1, 1, 1, 1, 1, 1, 1, 1, 1,\n",
       "         1, 1, 1, 1, 1, 1, 1, 1, 1, 1, 1, 1, 1, 1, 1, 1, 1, 1, 1, 1, 1, 1, 1, 1,\n",
       "         1, 1, 1, 1, 1, 1, 1, 1, 1, 1, 1, 1, 1, 1, 1, 1, 1, 1, 1, 1, 1, 1, 1, 1,\n",
       "         1, 1, 1, 1, 1, 0, 0, 0]]), 'labels': tensor([1, 1])}"
      ]
     },
     "execution_count": 28,
     "metadata": {},
     "output_type": "execute_result"
    }
   ],
   "source": [
    "from torch.utils.data import DataLoader\n",
    "import torch\n",
    "from transformers import AutoTokenizer\n",
    "\n",
    "tokenizer = AutoTokenizer.from_pretrained(\"google-bert/bert-base-chinese\")\n",
    "\n",
    "def collate_func(batch):\n",
    "    \"\"\"\n",
    "    將batch的資料轉換為訓練需要的格式\n",
    "    Param:\n",
    "        每個批次,list內有2個元素,第1個元素為文字,第2個元素為label\n",
    "    Return:\n",
    "        傳出一個批次訓練需要的dictionary\n",
    "    \"\"\"\n",
    "    \n",
    "    #使用取出文字和label\n",
    "    reviews , labels = [],[]\n",
    "    for item in batch:\n",
    "        reviews.append(item[0])\n",
    "        labels.append(item[1])\n",
    "\n",
    "    inputs = tokenizer(reviews,max_length=128,padding='max_length',truncation=True,return_tensors='pt')\n",
    "    inputs['labels'] = torch.tensor(labels)\n",
    "\n",
    "    return inputs\n",
    "\n",
    "\n",
    "trainDataLoader = DataLoader(trainset, batch_size=2, shuffle=True,collate_fn=collate_func)\n",
    "validDataLoader = DataLoader(validset, batch_size=64, shuffle=True)\n",
    "next(enumerate(trainDataLoader))[1]"
   ]
  }
 ],
 "metadata": {
  "kernelspec": {
   "display_name": "base",
   "language": "python",
   "name": "python3"
  },
  "language_info": {
   "codemirror_mode": {
    "name": "ipython",
    "version": 3
   },
   "file_extension": ".py",
   "mimetype": "text/x-python",
   "name": "python",
   "nbconvert_exporter": "python",
   "pygments_lexer": "ipython3",
   "version": "3.12.8"
  }
 },
 "nbformat": 4,
 "nbformat_minor": 2
}
