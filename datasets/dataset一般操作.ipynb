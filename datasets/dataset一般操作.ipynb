{
 "cells": [
  {
   "cell_type": "code",
   "execution_count": 2,
   "metadata": {},
   "outputs": [
    {
     "data": {
      "application/vnd.jupyter.widget-view+json": {
       "model_id": "78fce49f22cd4a7fa77d9d41697e957a",
       "version_major": 2,
       "version_minor": 0
      },
      "text/plain": [
       "README.md:   0%|          | 0.00/738 [00:00<?, ?B/s]"
      ]
     },
     "metadata": {},
     "output_type": "display_data"
    },
    {
     "data": {
      "application/vnd.jupyter.widget-view+json": {
       "model_id": "72d86e0a9ff847f6a532bd0ed1341feb",
       "version_major": 2,
       "version_minor": 0
      },
      "text/plain": [
       "train-00000-of-00001.parquet:   0%|          | 0.00/1.08M [00:00<?, ?B/s]"
      ]
     },
     "metadata": {},
     "output_type": "display_data"
    },
    {
     "data": {
      "application/vnd.jupyter.widget-view+json": {
       "model_id": "ce9ef81fb1b84ecea181d49d72df6621",
       "version_major": 2,
       "version_minor": 0
      },
      "text/plain": [
       "Generating train split:   0%|          | 0/1799 [00:00<?, ? examples/s]"
      ]
     },
     "metadata": {},
     "output_type": "display_data"
    },
    {
     "data": {
      "text/plain": [
       "DatasetDict({\n",
       "    train: Dataset({\n",
       "        features: ['image', 'title', 'descriotion', 'cooking_time', 'author', 'url', 'servings', 'ingredients', 'steps'],\n",
       "        num_rows: 1799\n",
       "    })\n",
       "})"
      ]
     },
     "execution_count": 2,
     "metadata": {},
     "output_type": "execute_result"
    }
   ],
   "source": [
    "from datasets import load_dataset\n",
    "datasets = load_dataset('AWeirdDev/zh-tw-recipes-sm')\n",
    "datasets"
   ]
  },
  {
   "cell_type": "code",
   "execution_count": 3,
   "metadata": {},
   "outputs": [
    {
     "data": {
      "application/vnd.jupyter.widget-view+json": {
       "model_id": "3168c35c04c14b6f861f09a262e5414a",
       "version_major": 2,
       "version_minor": 0
      },
      "text/plain": [
       "README.md:   0%|          | 0.00/35.3k [00:00<?, ?B/s]"
      ]
     },
     "metadata": {},
     "output_type": "display_data"
    },
    {
     "data": {
      "application/vnd.jupyter.widget-view+json": {
       "model_id": "863ef88945784c4aafb392e17f3c6124",
       "version_major": 2,
       "version_minor": 0
      },
      "text/plain": [
       "test-00000-of-00001.parquet:   0%|          | 0.00/80.8k [00:00<?, ?B/s]"
      ]
     },
     "metadata": {},
     "output_type": "display_data"
    },
    {
     "data": {
      "application/vnd.jupyter.widget-view+json": {
       "model_id": "55bf228a5f104559a949a423fa1aa880",
       "version_major": 2,
       "version_minor": 0
      },
      "text/plain": [
       "Generating test split: 0 examples [00:00, ? examples/s]"
      ]
     },
     "metadata": {},
     "output_type": "display_data"
    },
    {
     "data": {
      "text/plain": [
       "DatasetDict({\n",
       "    test: Dataset({\n",
       "        features: ['premise', 'hypothesis', 'label', 'idx'],\n",
       "        num_rows: 1104\n",
       "    })\n",
       "})"
      ]
     },
     "execution_count": 3,
     "metadata": {},
     "output_type": "execute_result"
    }
   ],
   "source": [
    "from datasets import load_dataset\n",
    "dataset = load_dataset('nyu-mll/glue',data_dir='ax')\n",
    "dataset"
   ]
  },
  {
   "cell_type": "code",
   "execution_count": 4,
   "metadata": {},
   "outputs": [
    {
     "data": {
      "application/vnd.jupyter.widget-view+json": {
       "model_id": "ec5251ea984a42f9a2a1c18082d07f84",
       "version_major": 2,
       "version_minor": 0
      },
      "text/plain": [
       "train-00000-of-00001.parquet:   0%|          | 0.00/649k [00:00<?, ?B/s]"
      ]
     },
     "metadata": {},
     "output_type": "display_data"
    },
    {
     "data": {
      "application/vnd.jupyter.widget-view+json": {
       "model_id": "00eb7f1e3fb3427fbaca9f963fe17450",
       "version_major": 2,
       "version_minor": 0
      },
      "text/plain": [
       "validation-00000-of-00001.parquet:   0%|          | 0.00/75.7k [00:00<?, ?B/s]"
      ]
     },
     "metadata": {},
     "output_type": "display_data"
    },
    {
     "data": {
      "application/vnd.jupyter.widget-view+json": {
       "model_id": "d06d28263c1249fab43aca6e4cb9e521",
       "version_major": 2,
       "version_minor": 0
      },
      "text/plain": [
       "test-00000-of-00001.parquet:   0%|          | 0.00/308k [00:00<?, ?B/s]"
      ]
     },
     "metadata": {},
     "output_type": "display_data"
    },
    {
     "data": {
      "application/vnd.jupyter.widget-view+json": {
       "model_id": "a608d4a6695d441cbb5668d37107bcab",
       "version_major": 2,
       "version_minor": 0
      },
      "text/plain": [
       "Generating train split: 0 examples [00:00, ? examples/s]"
      ]
     },
     "metadata": {},
     "output_type": "display_data"
    },
    {
     "data": {
      "application/vnd.jupyter.widget-view+json": {
       "model_id": "af0f78abed3a47f8be53429ff9dfd9c6",
       "version_major": 2,
       "version_minor": 0
      },
      "text/plain": [
       "Generating validation split: 0 examples [00:00, ? examples/s]"
      ]
     },
     "metadata": {},
     "output_type": "display_data"
    },
    {
     "data": {
      "application/vnd.jupyter.widget-view+json": {
       "model_id": "a6e6b59864ab4f01b8dd33c0b69f422e",
       "version_major": 2,
       "version_minor": 0
      },
      "text/plain": [
       "Generating test split: 0 examples [00:00, ? examples/s]"
      ]
     },
     "metadata": {},
     "output_type": "display_data"
    },
    {
     "data": {
      "text/plain": [
       "Dataset({\n",
       "    features: ['sentence1', 'sentence2', 'label', 'idx'],\n",
       "    num_rows: 408\n",
       "})"
      ]
     },
     "execution_count": 4,
     "metadata": {},
     "output_type": "execute_result"
    }
   ],
   "source": [
    "from datasets import load_dataset\n",
    "dataset = load_dataset('nyu-mll/glue',data_dir=\"mrpc\",split='validation')\n",
    "dataset"
   ]
  },
  {
   "cell_type": "code",
   "execution_count": 5,
   "metadata": {},
   "outputs": [
    {
     "data": {
      "text/plain": [
       "Dataset({\n",
       "    features: ['sentence1', 'sentence2', 'label', 'idx'],\n",
       "    num_rows: 100\n",
       "})"
      ]
     },
     "execution_count": 5,
     "metadata": {},
     "output_type": "execute_result"
    }
   ],
   "source": [
    "from datasets import load_dataset\n",
    "dataset = load_dataset('nyu-mll/glue',data_dir=\"mrpc\",split='train[:100]')\n",
    "dataset"
   ]
  },
  {
   "cell_type": "code",
   "execution_count": 7,
   "metadata": {},
   "outputs": [
    {
     "data": {
      "text/plain": [
       "Dataset({\n",
       "    features: ['sentence1', 'sentence2', 'label', 'idx'],\n",
       "    num_rows: 1834\n",
       "})"
      ]
     },
     "execution_count": 7,
     "metadata": {},
     "output_type": "execute_result"
    }
   ],
   "source": [
    "from datasets import load_dataset\n",
    "dataset = load_dataset('nyu-mll/glue',data_dir=\"mrpc\",split='train[:50%]')\n",
    "dataset"
   ]
  },
  {
   "cell_type": "code",
   "execution_count": 8,
   "metadata": {},
   "outputs": [
    {
     "data": {
      "text/plain": [
       "DatasetDict({\n",
       "    train: Dataset({\n",
       "        features: ['image', 'title', 'descriotion', 'cooking_time', 'author', 'url', 'servings', 'ingredients', 'steps'],\n",
       "        num_rows: 1799\n",
       "    })\n",
       "})"
      ]
     },
     "execution_count": 8,
     "metadata": {},
     "output_type": "execute_result"
    }
   ],
   "source": [
    "from datasets import load_dataset\n",
    "datasets = load_dataset('AWeirdDev/zh-tw-recipes-sm')\n",
    "datasets"
   ]
  },
  {
   "cell_type": "code",
   "execution_count": 10,
   "metadata": {},
   "outputs": [
    {
     "data": {
      "text/plain": [
       "{'image': ['https://imageproxy.icook.network/resize?background=255%2C255%2C255&height=150&nocrop=false&stripmeta=true&type=auto&url=http%3A%2F%2Ftokyo-kitchen.icook.tw.s3.amazonaws.com%2Fuploads%2Frecipe%2Fcover%2F455340%2F7e9435a22d6413f3.jpg&width=200',\n",
       "  'https://imageproxy.icook.network/resize?background=255%2C255%2C255&height=150&nocrop=false&stripmeta=true&type=auto&url=http%3A%2F%2Ftokyo-kitchen.icook.tw.s3.amazonaws.com%2Fuploads%2Frecipe%2Fcover%2F455332%2Fdf1da3e7af336fe3.jpg&width=200'],\n",
       " 'title': ['可樂洋蔥炒牛五花', '古早味海鮮湯麵'],\n",
       " 'descriotion': ['簡單、快速、美味',\n",
       "  '回鄉下老家時，每當親朋好友來拜訪，就會煮一大鍋的”古早味海鮮湯麵”，當正餐、點心或消夜招待，今天以這道古早味海鮮湯麵，加上『「烹大...'],\n",
       " 'cooking_time': [None, None],\n",
       " 'author': ['簡單煮', '廖芬芳'],\n",
       " 'url': ['https://icook.tw/recipes/455340', 'https://icook.tw/recipes/455332'],\n",
       " 'servings': [None, None],\n",
       " 'ingredients': [[{'name': '冷凍牛五花火鍋肉片', 'unit': '12片'},\n",
       "   {'name': '洋蔥切片', 'unit': '1顆'},\n",
       "   {'name': '蔥花（可不加）', 'unit': '適量'},\n",
       "   {'name': '油', 'unit': '10毫升'},\n",
       "   {'name': '白胡椒鹽', 'unit': '適量'},\n",
       "   {'name': '可樂', 'unit': '20'},\n",
       "   {'name': '醬油（7~10ml）', 'unit': '10毫升'},\n",
       "   {'name': '酒', 'unit': '10毫升'}],\n",
       "  [{'name': '鮮蝦', 'unit': '20隻'},\n",
       "   {'name': '透抽', 'unit': '1尾'},\n",
       "   {'name': '香菇', 'unit': '8朵'},\n",
       "   {'name': '蝦米', 'unit': '1小把'},\n",
       "   {'name': '魚餃', 'unit': '8顆'},\n",
       "   {'name': '芹菜', 'unit': '2支'},\n",
       "   {'name': '韮菜', 'unit': '5支'},\n",
       "   {'name': '高麗菜', 'unit': '1/4顆'},\n",
       "   {'name': '乾麵條', 'unit': '300克'},\n",
       "   {'name': '雞蛋', 'unit': '5顆'},\n",
       "   {'name': '烹大師鰹魚風味', 'unit': '1大匙'},\n",
       "   {'name': '烏醋', 'unit': '1大匙'},\n",
       "   {'name': '海鹽', 'unit': '2茶匙'}]],\n",
       " 'steps': ['1. 備料：\\n1.肉片解凍備用\\n2.洋蔥切片、切蔥花\\n料理步驟：\\n使用炒菜鍋，熱鍋加油，下肉片炒至微白，起鍋備用➡️加洋蔥，炒2分鐘➡️加炒過的肉片+調味醬汁+適量白胡椒鹽+蔥花（可不加），炒至醬汁略為收乾，就完成了',\n",
       "  '1. 備好所有食材。\\n2. 起鍋，熱油。\\n3. 炸蛋酥。\\n4. 炸蛋酥，同時，又起一鍋水煮滾。\\n5. 蛋酥炸好撈起，原鍋再爆香，香菇。\\n6. 再加入，蝦米爆香。\\n7. 再加入，魚餃乾煎。\\n8. 香氣撲鼻，再倒入1大匙烏醋嗆味。\\n9. 倒入煮沸騰的開水。\\n10. 乾麵條下鍋。\\n11. 加入，烹大師鰹魚風味1大匙。\\n12. 麵鍋滾後，加入高麗菜，拌勻。\\n13. 加入，鮮蝦。\\n14. 再加入，透抽。\\n15. 再加入，蛋酥。\\n16. 再加入，韮菜段。\\n17. 再加入，芹菜珠，2茶匙海鹽，調味！\\n18. 喇喇勒！色香俱全，鮮甜美味⋯⋯\\n19. 幸福上桌⋯']}"
      ]
     },
     "execution_count": 10,
     "metadata": {},
     "output_type": "execute_result"
    }
   ],
   "source": [
    "datasets['train'][:2]"
   ]
  },
  {
   "cell_type": "code",
   "execution_count": 12,
   "metadata": {},
   "outputs": [
    {
     "data": {
      "text/plain": [
       "['可樂洋蔥炒牛五花', '古早味海鮮湯麵', '鹹蛋蝦仁餛飩', '雪Q餅', '雪q餅']"
      ]
     },
     "execution_count": 12,
     "metadata": {},
     "output_type": "execute_result"
    }
   ],
   "source": [
    "datasets['train']['title'][:5]"
   ]
  },
  {
   "cell_type": "code",
   "execution_count": 13,
   "metadata": {},
   "outputs": [
    {
     "data": {
      "text/plain": [
       "['image',\n",
       " 'title',\n",
       " 'descriotion',\n",
       " 'cooking_time',\n",
       " 'author',\n",
       " 'url',\n",
       " 'servings',\n",
       " 'ingredients',\n",
       " 'steps']"
      ]
     },
     "execution_count": 13,
     "metadata": {},
     "output_type": "execute_result"
    }
   ],
   "source": [
    "datasets['train'].column_names"
   ]
  },
  {
   "cell_type": "code",
   "execution_count": 14,
   "metadata": {},
   "outputs": [
    {
     "data": {
      "text/plain": [
       "{'image': Value(dtype='string', id=None),\n",
       " 'title': Value(dtype='string', id=None),\n",
       " 'descriotion': Value(dtype='string', id=None),\n",
       " 'cooking_time': Value(dtype='string', id=None),\n",
       " 'author': Value(dtype='string', id=None),\n",
       " 'url': Value(dtype='string', id=None),\n",
       " 'servings': Value(dtype='int64', id=None),\n",
       " 'ingredients': [{'name': Value(dtype='string', id=None),\n",
       "   'unit': Value(dtype='string', id=None)}],\n",
       " 'steps': Value(dtype='string', id=None)}"
      ]
     },
     "execution_count": 14,
     "metadata": {},
     "output_type": "execute_result"
    }
   ],
   "source": [
    "datasets['train'].features"
   ]
  }
 ],
 "metadata": {
  "kernelspec": {
   "display_name": "base",
   "language": "python",
   "name": "python3"
  },
  "language_info": {
   "codemirror_mode": {
    "name": "ipython",
    "version": 3
   },
   "file_extension": ".py",
   "mimetype": "text/x-python",
   "name": "python",
   "nbconvert_exporter": "python",
   "pygments_lexer": "ipython3",
   "version": "3.12.8"
  }
 },
 "nbformat": 4,
 "nbformat_minor": 2
}
