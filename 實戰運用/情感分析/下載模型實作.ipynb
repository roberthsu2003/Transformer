{
 "cells": [
  {
   "cell_type": "code",
   "execution_count": 3,
   "metadata": {},
   "outputs": [
    {
     "name": "stderr",
     "output_type": "stream",
     "text": [
      "Device set to use cpu\n"
     ]
    },
    {
     "name": "stdout",
     "output_type": "stream",
     "text": [
      "服務人員都很親切 正評\n",
      "服務人員都不親切 負評\n"
     ]
    }
   ],
   "source": [
    "from transformers import pipeline\n",
    "\n",
    "id2_label = {'LABEL_0':\"負評\",'LABEL_1':\"正評\"}\n",
    "pipe = pipeline('text-classification', model=\"roberthsu2003/for_classification\")\n",
    "\n",
    "sen=\"服務人員都很親切\"\n",
    "print(sen,id2_label[pipe(sen)[0]['label']])\n",
    "\n",
    "sen1=\"服務人員都不親切\"\n",
    "print(sen1,id2_label[pipe(sen1)[0]['label']])"
   ]
  }
 ],
 "metadata": {
  "kernelspec": {
   "display_name": "base",
   "language": "python",
   "name": "python3"
  },
  "language_info": {
   "codemirror_mode": {
    "name": "ipython",
    "version": 3
   },
   "file_extension": ".py",
   "mimetype": "text/x-python",
   "name": "python",
   "nbconvert_exporter": "python",
   "pygments_lexer": "ipython3",
   "version": "3.12.8"
  }
 },
 "nbformat": 4,
 "nbformat_minor": 2
}
