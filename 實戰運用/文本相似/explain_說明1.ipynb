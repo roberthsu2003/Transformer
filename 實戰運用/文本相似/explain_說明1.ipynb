{
 "cells": [
  {
   "cell_type": "markdown",
   "id": "e2a1863b",
   "metadata": {},
   "source": [
    "## 文本相似模型1(Sentence Similarity)\n",
    "- labels是只有0和1,2元分類的解決方案"
   ]
  },
  {
   "cell_type": "markdown",
   "id": "19c3deaa",
   "metadata": {},
   "source": [
    "### 載入相關套件 "
   ]
  },
  {
   "cell_type": "code",
   "execution_count": null,
   "id": "74540d49",
   "metadata": {},
   "outputs": [],
   "source": [
    "from transformers import AutoTokenizer,AutoModelForSequenceClassification,TrainingArguments,Trainer\n",
    "import evaluate\n",
    "from datasets import load_dataset"
   ]
  },
  {
   "cell_type": "code",
   "execution_count": 2,
   "id": "a6019da1",
   "metadata": {},
   "outputs": [
    {
     "data": {
      "text/plain": [
       "DatasetDict({\n",
       "    train: Dataset({\n",
       "        features: ['sentence1', 'sentence2', 'label'],\n",
       "        num_rows: 8000\n",
       "    })\n",
       "    test: Dataset({\n",
       "        features: ['sentence1', 'sentence2', 'label'],\n",
       "        num_rows: 2000\n",
       "    })\n",
       "})"
      ]
     },
     "execution_count": 2,
     "metadata": {},
     "output_type": "execute_result"
    }
   ],
   "source": [
    "datasets = load_dataset('roberthsu2003/for_Sentence_Similarity')\n",
    "datasets"
   ]
  },
  {
   "cell_type": "markdown",
   "id": "9ab1d6d0",
   "metadata": {},
   "source": [
    "### 數據集處理"
   ]
  },
  {
   "cell_type": "code",
   "execution_count": 5,
   "id": "267e173c",
   "metadata": {},
   "outputs": [
    {
     "data": {
      "application/vnd.jupyter.widget-view+json": {
       "model_id": "180f7314fd5b4a29adb421882169406b",
       "version_major": 2,
       "version_minor": 0
      },
      "text/plain": [
       "Map:   0%|          | 0/8000 [00:00<?, ? examples/s]"
      ]
     },
     "metadata": {},
     "output_type": "display_data"
    },
    {
     "data": {
      "application/vnd.jupyter.widget-view+json": {
       "model_id": "81c30bd9fe5044a7ad080bf5a55d142d",
       "version_major": 2,
       "version_minor": 0
      },
      "text/plain": [
       "Map:   0%|          | 0/2000 [00:00<?, ? examples/s]"
      ]
     },
     "metadata": {},
     "output_type": "display_data"
    },
    {
     "data": {
      "text/plain": [
       "DatasetDict({\n",
       "    train: Dataset({\n",
       "        features: ['input_ids', 'token_type_ids', 'attention_mask', 'labels'],\n",
       "        num_rows: 8000\n",
       "    })\n",
       "    test: Dataset({\n",
       "        features: ['input_ids', 'token_type_ids', 'attention_mask', 'labels'],\n",
       "        num_rows: 2000\n",
       "    })\n",
       "})"
      ]
     },
     "execution_count": 5,
     "metadata": {},
     "output_type": "execute_result"
    }
   ],
   "source": [
    "tokenizer = AutoTokenizer.from_pretrained('google-bert/bert-base-chinese')\n",
    "\n",
    "def process_function(examples):\n",
    "    tokenized_examples = tokenizer(examples['sentence1'], examples['sentence2'],max_length=128, truncation=True)\n",
    "    #examples['label']是字串\n",
    "    tokenized_examples['labels'] = [int(label) for label in examples['label']]\n",
    "\n",
    "    return tokenized_examples\n",
    "\n",
    "tokenized_datasets = datasets.map(process_function, batched=True, remove_columns=datasets['train'].column_names)\n",
    "tokenized_datasets"
   ]
  },
  {
   "cell_type": "code",
   "execution_count": 7,
   "id": "23aec502",
   "metadata": {},
   "outputs": [
    {
     "name": "stdout",
     "output_type": "stream",
     "text": [
      "{'attention_mask': [1, 1, 1, 1, 1, 1, 1, 1, 1, 1, 1, 1, 1, 1, 1, 1, 1, 1, 1, 1,\n",
      "                    1, 1, 1, 1],\n",
      " 'input_ids': [101, 4724, 3688, 5601, 4500, 784, 7938, 4277, 2094, 4638, 1962,\n",
      "               8043, 102, 784, 7938, 4277, 2094, 4638, 4724, 3688, 5601, 1962,\n",
      "               8043, 102],\n",
      " 'labels': 1,\n",
      " 'token_type_ids': [0, 0, 0, 0, 0, 0, 0, 0, 0, 0, 0, 0, 0, 1, 1, 1, 1, 1, 1, 1,\n",
      "                    1, 1, 1, 1]}\n"
     ]
    }
   ],
   "source": [
    "from pprint import pprint\n",
    "pprint(tokenized_datasets['train'][0],compact=True)\n"
   ]
  },
  {
   "cell_type": "markdown",
   "id": "883d5632",
   "metadata": {},
   "source": [
    "### 建立模型"
   ]
  },
  {
   "cell_type": "code",
   "execution_count": 9,
   "id": "e4e94b75",
   "metadata": {},
   "outputs": [
    {
     "name": "stderr",
     "output_type": "stream",
     "text": [
      "Some weights of BertForSequenceClassification were not initialized from the model checkpoint at google-bert/bert-base-chinese and are newly initialized: ['classifier.bias', 'classifier.weight']\n",
      "You should probably TRAIN this model on a down-stream task to be able to use it for predictions and inference.\n"
     ]
    }
   ],
   "source": [
    "model = AutoModelForSequenceClassification.from_pretrained('google-bert/bert-base-chinese')"
   ]
  },
  {
   "cell_type": "markdown",
   "id": "6c7b7c4c",
   "metadata": {},
   "source": [
    "### 建立評估函數"
   ]
  },
  {
   "cell_type": "code",
   "execution_count": 14,
   "id": "fe5f34f6",
   "metadata": {},
   "outputs": [],
   "source": [
    "acc_metric = evaluate.load(\"accuracy\")\n",
    "f1_metric = evaluate.load(\"f1\")\n",
    "\n",
    "def eval_metric(eval_predict):\n",
    "    predictions, labels = eval_predict\n",
    "    predictions = predictions.argmax(axis=-1)\n",
    "    acc = acc_metric.compute(predictions=predictions, references=labels)\n",
    "    f1 = f1_metric.compute(predictions=predictions, references=labels)\n",
    "    acc.update(f1)\n",
    "    return acc"
   ]
  },
  {
   "cell_type": "markdown",
   "id": "e83f297e",
   "metadata": {},
   "source": [
    "### 測試評估函是否正確"
   ]
  },
  {
   "cell_type": "code",
   "execution_count": 15,
   "id": "8c90707f",
   "metadata": {},
   "outputs": [
    {
     "name": "stdout",
     "output_type": "stream",
     "text": [
      "測試結果：\n",
      "準確率: 1.000\n",
      "F1分數: 1.000\n"
     ]
    }
   ],
   "source": [
    "# 測試 eval_metric 函數的程式碼\n",
    "import numpy as np\n",
    "\n",
    "# 創建模擬資料\n",
    "mock_predictions = np.array([\n",
    "    [0.7, 0.3],  # 預測第0類的機率0.7，第1類的機率0.3\n",
    "    [0.2, 0.8],\n",
    "    [0.6, 0.4],\n",
    "    [0.1, 0.9],\n",
    "    [0.9, 0.1]\n",
    "])\n",
    "\n",
    "# 創建真實標籤\n",
    "mock_labels = np.array([0, 1, 0, 1, 0])\n",
    "\n",
    "# 測試評估函數\n",
    "result = eval_metric((mock_predictions, mock_labels))\n",
    "print(\"測試結果：\")\n",
    "print(f\"準確率: {result['accuracy']:.3f}\")\n",
    "print(f\"F1分數: {result['f1']:.3f}\")"
   ]
  },
  {
   "cell_type": "markdown",
   "id": "ec743e88",
   "metadata": {},
   "source": [
    "### 建立TrainingArguments"
   ]
  },
  {
   "cell_type": "code",
   "execution_count": null,
   "id": "e8eb6084",
   "metadata": {},
   "outputs": [],
   "source": [
    "train_args = TrainingArguments(\n",
    "    output_dir=\"./sentence_similarity\",\n",
    "    per_device_train_batch_size=32,\n",
    "    per_device_eval_batch_size=32,\n",
    "    logging_steps=50,\n",
    "    eval_strategy=\"epoch\",\n",
    "    save_strategy=\"epoch\",\n",
    "    save_total_limit=3,\n",
    "    learning_rate=2e-5,\n",
    "    weight_decay=0.01,\n",
    "    metric_for_best_model=\"f1\",\n",
    "    load_best_model_at_end=True,\n",
    "    report_to='none')\n"
   ]
  },
  {
   "cell_type": "markdown",
   "id": "971d5955",
   "metadata": {},
   "source": [
    "### 建立Trainer"
   ]
  },
  {
   "cell_type": "code",
   "execution_count": null,
   "id": "ab577f75",
   "metadata": {},
   "outputs": [],
   "source": [
    "from transformers import DataCollatorWithPadding\n",
    "trainer = Trainer(\n",
    "    model = model,\n",
    "    args = train_args,\n",
    "    train_dataset=tokenized_datasets['train'],\n",
    "    eval_dataset=tokenized_datasets['test'],\n",
    "    data_collator=DataCollatorWithPadding(tokenizer=tokenizer),\n",
    "    compute_metrics=eval_metric\n",
    ")"
   ]
  },
  {
   "cell_type": "markdown",
   "id": "5871fe7a",
   "metadata": {},
   "source": [
    "### 模型訓練"
   ]
  },
  {
   "cell_type": "code",
   "execution_count": null,
   "id": "d24c034f",
   "metadata": {},
   "outputs": [],
   "source": [
    "trainer.train()"
   ]
  },
  {
   "cell_type": "markdown",
   "id": "f827759d",
   "metadata": {},
   "source": [
    "### 模型預測"
   ]
  },
  {
   "cell_type": "code",
   "execution_count": null,
   "id": "976c683c",
   "metadata": {},
   "outputs": [],
   "source": [
    "from transformers import pipeline\n",
    "\n",
    "model.config.id2label = {0:'不相似', 1:'相似'}\n",
    "pipe = pipeline(\"text-classification\", model=model, tokenizer=tokenizer, device=0)"
   ]
  },
  {
   "cell_type": "code",
   "execution_count": null,
   "id": "8ee2f0c6",
   "metadata": {},
   "outputs": [],
   "source": [
    "pipe({\"text\":\"我喜歡台北\", \"text_pair\":\"台北是我喜歡的地方\"})"
   ]
  },
  {
   "cell_type": "markdown",
   "id": "7568d9b0",
   "metadata": {},
   "source": [
    "### 不上傳,非完成版\n",
    "- 原因是一次比對1:1,如果比對1:1000000效能會很差"
   ]
  }
 ],
 "metadata": {
  "kernelspec": {
   "display_name": "base",
   "language": "python",
   "name": "python3"
  },
  "language_info": {
   "codemirror_mode": {
    "name": "ipython",
    "version": 3
   },
   "file_extension": ".py",
   "mimetype": "text/x-python",
   "name": "python",
   "nbconvert_exporter": "python",
   "pygments_lexer": "ipython3",
   "version": "3.12.8"
  }
 },
 "nbformat": 4,
 "nbformat_minor": 5
}
