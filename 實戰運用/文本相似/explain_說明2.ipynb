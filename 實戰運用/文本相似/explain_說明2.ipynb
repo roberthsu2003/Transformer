{
  "cells": [
    {
      "cell_type": "code",
      "execution_count": null,
      "id": "Q2JbExgEMDKj",
      "metadata": {
        "id": "Q2JbExgEMDKj"
      },
      "outputs": [],
      "source": [
        "%pip install evaluate\n",
        "%pip install datasets\n",
        "%pip install transformers"
      ]
    },
    {
      "cell_type": "markdown",
      "id": "e2a1863b",
      "metadata": {
        "id": "e2a1863b"
      },
      "source": [
        "## 文本相似模型1(Sentence Similarity)\n",
        "- labels輸入是float\n",
        "- 非最終版"
      ]
    },
    {
      "cell_type": "markdown",
      "id": "19c3deaa",
      "metadata": {
        "id": "19c3deaa"
      },
      "source": [
        "### 載入相關套件"
      ]
    },
    {
      "cell_type": "code",
      "execution_count": 1,
      "id": "74540d49",
      "metadata": {
        "id": "74540d49"
      },
      "outputs": [],
      "source": [
        "from transformers import AutoTokenizer,AutoModelForSequenceClassification,TrainingArguments,Trainer\n",
        "import evaluate\n",
        "from datasets import load_dataset"
      ]
    },
    {
      "cell_type": "code",
      "execution_count": null,
      "id": "a6019da1",
      "metadata": {
        "id": "a6019da1"
      },
      "outputs": [],
      "source": [
        "datasets = load_dataset('roberthsu2003/for_Sentence_Similarity')\n",
        "datasets"
      ]
    },
    {
      "cell_type": "markdown",
      "id": "9ab1d6d0",
      "metadata": {
        "id": "9ab1d6d0"
      },
      "source": [
        "### 數據集處理"
      ]
    },
    {
      "cell_type": "code",
      "execution_count": null,
      "id": "267e173c",
      "metadata": {
        "id": "267e173c"
      },
      "outputs": [],
      "source": [
        "tokenizer = AutoTokenizer.from_pretrained('google-bert/bert-base-chinese')\n",
        "\n",
        "def process_function(examples):\n",
        "    tokenized_examples = tokenizer(examples['sentence1'], examples['sentence2'],max_length=128, truncation=True)\n",
        "    #examples['label']是字串\n",
        "    tokenized_examples['labels'] = [float(label) for label in examples['label']]\n",
        "\n",
        "    return tokenized_examples\n",
        "\n",
        "tokenized_datasets = datasets.map(process_function, batched=True, remove_columns=datasets['train'].column_names)\n",
        "tokenized_datasets"
      ]
    },
    {
      "cell_type": "code",
      "execution_count": null,
      "id": "23aec502",
      "metadata": {
        "id": "23aec502"
      },
      "outputs": [],
      "source": [
        "from pprint import pprint\n",
        "pprint(tokenized_datasets['train'][0],compact=True)\n"
      ]
    },
    {
      "cell_type": "markdown",
      "id": "883d5632",
      "metadata": {
        "id": "883d5632"
      },
      "source": [
        "### 建立模型"
      ]
    },
    {
      "cell_type": "code",
      "execution_count": null,
      "id": "e4e94b75",
      "metadata": {
        "id": "e4e94b75"
      },
      "outputs": [],
      "source": [
        "#num_labels=1變為1\n",
        "from transformers import BertForSequenceClassification\n",
        "model = AutoModelForSequenceClassification.from_pretrained('google-bert/bert-base-chinese',num_labels=1)"
      ]
    },
    {
      "cell_type": "markdown",
      "id": "6c7b7c4c",
      "metadata": {
        "id": "6c7b7c4c"
      },
      "source": [
        "### 建立評估函數"
      ]
    },
    {
      "cell_type": "code",
      "execution_count": null,
      "id": "fe5f34f6",
      "metadata": {
        "id": "fe5f34f6"
      },
      "outputs": [],
      "source": [
        "acc_metric = evaluate.load(\"accuracy\")\n",
        "f1_metric = evaluate.load(\"f1\")\n",
        "\n",
        "def eval_metric(eval_predict):\n",
        "    predictions, labels = eval_predict\n",
        "    #更改,因為只有1個類別\n",
        "    predictions = [int(p > 0.5) for p in predictions]\n",
        "    #將labels的float轉為int\n",
        "    labels = [int(l) for l in labels]\n",
        "    #predictions = predictions.argmax(axis=-1)\n",
        "    acc = acc_metric.compute(predictions=predictions, references=labels)\n",
        "    f1 = f1_metric.compute(predictions=predictions, references=labels)\n",
        "    acc.update(f1)\n",
        "    return acc"
      ]
    },
    {
      "cell_type": "markdown",
      "id": "e83f297e",
      "metadata": {
        "id": "e83f297e"
      },
      "source": [
        "### 測試評估函是否正確"
      ]
    },
    {
      "cell_type": "code",
      "execution_count": null,
      "id": "8c90707f",
      "metadata": {
        "id": "8c90707f"
      },
      "outputs": [],
      "source": [
        "# 測試 eval_metric 函數的程式碼\n",
        "import numpy as np\n",
        "\n",
        "# 創建模擬資料\n",
        "mock_predictions = np.array([\n",
        "    [0.7, 0.3],  # 預測第0類的機率0.7，第1類的機率0.3\n",
        "    [0.2, 0.8],\n",
        "    [0.6, 0.4],\n",
        "    [0.1, 0.9],\n",
        "    [0.9, 0.1]\n",
        "])\n",
        "\n",
        "# 創建真實標籤\n",
        "mock_labels = np.array([0, 1, 0, 1, 0])\n",
        "\n",
        "# 測試評估函數\n",
        "result = eval_metric((mock_predictions, mock_labels))\n",
        "print(\"測試結果：\")\n",
        "print(f\"準確率: {result['accuracy']:.3f}\")\n",
        "print(f\"F1分數: {result['f1']:.3f}\")"
      ]
    },
    {
      "cell_type": "markdown",
      "id": "ec743e88",
      "metadata": {
        "id": "ec743e88"
      },
      "source": [
        "### 建立TrainingArguments"
      ]
    },
    {
      "cell_type": "code",
      "execution_count": null,
      "id": "e8eb6084",
      "metadata": {
        "id": "e8eb6084"
      },
      "outputs": [],
      "source": [
        "train_args = TrainingArguments(\n",
        "    output_dir=\"./sentence_similarity\",\n",
        "    per_device_train_batch_size=32,\n",
        "    per_device_eval_batch_size=32,\n",
        "    logging_steps=50,\n",
        "    eval_strategy=\"epoch\",\n",
        "    save_strategy=\"epoch\",\n",
        "    save_total_limit=3,\n",
        "    learning_rate=2e-5,\n",
        "    weight_decay=0.01,\n",
        "    metric_for_best_model=\"f1\",\n",
        "    load_best_model_at_end=True,\n",
        "    report_to='none')\n"
      ]
    },
    {
      "cell_type": "markdown",
      "id": "971d5955",
      "metadata": {
        "id": "971d5955"
      },
      "source": [
        "### 建立Trainer"
      ]
    },
    {
      "cell_type": "code",
      "execution_count": null,
      "id": "ab577f75",
      "metadata": {
        "id": "ab577f75"
      },
      "outputs": [],
      "source": [
        "from transformers import DataCollatorWithPadding\n",
        "trainer = Trainer(\n",
        "    model = model,\n",
        "    args = train_args,\n",
        "    train_dataset=tokenized_datasets['train'],\n",
        "    eval_dataset=tokenized_datasets['test'],\n",
        "    data_collator=DataCollatorWithPadding(tokenizer=tokenizer),\n",
        "    compute_metrics=eval_metric\n",
        ")"
      ]
    },
    {
      "cell_type": "markdown",
      "id": "5871fe7a",
      "metadata": {
        "id": "5871fe7a"
      },
      "source": [
        "### 模型訓練"
      ]
    },
    {
      "cell_type": "code",
      "execution_count": null,
      "id": "d24c034f",
      "metadata": {
        "id": "d24c034f"
      },
      "outputs": [],
      "source": [
        "trainer.train()"
      ]
    },
    {
      "cell_type": "markdown",
      "id": "f827759d",
      "metadata": {
        "id": "f827759d"
      },
      "source": [
        "### 模型預測"
      ]
    },
    {
      "cell_type": "code",
      "execution_count": null,
      "id": "976c683c",
      "metadata": {
        "id": "976c683c"
      },
      "outputs": [],
      "source": [
        "from transformers import pipeline\n",
        "\n",
        "#model.config.id2label = {0:'不相似', 1:'相似'} #number_label使用為2時\n",
        "pipe = pipeline(\"text-classification\", model=model, tokenizer=tokenizer, device=0)"
      ]
    },
    {
      "cell_type": "code",
      "execution_count": null,
      "id": "8ee2f0c6",
      "metadata": {
        "id": "8ee2f0c6"
      },
      "outputs": [],
      "source": [
        "#手動寫應用的function\n",
        "result = pipe({\"text\":\"我喜歡台北\", \"text_pair\":\"台北是我喜歡的地方\"}, function_to_apply=\"none\")\n",
        "result[\"label\"] = \"相似\" if result[\"score\"] > 0.5 else \"不相似\"\n",
        "result"
      ]
    },
    {
      "cell_type": "markdown",
      "id": "7568d9b0",
      "metadata": {
        "id": "7568d9b0"
      },
      "source": [
        "### 不上傳,非完成版\n",
        "- 原因是一次比對1:1,如果比對1:1000000效能會很差"
      ]
    }
  ],
  "metadata": {
    "accelerator": "GPU",
    "colab": {
      "gpuType": "T4",
      "include_colab_link": true,
      "provenance": []
    },
    "kernelspec": {
      "display_name": "base",
      "language": "python",
      "name": "python3"
    },
    "language_info": {
      "codemirror_mode": {
        "name": "ipython",
        "version": 3
      },
      "file_extension": ".py",
      "mimetype": "text/x-python",
      "name": "python",
      "nbconvert_exporter": "python",
      "pygments_lexer": "ipython3",
      "version": "3.12.8"
    }
  },
  "nbformat": 4,
  "nbformat_minor": 5
}
