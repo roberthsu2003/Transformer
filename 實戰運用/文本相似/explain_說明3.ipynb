{
  "cells": [
    {
      "cell_type": "markdown",
      "metadata": {
        "colab_type": "text",
        "id": "view-in-github"
      },
      "source": [
        "<a href=\"https://colab.research.google.com/github/roberthsu2003/Transformer/blob/main/%E5%AF%A6%E6%88%B0%E9%81%8B%E7%94%A8/%E6%96%87%E6%9C%AC%E7%9B%B8%E4%BC%BC/explain_%E8%AA%AA%E6%98%8E3.ipynb\" target=\"_parent\"><img src=\"https://colab.research.google.com/assets/colab-badge.svg\" alt=\"Open In Colab\"/></a>"
      ]
    },
    {
      "cell_type": "code",
      "execution_count": null,
      "id": "Q2JbExgEMDKj",
      "metadata": {
        "id": "Q2JbExgEMDKj"
      },
      "outputs": [],
      "source": [
        "%pip install evaluate\n",
        "%pip install datasets\n",
        "%pip install transformers"
      ]
    },
    {
      "cell_type": "markdown",
      "id": "e2a1863b",
      "metadata": {
        "id": "e2a1863b"
      },
      "source": [
        "## 文本相似模型-最終版(Sentence Similarity)\n"
      ]
    },
    {
      "cell_type": "markdown",
      "id": "19c3deaa",
      "metadata": {
        "id": "19c3deaa"
      },
      "source": [
        "### 載入相關套件"
      ]
    },
    {
      "cell_type": "code",
      "execution_count": null,
      "id": "74540d49",
      "metadata": {
        "id": "74540d49"
      },
      "outputs": [],
      "source": [
        "from transformers import AutoTokenizer,AutoModelForSequenceClassification,TrainingArguments,Trainer\n",
        "import evaluate\n",
        "from datasets import load_dataset"
      ]
    },
    {
      "cell_type": "code",
      "execution_count": null,
      "id": "a6019da1",
      "metadata": {
        "id": "a6019da1"
      },
      "outputs": [],
      "source": [
        "datasets = load_dataset('roberthsu2003/for_Sentence_Similarity')\n",
        "datasets"
      ]
    },
    {
      "cell_type": "markdown",
      "id": "9ab1d6d0",
      "metadata": {
        "id": "9ab1d6d0"
      },
      "source": [
        "### 數據集處理"
      ]
    },
    {
      "cell_type": "code",
      "execution_count": null,
      "id": "267e173c",
      "metadata": {
        "id": "267e173c"
      },
      "outputs": [],
      "source": [
        "tokenizer = AutoTokenizer.from_pretrained('google-bert/bert-base-chinese')\n",
        "\n",
        "def process_function(examples):\n",
        "    sentences = []\n",
        "    labels = []\n",
        "    for sen1, sen2, label in zip(examples[\"sentence1\"], examples[\"sentence2\"], examples[\"label\"]):\n",
        "        sentences.append(sen1)\n",
        "        sentences.append(sen2)\n",
        "        labels.append(1 if int(label) == 1 else -1)\n",
        "    # input_ids, attention_mask, token_type_ids\n",
        "    tokenized_examples = tokenizer(sentences, max_length=128, truncation=True, padding=\"max_length\")\n",
        "    tokenized_examples = {k: [v[i: i + 2] for i in range(0, len(v), 2)] for k, v in tokenized_examples.items()}\n",
        "    tokenized_examples[\"labels\"] = labels\n",
        "    return tokenized_examples\n",
        "\n",
        "tokenized_datasets = datasets.map(process_function, batched=True, remove_columns=datasets[\"train\"].column_names)\n",
        "tokenized_datasets"
      ]
    },
    {
      "cell_type": "code",
      "execution_count": null,
      "id": "23aec502",
      "metadata": {
        "id": "23aec502"
      },
      "outputs": [],
      "source": [
        "from pprint import pprint\n",
        "pprint(tokenized_datasets['train'][0],compact=True)\n"
      ]
    },
    {
      "cell_type": "markdown",
      "id": "883d5632",
      "metadata": {
        "id": "883d5632"
      },
      "source": [
        "### 建立模型"
      ]
    },
    {
      "cell_type": "code",
      "execution_count": null,
      "id": "e4e94b75",
      "metadata": {
        "id": "e4e94b75"
      },
      "outputs": [],
      "source": [
        "from transformers import BertForSequenceClassification, BertPreTrainedModel, BertModel\n",
        "from typing import Optional\n",
        "from transformers.configuration_utils import PretrainedConfig\n",
        "from torch.nn import CosineSimilarity, CosineEmbeddingLoss\n",
        "import torch\n",
        "\n",
        "class DualModel(BertPreTrainedModel):\n",
        "\n",
        "    def __init__(self, config: PretrainedConfig, *inputs, **kwargs):\n",
        "        super().__init__(config, *inputs, **kwargs)\n",
        "        self.bert = BertModel(config)\n",
        "        self.post_init()\n",
        "\n",
        "    def forward(\n",
        "        self,\n",
        "        input_ids: Optional[torch.Tensor] = None,\n",
        "        attention_mask: Optional[torch.Tensor] = None,\n",
        "        token_type_ids: Optional[torch.Tensor] = None,\n",
        "        position_ids: Optional[torch.Tensor] = None,\n",
        "        head_mask: Optional[torch.Tensor] = None,\n",
        "        inputs_embeds: Optional[torch.Tensor] = None,\n",
        "        labels: Optional[torch.Tensor] = None,\n",
        "        output_attentions: Optional[bool] = None,\n",
        "        output_hidden_states: Optional[bool] = None,\n",
        "        return_dict: Optional[bool] = None,\n",
        "    ):\n",
        "        return_dict = return_dict if return_dict is not None else self.config.use_return_dict\n",
        "\n",
        "        # Step1 分别获取sentenceA 和 sentenceB的输入\n",
        "        senA_input_ids, senB_input_ids = input_ids[:, 0], input_ids[:, 1]\n",
        "        senA_attention_mask, senB_attention_mask = attention_mask[:, 0], attention_mask[:, 1]\n",
        "        senA_token_type_ids, senB_token_type_ids = token_type_ids[:, 0], token_type_ids[:, 1]\n",
        "\n",
        "        # Step2 分别获取sentenceA 和 sentenceB的向量表示\n",
        "        senA_outputs = self.bert(\n",
        "            senA_input_ids,\n",
        "            attention_mask=senA_attention_mask,\n",
        "            token_type_ids=senA_token_type_ids,\n",
        "            position_ids=position_ids,\n",
        "            head_mask=head_mask,\n",
        "            inputs_embeds=inputs_embeds,\n",
        "            output_attentions=output_attentions,\n",
        "            output_hidden_states=output_hidden_states,\n",
        "            return_dict=return_dict,\n",
        "        )\n",
        "\n",
        "        senA_pooled_output = senA_outputs[1]    # [batch, hidden]\n",
        "\n",
        "        senB_outputs = self.bert(\n",
        "            senB_input_ids,\n",
        "            attention_mask=senB_attention_mask,\n",
        "            token_type_ids=senB_token_type_ids,\n",
        "            position_ids=position_ids,\n",
        "            head_mask=head_mask,\n",
        "            inputs_embeds=inputs_embeds,\n",
        "            output_attentions=output_attentions,\n",
        "            output_hidden_states=output_hidden_states,\n",
        "            return_dict=return_dict,\n",
        "        )\n",
        "\n",
        "        senB_pooled_output = senB_outputs[1]    # [batch, hidden]\n",
        "\n",
        "        # step3 计算相似度\n",
        "\n",
        "        cos = CosineSimilarity()(senA_pooled_output, senB_pooled_output)    # [batch, ]\n",
        "\n",
        "        # step4 计算loss\n",
        "\n",
        "        loss = None\n",
        "        if labels is not None:\n",
        "            loss_fct = CosineEmbeddingLoss(0.3)\n",
        "            loss = loss_fct(senA_pooled_output, senB_pooled_output, labels)\n",
        "\n",
        "        output = (cos,)\n",
        "        return ((loss,) + output) if loss is not None else output\n",
        "\n",
        "model = DualModel.from_pretrained('google-bert/bert-base-chinese')"
      ]
    },
    {
      "cell_type": "markdown",
      "id": "6c7b7c4c",
      "metadata": {
        "id": "6c7b7c4c"
      },
      "source": [
        "### 建立評估函數"
      ]
    },
    {
      "cell_type": "code",
      "execution_count": null,
      "id": "fe5f34f6",
      "metadata": {
        "id": "fe5f34f6"
      },
      "outputs": [],
      "source": [
        "acc_metric = evaluate.load(\"accuracy\")\n",
        "f1_metric = evaluate.load(\"f1\")\n",
        "\n",
        "def eval_metric(eval_predict):\n",
        "    predictions, labels = eval_predict\n",
        "    #更改,因為只有1個類別\n",
        "    predictions = [int(p > 0.7) for p in predictions]\n",
        "    #將labels的float轉為int\n",
        "    labels = [int(l>0) for l in labels]\n",
        "    #predictions = predictions.argmax(axis=-1)\n",
        "    acc = acc_metric.compute(predictions=predictions, references=labels)\n",
        "    f1 = f1_metric.compute(predictions=predictions, references=labels)\n",
        "    acc.update(f1)\n",
        "    return acc"
      ]
    },
    {
      "cell_type": "markdown",
      "id": "ec743e88",
      "metadata": {
        "id": "ec743e88"
      },
      "source": [
        "### 建立TrainingArguments"
      ]
    },
    {
      "cell_type": "code",
      "execution_count": null,
      "id": "e8eb6084",
      "metadata": {
        "id": "e8eb6084"
      },
      "outputs": [],
      "source": [
        "train_args = TrainingArguments(\n",
        "    output_dir=\"./sentence_similarity\",\n",
        "    per_device_train_batch_size=32,\n",
        "    per_device_eval_batch_size=32,\n",
        "    logging_steps=50,\n",
        "    eval_strategy=\"epoch\",\n",
        "    save_strategy=\"epoch\",\n",
        "    save_total_limit=3,\n",
        "    learning_rate=2e-5,\n",
        "    weight_decay=0.01,\n",
        "    metric_for_best_model=\"f1\",\n",
        "    load_best_model_at_end=True,\n",
        "    report_to='none')\n"
      ]
    },
    {
      "cell_type": "markdown",
      "id": "971d5955",
      "metadata": {
        "id": "971d5955"
      },
      "source": [
        "### 建立Trainer"
      ]
    },
    {
      "cell_type": "code",
      "execution_count": null,
      "id": "ab577f75",
      "metadata": {
        "id": "ab577f75"
      },
      "outputs": [],
      "source": [
        "from transformers import DataCollatorWithPadding\n",
        "trainer = Trainer(\n",
        "    model = model,\n",
        "    args = train_args,\n",
        "    train_dataset=tokenized_datasets['train'],\n",
        "    eval_dataset=tokenized_datasets['test'],\n",
        "    data_collator=DataCollatorWithPadding(tokenizer=tokenizer),\n",
        "    compute_metrics=eval_metric\n",
        ")"
      ]
    },
    {
      "cell_type": "markdown",
      "id": "5871fe7a",
      "metadata": {
        "id": "5871fe7a"
      },
      "source": [
        "### 模型訓練"
      ]
    },
    {
      "cell_type": "code",
      "execution_count": null,
      "id": "d24c034f",
      "metadata": {
        "id": "d24c034f"
      },
      "outputs": [],
      "source": [
        "trainer.train()"
      ]
    },
    {
      "cell_type": "markdown",
      "id": "f827759d",
      "metadata": {
        "id": "f827759d"
      },
      "source": [
        "### 模型預測"
      ]
    },
    {
      "cell_type": "code",
      "execution_count": null,
      "id": "976c683c",
      "metadata": {
        "id": "976c683c"
      },
      "outputs": [],
      "source": [
        "class SentenceSimilarityPipeline:\n",
        "\n",
        "    def __init__(self, model, tokenizer) -> None:\n",
        "        self.model = model.bert\n",
        "        self.tokenizer = tokenizer\n",
        "        self.device = model.device\n",
        "\n",
        "    def preprocess(self, senA, senB):\n",
        "        return self.tokenizer([senA, senB], max_length=128, truncation=True, return_tensors=\"pt\", padding=True)\n",
        "\n",
        "    def predict(self, inputs):\n",
        "        inputs = {k: v.to(self.device) for k, v in inputs.items()}\n",
        "        return self.model(**inputs)[1]  # [2, 768]\n",
        "\n",
        "    def postprocess(self, logits):\n",
        "        cos = CosineSimilarity()(logits[None, 0, :], logits[None,1, :]).squeeze().cpu().item()\n",
        "        return cos\n",
        "\n",
        "    def __call__(self, senA, senB, return_vector=False):\n",
        "        inputs = self.preprocess(senA, senB)\n",
        "        logits = self.predict(inputs)\n",
        "        result = self.postprocess(logits)\n",
        "        if return_vector:\n",
        "            return result, logits\n",
        "        else:\n",
        "            return result"
      ]
    },
    {
      "cell_type": "code",
      "execution_count": null,
      "id": "a3a3c56c",
      "metadata": {
        "id": "a3a3c56c"
      },
      "outputs": [],
      "source": [
        "pipe = SentenceSimilarityPipeline(model, tokenizer)"
      ]
    },
    {
      "cell_type": "code",
      "execution_count": null,
      "id": "8ee2f0c6",
      "metadata": {
        "id": "8ee2f0c6"
      },
      "outputs": [],
      "source": [
        "\n",
        "pipe(\"我喜歡台北\",\"台北是我喜歡的地方\", return_vector=\"none\")\n"
      ]
    },
    {
      "cell_type": "markdown",
      "id": "_IXD7TOZNsBM",
      "metadata": {
        "id": "_IXD7TOZNsBM"
      },
      "source": [
        "### 上傳模型\n"
      ]
    },
    {
      "cell_type": "code",
      "execution_count": null,
      "id": "pUeVMG-3N29X",
      "metadata": {
        "id": "pUeVMG-3N29X"
      },
      "outputs": [],
      "source": [
        "from huggingface_hub import login\n",
        "login()"
      ]
    },
    {
      "cell_type": "code",
      "execution_count": null,
      "id": "bno-mhlrN4rV",
      "metadata": {
        "id": "bno-mhlrN4rV"
      },
      "outputs": [],
      "source": [
        "trainer.push_to_hub(\"roberthsu2003\")\n",
        "#同時要上傳tokenizer\n",
        "model_name = \"roberthsu2003/sentence_similarity\"\n",
        "tokenizer.push_to_hub(model_name)"
      ]
    }
  ],
  "metadata": {
    "accelerator": "GPU",
    "colab": {
      "gpuType": "T4",
      "include_colab_link": true,
      "provenance": []
    },
    "kernelspec": {
      "display_name": "base",
      "language": "python",
      "name": "python3"
    },
    "language_info": {
      "codemirror_mode": {
        "name": "ipython",
        "version": 3
      },
      "file_extension": ".py",
      "mimetype": "text/x-python",
      "name": "python",
      "nbconvert_exporter": "python",
      "pygments_lexer": "ipython3",
      "version": "3.12.2"
    }
  },
  "nbformat": 4,
  "nbformat_minor": 5
}
