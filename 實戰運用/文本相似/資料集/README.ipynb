{
 "cells": [
  {
   "cell_type": "markdown",
   "id": "ae95c738",
   "metadata": {},
   "source": [
    "- 下載資料集\n",
    "- 簡轉繁\n",
    "- 載入資料集\n",
    "- 上傳資料集"
   ]
  },
  {
   "cell_type": "markdown",
   "id": "52094c66",
   "metadata": {},
   "source": [
    "### 下載簡體資料集\n",
    "https://github.com/CLUEbenchmark/SimCLUE/blob/main/datasets/train_pair_1w.json"
   ]
  },
  {
   "cell_type": "markdown",
   "id": "ea630eab",
   "metadata": {},
   "source": [
    "### 簡轉換\n",
    "- train_pair_1w.json -> train_pair_1w_tw"
   ]
  },
  {
   "cell_type": "code",
   "execution_count": 1,
   "id": "8011fb2f",
   "metadata": {},
   "outputs": [
    {
     "name": "stdout",
     "output_type": "stream",
     "text": [
      "Requirement already satisfied: opencc-python-reimplemented in /opt/conda/lib/python3.12/site-packages (0.1.7)\n",
      "\u001b[33mWARNING: Running pip as the 'root' user can result in broken permissions and conflicting behaviour with the system package manager, possibly rendering your system unusable.It is recommended to use a virtual environment instead: https://pip.pypa.io/warnings/venv. Use the --root-user-action option if you know what you are doing and want to suppress this warning.\u001b[0m\u001b[33m\n",
      "\u001b[0mNote: you may need to restart the kernel to use updated packages.\n"
     ]
    }
   ],
   "source": [
    "%pip install opencc-python-reimplemented"
   ]
  },
  {
   "cell_type": "code",
   "execution_count": 2,
   "id": "7e7ddf25",
   "metadata": {},
   "outputs": [],
   "source": [
    "#初始化繁体转换器\n",
    "from opencc import OpenCC\n",
    "cc = OpenCC('s2twp') # 使用 s2twp 转换器，它能提供更好的转换质量\n",
    "\n",
    "with open(f'train_pair_1w.json', 'r', encoding='utf-8') as f:\n",
    "    data = f.read()\n",
    "    convert_data = cc.convert(data)\n",
    "    with open(f'train_pair_1w_tw.json','w',encoding='utf-8') as file:\n",
    "        file.write(convert_data)\n",
    "    "
   ]
  },
  {
   "cell_type": "markdown",
   "id": "12e27577",
   "metadata": {},
   "source": [
    "### 載入資料集和劃分數據集\n"
   ]
  },
  {
   "cell_type": "code",
   "execution_count": 3,
   "id": "61fd1073",
   "metadata": {},
   "outputs": [
    {
     "data": {
      "application/vnd.jupyter.widget-view+json": {
       "model_id": "b656c964a4814b078e9c591eb24dd317",
       "version_major": 2,
       "version_minor": 0
      },
      "text/plain": [
       "Generating train split: 0 examples [00:00, ? examples/s]"
      ]
     },
     "metadata": {},
     "output_type": "display_data"
    },
    {
     "data": {
      "text/plain": [
       "Dataset({\n",
       "    features: ['sentence1', 'sentence2', 'label'],\n",
       "    num_rows: 10000\n",
       "})"
      ]
     },
     "execution_count": 3,
     "metadata": {},
     "output_type": "execute_result"
    }
   ],
   "source": [
    "from datasets import load_dataset\n",
    "dataset = load_dataset(\"json\", data_files=\"./train_pair_1w_tw.json\", split=\"train\")\n",
    "dataset"
   ]
  },
  {
   "cell_type": "code",
   "execution_count": 4,
   "id": "707d97d1",
   "metadata": {},
   "outputs": [
    {
     "data": {
      "text/plain": [
       "DatasetDict({\n",
       "    train: Dataset({\n",
       "        features: ['sentence1', 'sentence2', 'label'],\n",
       "        num_rows: 8000\n",
       "    })\n",
       "    test: Dataset({\n",
       "        features: ['sentence1', 'sentence2', 'label'],\n",
       "        num_rows: 2000\n",
       "    })\n",
       "})"
      ]
     },
     "execution_count": 4,
     "metadata": {},
     "output_type": "execute_result"
    }
   ],
   "source": [
    "datasets = dataset.train_test_split(test_size=0.2)\n",
    "datasets"
   ]
  },
  {
   "cell_type": "markdown",
   "id": "8951560a",
   "metadata": {},
   "source": [
    "### 上傳資料集"
   ]
  },
  {
   "cell_type": "code",
   "execution_count": 5,
   "id": "cadfaad5",
   "metadata": {},
   "outputs": [
    {
     "data": {
      "application/vnd.jupyter.widget-view+json": {
       "model_id": "9129c15ca6274848bbad8d05fc0bfda6",
       "version_major": 2,
       "version_minor": 0
      },
      "text/plain": [
       "VBox(children=(HTML(value='<center> <img\\nsrc=https://huggingface.co/front/assets/huggingface_logo-noborder.sv…"
      ]
     },
     "metadata": {},
     "output_type": "display_data"
    },
    {
     "data": {
      "application/vnd.jupyter.widget-view+json": {
       "model_id": "b7701ffa4d354cb0a02926994fc14fde",
       "version_major": 2,
       "version_minor": 0
      },
      "text/plain": [
       "Uploading the dataset shards:   0%|          | 0/1 [00:00<?, ?it/s]"
      ]
     },
     "metadata": {},
     "output_type": "display_data"
    },
    {
     "data": {
      "application/vnd.jupyter.widget-view+json": {
       "model_id": "462083c2c0de4741811c7dad357fa22d",
       "version_major": 2,
       "version_minor": 0
      },
      "text/plain": [
       "Creating parquet from Arrow format:   0%|          | 0/8 [00:00<?, ?ba/s]"
      ]
     },
     "metadata": {},
     "output_type": "display_data"
    },
    {
     "data": {
      "application/vnd.jupyter.widget-view+json": {
       "model_id": "41287bbc7b9344c9896c4640c981099f",
       "version_major": 2,
       "version_minor": 0
      },
      "text/plain": [
       "Uploading the dataset shards:   0%|          | 0/1 [00:00<?, ?it/s]"
      ]
     },
     "metadata": {},
     "output_type": "display_data"
    },
    {
     "data": {
      "application/vnd.jupyter.widget-view+json": {
       "model_id": "238b36cb447b41a58b2a1b3c2f00334b",
       "version_major": 2,
       "version_minor": 0
      },
      "text/plain": [
       "Creating parquet from Arrow format:   0%|          | 0/2 [00:00<?, ?ba/s]"
      ]
     },
     "metadata": {},
     "output_type": "display_data"
    },
    {
     "data": {
      "text/plain": [
       "CommitInfo(commit_url='https://huggingface.co/datasets/roberthsu2003/for_Sentence_Similarity/commit/e030cd8ec3be932a5ff0a0a76fa7448dd88f6712', commit_message='Upload dataset', commit_description='', oid='e030cd8ec3be932a5ff0a0a76fa7448dd88f6712', pr_url=None, repo_url=RepoUrl('https://huggingface.co/datasets/roberthsu2003/for_Sentence_Similarity', endpoint='https://huggingface.co', repo_type='dataset', repo_id='roberthsu2003/for_Sentence_Similarity'), pr_revision=None, pr_num=None)"
      ]
     },
     "execution_count": 5,
     "metadata": {},
     "output_type": "execute_result"
    }
   ],
   "source": [
    "from huggingface_hub import HfApi, notebook_login\n",
    "api = HfApi()\n",
    "notebook_login() #this is likely needed for authentication\n",
    "datasets.push_to_hub('roberthsu2003/for_Sentence_Similarity',private=False)"
   ]
  }
 ],
 "metadata": {
  "kernelspec": {
   "display_name": "base",
   "language": "python",
   "name": "python3"
  },
  "language_info": {
   "codemirror_mode": {
    "name": "ipython",
    "version": 3
   },
   "file_extension": ".py",
   "mimetype": "text/x-python",
   "name": "python",
   "nbconvert_exporter": "python",
   "pygments_lexer": "ipython3",
   "version": "3.12.8"
  }
 },
 "nbformat": 4,
 "nbformat_minor": 5
}
