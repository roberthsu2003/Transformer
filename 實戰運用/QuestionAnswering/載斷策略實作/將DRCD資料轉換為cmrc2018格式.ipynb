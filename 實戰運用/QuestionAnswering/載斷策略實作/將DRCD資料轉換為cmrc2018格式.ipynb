{
 "cells": [
  {
   "cell_type": "markdown",
   "metadata": {},
   "source": [
    "## 目標\n",
    "### 1. 將DRDC資料轉換為cmrc2018的格式\n",
    "### 2. 建立huggingface DatasetDict\n",
    "### 3. 上傳到Huggingface DataSet"
   ]
  },
  {
   "cell_type": "markdown",
   "metadata": {},
   "source": [
    "- 繁體中文DRDC,資料結構過於複雜,轉成cmrc2018的格式,會降低複雜度,易於了解資料集的轉換"
   ]
  },
  {
   "cell_type": "code",
   "execution_count": 1,
   "metadata": {},
   "outputs": [
    {
     "data": {
      "application/vnd.jupyter.widget-view+json": {
       "model_id": "6a7841843464471d96cdf0bc8c424917",
       "version_major": 2,
       "version_minor": 0
      },
      "text/plain": [
       "Generating train split: 0 examples [00:00, ? examples/s]"
      ]
     },
     "metadata": {},
     "output_type": "display_data"
    },
    {
     "data": {
      "application/vnd.jupyter.widget-view+json": {
       "model_id": "fb304de6ab5341858e0af7e087e5b278",
       "version_major": 2,
       "version_minor": 0
      },
      "text/plain": [
       "Generating train split: 0 examples [00:00, ? examples/s]"
      ]
     },
     "metadata": {},
     "output_type": "display_data"
    },
    {
     "data": {
      "application/vnd.jupyter.widget-view+json": {
       "model_id": "9b0eaf1f6025470e9f3e3d6de3d9a3dd",
       "version_major": 2,
       "version_minor": 0
      },
      "text/plain": [
       "Generating train split: 0 examples [00:00, ? examples/s]"
      ]
     },
     "metadata": {},
     "output_type": "display_data"
    },
    {
     "name": "stdout",
     "output_type": "stream",
     "text": [
      "DatasetDict({\n",
      "    train: Dataset({\n",
      "        features: ['id', 'context', 'question', 'answers'],\n",
      "        num_rows: 26936\n",
      "    })\n",
      "    validation: Dataset({\n",
      "        features: ['id', 'context', 'question', 'answers'],\n",
      "        num_rows: 3524\n",
      "    })\n",
      "    test: Dataset({\n",
      "        features: ['id', 'context', 'question', 'answers'],\n",
      "        num_rows: 3493\n",
      "    })\n",
      "})\n",
      "{'id': '1001-10-1', 'context': '2010年引進的廣州快速公交運輸系統，屬世界第二大快速公交系統，日常載客量可達100萬人次，高峰時期每小時單向客流高達26900人次，僅次於波哥大的快速交通系統，平均每10秒鐘就有一輛巴士，每輛巴士單向行駛350小時。包括橋樑在內的站台是世界最長的州快速公交運輸系統站台，長達260米。目前廣州市區的計程車和公共汽車主要使用液化石油氣作燃料，部分公共汽車更使用油電、氣電混合動力技術。2012年底開始投放液化天然氣燃料的公共汽車，2014年6月開始投放液化天然氣插電式混合動力公共汽車，以取代液化石油氣公共汽車。2007年1月16日，廣州市政府全面禁止在市區內駕駛摩托車。違反禁令的機動車將會予以沒收。廣州市交通局聲稱禁令的施行，使得交通擁擠問題和車禍大幅減少。廣州白雲國際機場位於白雲區與花都區交界，2004年8月5日正式投入運營，屬中國交通情況第二繁忙的機場。該機場取代了原先位於市中心的無法滿足日益增長航空需求的舊機場。目前機場有三條飛機跑道，成為國內第三個擁有三跑道的民航機場。比鄰近的香港國際機場第三跑道預計的2023年落成早8年。', 'question': '廣州的快速公交運輸系統每多久就會有一輛巴士？', 'answers': {'answer_start': [84], 'text': ['10秒鐘']}}\n"
     ]
    }
   ],
   "source": [
    "import json\n",
    "from datasets import Dataset, DatasetDict\n",
    "from pprint import pprint\n",
    "\n",
    "def convert_to_cmrc2018(input_file, output_file):\n",
    "    \"\"\"Converts a DRCD JSON file to cmrc2018 format, removing the 'data' key.\"\"\"\n",
    "\n",
    "    data = []\n",
    "    with open(input_file, 'r', encoding='utf-8') as f:\n",
    "        drcd_data = json.load(f)['data']  # Load the data\n",
    "        for article in drcd_data:\n",
    "            for paragraph in article['paragraphs']:\n",
    "                for qa in paragraph['qas']:\n",
    "                    cmrc_example = {\n",
    "                        'id': qa['id'],\n",
    "                        'context': paragraph['context'],\n",
    "                        'question': qa['question'],\n",
    "                        'answers': {\n",
    "                            'text': [qa['answers'][0]['text']],  # Only the first answer\n",
    "                            'answer_start': [qa['answers'][0]['answer_start']]\n",
    "                        }\n",
    "                    }\n",
    "                    data.append(cmrc_example)\n",
    "\n",
    "    with open(output_file, 'w', encoding='utf-8') as f:\n",
    "        json.dump(data, f, ensure_ascii=False, indent=4) # Directly dump the list\n",
    "\n",
    "\n",
    "# Convert your files\n",
    "convert_to_cmrc2018('DRCD_training.json', 'cmrc2018_train.json')\n",
    "convert_to_cmrc2018('DRCD_dev.json', 'cmrc2018_dev.json')\n",
    "convert_to_cmrc2018('DRCD_test.json', 'cmrc2018_test.json')\n",
    "\n",
    "\n",
    "# Create a DatasetDict (rest of the code remains unchanged)\n",
    "train_dataset = Dataset.from_json('cmrc2018_train.json')\n",
    "validation_dataset = Dataset.from_json('cmrc2018_dev.json')\n",
    "test_dataset = Dataset.from_json('cmrc2018_test.json')\n",
    "\n",
    "datasets = DatasetDict({\n",
    "    'train': train_dataset,\n",
    "    'validation': validation_dataset,\n",
    "    'test': test_dataset\n",
    "})\n",
    "\n",
    "# Prepare for Hugging Face upload (requires authentication)\n",
    "# You'll need a Hugging Face account and an access token.\n",
    "\n",
    "# from huggingface_hub import login\n",
    "# login() #  Login to Hugging Face, follow the instructions\n",
    "\n",
    "# from huggingface_hub import upload_dataset\n",
    "# upload_dataset(dataset, \"your-huggingface-username/your-dataset-name\", token=\"your-huggingface-token\")\n",
    "print(datasets)\n",
    "print(datasets[\"train\"][0])\n",
    "\n"
   ]
  },
  {
   "cell_type": "markdown",
   "metadata": {},
   "source": [
    "### 將資料上傳至huggingface\n"
   ]
  },
  {
   "cell_type": "code",
   "execution_count": 3,
   "metadata": {},
   "outputs": [
    {
     "data": {
      "application/vnd.jupyter.widget-view+json": {
       "model_id": "b369ec2f4ca54b1f9c4f09323a70493e",
       "version_major": 2,
       "version_minor": 0
      },
      "text/plain": [
       "VBox(children=(HTML(value='<center> <img\\nsrc=https://huggingface.co/front/assets/huggingface_logo-noborder.sv…"
      ]
     },
     "metadata": {},
     "output_type": "display_data"
    },
    {
     "data": {
      "application/vnd.jupyter.widget-view+json": {
       "model_id": "124ff88fe4e04d378462a0b5403a05e8",
       "version_major": 2,
       "version_minor": 0
      },
      "text/plain": [
       "Uploading the dataset shards:   0%|          | 0/1 [00:00<?, ?it/s]"
      ]
     },
     "metadata": {},
     "output_type": "display_data"
    },
    {
     "data": {
      "application/vnd.jupyter.widget-view+json": {
       "model_id": "032fae9a823a4f62a36bbfdffcd420d0",
       "version_major": 2,
       "version_minor": 0
      },
      "text/plain": [
       "Creating parquet from Arrow format:   0%|          | 0/27 [00:00<?, ?ba/s]"
      ]
     },
     "metadata": {},
     "output_type": "display_data"
    },
    {
     "data": {
      "application/vnd.jupyter.widget-view+json": {
       "model_id": "1edfa5142b3549369cb7a19934973d5b",
       "version_major": 2,
       "version_minor": 0
      },
      "text/plain": [
       "Uploading the dataset shards:   0%|          | 0/1 [00:00<?, ?it/s]"
      ]
     },
     "metadata": {},
     "output_type": "display_data"
    },
    {
     "data": {
      "application/vnd.jupyter.widget-view+json": {
       "model_id": "ddea959438674896a93a5f4df075eb6d",
       "version_major": 2,
       "version_minor": 0
      },
      "text/plain": [
       "Creating parquet from Arrow format:   0%|          | 0/4 [00:00<?, ?ba/s]"
      ]
     },
     "metadata": {},
     "output_type": "display_data"
    },
    {
     "data": {
      "application/vnd.jupyter.widget-view+json": {
       "model_id": "2c053a9474ee48dca54f5deb24e68f64",
       "version_major": 2,
       "version_minor": 0
      },
      "text/plain": [
       "Uploading the dataset shards:   0%|          | 0/1 [00:00<?, ?it/s]"
      ]
     },
     "metadata": {},
     "output_type": "display_data"
    },
    {
     "data": {
      "application/vnd.jupyter.widget-view+json": {
       "model_id": "3455367b92d44e419a33b3a452c16259",
       "version_major": 2,
       "version_minor": 0
      },
      "text/plain": [
       "Creating parquet from Arrow format:   0%|          | 0/4 [00:00<?, ?ba/s]"
      ]
     },
     "metadata": {},
     "output_type": "display_data"
    },
    {
     "data": {
      "text/plain": [
       "CommitInfo(commit_url='https://huggingface.co/datasets/roberthsu2003/for_MRC_QA/commit/cc8019be74843a25670b39badb64f6135ec9e97c', commit_message='Upload dataset', commit_description='', oid='cc8019be74843a25670b39badb64f6135ec9e97c', pr_url=None, repo_url=RepoUrl('https://huggingface.co/datasets/roberthsu2003/for_MRC_QA', endpoint='https://huggingface.co', repo_type='dataset', repo_id='roberthsu2003/for_MRC_QA'), pr_revision=None, pr_num=None)"
      ]
     },
     "execution_count": 3,
     "metadata": {},
     "output_type": "execute_result"
    }
   ],
   "source": [
    "from huggingface_hub import HfApi, notebook_login\n",
    "api = HfApi()\n",
    "notebook_login() #this is likely needed for authentication\n",
    "datasets.push_to_hub('roberthsu2003/for_MRC_QA',private=False)"
   ]
  }
 ],
 "metadata": {
  "kernelspec": {
   "display_name": "base",
   "language": "python",
   "name": "python3"
  },
  "language_info": {
   "codemirror_mode": {
    "name": "ipython",
    "version": 3
   },
   "file_extension": ".py",
   "mimetype": "text/x-python",
   "name": "python",
   "nbconvert_exporter": "python",
   "pygments_lexer": "ipython3",
   "version": "3.12.8"
  }
 },
 "nbformat": 4,
 "nbformat_minor": 2
}
