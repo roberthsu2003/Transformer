{
 "cells": [
  {
   "cell_type": "code",
   "execution_count": 10,
   "metadata": {},
   "outputs": [
    {
     "name": "stderr",
     "output_type": "stream",
     "text": [
      "Device set to use cpu\n"
     ]
    },
    {
     "name": "stdout",
     "output_type": "stream",
     "text": [
      "[{'entity_group': 'LOC', 'score': np.float32(0.9980444), 'word': '美 國', 'start': 0, 'end': 2}, {'entity_group': 'PER', 'score': np.float32(0.9996342), 'word': '魯 比 歐', 'start': 5, 'end': 8}, {'entity_group': 'PER', 'score': np.float32(0.99959224), 'word': '卡 拉 斯', 'start': 10, 'end': 13}, {'entity_group': 'LOC', 'score': np.float32(0.9995218), 'word': '歐 洲', 'start': 16, 'end': 18}, {'entity_group': 'LOC', 'score': np.float32(0.9993503), 'word': '美 國', 'start': 78, 'end': 80}, {'entity_group': 'PER', 'score': np.float32(0.9975341), 'word': '川 普', 'start': 82, 'end': 84}]\n"
     ]
    },
    {
     "data": {
      "text/plain": [
       "{'LOC': ['美國', '歐洲', '美國'], 'PER': ['魯比歐', '卡拉斯', '川普']}"
      ]
     },
     "execution_count": 10,
     "metadata": {},
     "output_type": "execute_result"
    }
   ],
   "source": [
    "from transformers import pipeline\n",
    "ner_pipe = pipeline('token-classification', model='roberthsu2003/models_for_ner',aggregation_strategy='simple')\n",
    "inputs = '美國國務卿魯比歐反駁卡拉斯和其他歐洲領袖，他表示，「這些人只是在玩無聊的把戲與說這些話，他們的退場戰略是什麼？這個星球上唯一正積極嘗試結束這場衝突的人，就是美國總統川普，我們應該幫助他實現」。'\n",
    "res = ner_pipe(inputs)\n",
    "print(res)\n",
    "res_result = {}\n",
    "for r in res:\n",
    "    entity_name = r['entity_group']\n",
    "    start = r['start']\n",
    "    end = r['end']\n",
    "    if entity_name not in res_result:\n",
    "        res_result[entity_name] = []\n",
    "    res_result[entity_name].append(inputs[start:end])\n",
    "\n",
    "res_result"
   ]
  },
  {
   "cell_type": "code",
   "execution_count": 32,
   "metadata": {},
   "outputs": [
    {
     "data": {
      "text/plain": [
       "['O', 'B-PER', 'I-PER', 'B-ORG', 'I-ORG', 'B-LOC', 'I-LOC']"
      ]
     },
     "execution_count": 32,
     "metadata": {},
     "output_type": "execute_result"
    }
   ],
   "source": [
    "from transformers import AutoModelForTokenClassification, AutoTokenizer\n",
    "import numpy as np\n",
    "\n",
    "model = AutoModelForTokenClassification.from_pretrained('roberthsu2003/models_for_ner')\n",
    "tokenizer = AutoTokenizer.from_pretrained('roberthsu2003/models_for_ner')\n",
    "label_list = list(model.config.id2label.values())\n",
    "label_list"
   ]
  },
  {
   "cell_type": "code",
   "execution_count": 46,
   "metadata": {},
   "outputs": [
    {
     "name": "stdout",
     "output_type": "stream",
     "text": [
      "[[0 1 2 2 0 0 0 0 5 6 0 0 0]]\n",
      "[None, 0, 1, 2, 3, 3, 3, 4, 5, 6, 7, 8, None]\n",
      "[(0, 3, 'PER'), (7, 9, 'LOC')]\n",
      "Entities:\n",
      "- 徐國堂:PER\n",
      "- 台北:LOC\n"
     ]
    }
   ],
   "source": [
    "from pprint import pprint\n",
    "def predict_ner(text):\n",
    "    inputs = tokenizer(text,truncation=True,padding=True,return_tensors='pt')\n",
    "    outputs = model(**inputs)\n",
    "    predictions = np.argmax(outputs.logits.detach().numpy(),axis=-1)\n",
    "    print(predictions)\n",
    "    word_ids = inputs.word_ids()\n",
    "    print(word_ids)\n",
    "\n",
    "    pred_tags = []\n",
    "    for word_id, pred in zip(word_ids, predictions[0]):\n",
    "        if word_id is None:\n",
    "            continue\n",
    "        pred_tags.append(label_list[pred])\n",
    "    return pred_tags\n",
    "\n",
    "def get_entities(tags):\n",
    "    entities = []\n",
    "    start_index = -1\n",
    "    current_entity_type = None\n",
    "    for i, tag in enumerate(tags):\n",
    "        if tag != 'O':\n",
    "            if start_index == -1:\n",
    "                start_index = i\n",
    "                current_entity_type = tag[2:]\n",
    "        else: #tag == 'O'\n",
    "            if start_index != -1:\n",
    "                entities.append((start_index, i, current_entity_type))\n",
    "                start_index = -1\n",
    "                current_entity_type = None    \n",
    "\n",
    "    if start_index != -1:\n",
    "        entities.append((start_index, len(tags), current_entity_type))\n",
    "    return entities\n",
    "\n",
    "text = \"徐國堂 interest to 台北上班\"\n",
    "ner_tags = predict_ner(text)\n",
    "entities = get_entities(ner_tags)\n",
    "print(entities)\n",
    "word_tokens = tokenizer.tokenize(text)\n",
    "print(f'Entities:')\n",
    "for start, end, entity_type in entities:\n",
    "    entity_text = \"\".join(word_tokens[start:end])\n",
    "    print(f\"- {entity_text}:{entity_type}\")\n"
   ]
  }
 ],
 "metadata": {
  "kernelspec": {
   "display_name": "base",
   "language": "python",
   "name": "python3"
  },
  "language_info": {
   "codemirror_mode": {
    "name": "ipython",
    "version": 3
   },
   "file_extension": ".py",
   "mimetype": "text/x-python",
   "name": "python",
   "nbconvert_exporter": "python",
   "pygments_lexer": "ipython3",
   "version": "3.12.8"
  }
 },
 "nbformat": 4,
 "nbformat_minor": 2
}
