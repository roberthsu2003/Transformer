{
 "cells": [
  {
   "cell_type": "markdown",
   "id": "ac777bf6",
   "metadata": {},
   "source": [
    "### 使用Owners_Manual.pdf,產生的csv檔\n",
    "### 上傳至huggingface的dataset\n"
   ]
  },
  {
   "cell_type": "code",
   "execution_count": 2,
   "id": "1014cca7",
   "metadata": {},
   "outputs": [
    {
     "data": {
      "application/vnd.jupyter.widget-view+json": {
       "model_id": "aa30b26dfb714f70a94df4e012d678af",
       "version_major": 2,
       "version_minor": 0
      },
      "text/plain": [
       "Generating train split: 0 examples [00:00, ? examples/s]"
      ]
     },
     "metadata": {},
     "output_type": "display_data"
    },
    {
     "data": {
      "text/plain": [
       "DatasetDict({\n",
       "    train: Dataset({\n",
       "        features: ['question', 'answering'],\n",
       "        num_rows: 123\n",
       "    })\n",
       "})"
      ]
     },
     "execution_count": 2,
     "metadata": {},
     "output_type": "execute_result"
    }
   ],
   "source": [
    "from datasets import load_dataset\n",
    "datasets = load_dataset('csv',data_files='Tesla_Model3_manual.csv')\n",
    "datasets"
   ]
  },
  {
   "cell_type": "code",
   "execution_count": 5,
   "id": "f0f77ed1",
   "metadata": {},
   "outputs": [
    {
     "data": {
      "text/plain": [
       "{'question': '如何查看 Model 3 最新的車主手冊資訊？',\n",
       " 'answering': '您可以透過輕觸車輛觸控螢幕上的應用程式啟動工具，並選取「手冊」應用程式來查看最新且專屬於您車輛的車主手冊。[source: 309]'}"
      ]
     },
     "execution_count": 5,
     "metadata": {},
     "output_type": "execute_result"
    }
   ],
   "source": [
    "datasets['train'][0]"
   ]
  },
  {
   "cell_type": "code",
   "execution_count": 6,
   "id": "d329eff0",
   "metadata": {},
   "outputs": [
    {
     "data": {
      "application/vnd.jupyter.widget-view+json": {
       "model_id": "dc681f560ec54ad697e4c730a4a7a37f",
       "version_major": 2,
       "version_minor": 0
      },
      "text/plain": [
       "VBox(children=(HTML(value='<center> <img\\nsrc=https://huggingface.co/front/assets/huggingface_logo-noborder.sv…"
      ]
     },
     "metadata": {},
     "output_type": "display_data"
    }
   ],
   "source": [
    "from huggingface_hub import login\n",
    "login()"
   ]
  },
  {
   "cell_type": "code",
   "execution_count": 7,
   "id": "8bf235e7",
   "metadata": {},
   "outputs": [
    {
     "data": {
      "application/vnd.jupyter.widget-view+json": {
       "model_id": "f96157a283694820b018d30adee8a0e5",
       "version_major": 2,
       "version_minor": 0
      },
      "text/plain": [
       "Uploading the dataset shards:   0%|          | 0/1 [00:00<?, ?it/s]"
      ]
     },
     "metadata": {},
     "output_type": "display_data"
    },
    {
     "data": {
      "application/vnd.jupyter.widget-view+json": {
       "model_id": "0541a09de86e4141a26519503e623761",
       "version_major": 2,
       "version_minor": 0
      },
      "text/plain": [
       "Creating parquet from Arrow format:   0%|          | 0/1 [00:00<?, ?ba/s]"
      ]
     },
     "metadata": {},
     "output_type": "display_data"
    },
    {
     "data": {
      "text/plain": [
       "CommitInfo(commit_url='https://huggingface.co/datasets/roberthsu2003/data_for_RAG/commit/dd7f998d7a97954b979acd04afe3da1d34df45a6', commit_message='Upload dataset', commit_description='', oid='dd7f998d7a97954b979acd04afe3da1d34df45a6', pr_url=None, repo_url=RepoUrl('https://huggingface.co/datasets/roberthsu2003/data_for_RAG', endpoint='https://huggingface.co', repo_type='dataset', repo_id='roberthsu2003/data_for_RAG'), pr_revision=None, pr_num=None)"
      ]
     },
     "execution_count": 7,
     "metadata": {},
     "output_type": "execute_result"
    }
   ],
   "source": [
    "datasets.push_to_hub('roberthsu2003/data_for_RAG')"
   ]
  }
 ],
 "metadata": {
  "kernelspec": {
   "display_name": "base",
   "language": "python",
   "name": "python3"
  },
  "language_info": {
   "codemirror_mode": {
    "name": "ipython",
    "version": 3
   },
   "file_extension": ".py",
   "mimetype": "text/x-python",
   "name": "python",
   "nbconvert_exporter": "python",
   "pygments_lexer": "ipython3",
   "version": "3.12.8"
  }
 },
 "nbformat": 4,
 "nbformat_minor": 5
}
