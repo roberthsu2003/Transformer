{
 "cells": [
  {
   "cell_type": "code",
   "execution_count": 1,
   "metadata": {},
   "outputs": [
    {
     "data": {
      "application/vnd.jupyter.widget-view+json": {
       "model_id": "e6bb783c9dfd46dda5fc4dac579c22e1",
       "version_major": 2,
       "version_minor": 0
      },
      "text/plain": [
       "Map:   0%|          | 0/5856 [00:00<?, ? examples/s]"
      ]
     },
     "metadata": {},
     "output_type": "display_data"
    },
    {
     "data": {
      "application/vnd.jupyter.widget-view+json": {
       "model_id": "6640dfd176454c79a3d67602e6db2ab4",
       "version_major": 2,
       "version_minor": 0
      },
      "text/plain": [
       "Map:   0%|          | 0/1825 [00:00<?, ? examples/s]"
      ]
     },
     "metadata": {},
     "output_type": "display_data"
    },
    {
     "name": "stderr",
     "output_type": "stream",
     "text": [
      "Some weights of BertForMultipleChoice were not initialized from the model checkpoint at google-bert/bert-base-chinese and are newly initialized: ['classifier.bias', 'classifier.weight']\n",
      "You should probably TRAIN this model on a down-stream task to be able to use it for predictions and inference.\n"
     ]
    }
   ],
   "source": [
    "import evaluate\n",
    "from datasets import load_dataset\n",
    "from transformers import AutoTokenizer, Trainer, TrainingArguments, AutoModelForMultipleChoice\n",
    "import numpy as np\n",
    "\n",
    "# Load the dataset\n",
    "datasets = load_dataset('roberthsu2003/for_Multiple_Choice')\n",
    "\n",
    "# Load the tokenizer\n",
    "tokenizer = AutoTokenizer.from_pretrained('google-bert/bert-base-chinese')\n",
    "\n",
    "# Process function\n",
    "def process_function(examples):\n",
    "    contexts = []\n",
    "    question_choice = []\n",
    "    labels = []\n",
    "    for idx in range(len(examples[\"context\"])):\n",
    "        ctx = examples['context'][idx]\n",
    "        question = examples['question'][idx]\n",
    "\n",
    "        choices = examples[\"choices\"][idx]\n",
    "        for choice in choices:\n",
    "            contexts.append(ctx)\n",
    "            question_choice.append(question + \" \" + choice)\n",
    "\n",
    "        if len(choices) < 4:\n",
    "            for _ in range(4 - len(choices)):\n",
    "                contexts.append(ctx)\n",
    "                question_choice.append(question + \" \" + \"不知道\")\n",
    "        answer = examples['answer'][idx]\n",
    "        labels.append(choices.index(answer))\n",
    "    tokenizer_example = tokenizer(contexts, question_choice, truncation=\"only_first\", max_length=256, padding=\"max_length\")\n",
    "    tokenized_example = {k: [v[i:i+4] for i in range(0,len(v),4)] for k, v in tokenizer_example.items()}\n",
    "    tokenized_example['labels'] = labels #add labels\n",
    "    return tokenized_example\n",
    "\n",
    "# Tokenize the dataset\n",
    "tokenized_c3 = datasets.map(process_function, batched=True, remove_columns=datasets['train'].column_names)\n",
    "\n",
    "# Load the model\n",
    "model = AutoModelForMultipleChoice.from_pretrained('google-bert/bert-base-chinese')\n",
    "\n",
    "# Evaluation metric\n",
    "accuracy = evaluate.load(\"accuracy\")\n",
    "\n",
    "def compute_metric(pred):\n",
    "    predictions, labels = pred\n",
    "    predictions = np.argmax(predictions, axis=-1)\n",
    "    return accuracy.compute(predictions=predictions, references=labels)\n",
    "\n",
    "# Training arguments\n",
    "args = TrainingArguments(\n",
    "    output_dir=\"./multiple_choice\",\n",
    "    per_device_train_batch_size=16,  # Because it's 3D, 16*4=64, the actual batch size will be 64\n",
    "    per_device_eval_batch_size=16,\n",
    "    num_train_epochs=3,\n",
    "    logging_steps=50,\n",
    "    eval_strategy=\"epoch\",\n",
    "    save_strategy=\"epoch\",\n",
    "    load_best_model_at_end=True,\n",
    "    fp16=True,\n",
    "    report_to='none'\n",
    ")\n",
    "\n",
    "# Trainer\n",
    "trainer = Trainer(\n",
    "    model=model,\n",
    "    args=args,\n",
    "    train_dataset=tokenized_c3['train'],\n",
    "    eval_dataset=tokenized_c3['validation'],\n",
    "    compute_metrics=compute_metric\n",
    ")\n",
    "\n",
    "# Train the model\n",
    "#trainer.train()\n"
   ]
  }
 ],
 "metadata": {
  "kernelspec": {
   "display_name": "base",
   "language": "python",
   "name": "python3"
  },
  "language_info": {
   "codemirror_mode": {
    "name": "ipython",
    "version": 3
   },
   "file_extension": ".py",
   "mimetype": "text/x-python",
   "name": "python",
   "nbconvert_exporter": "python",
   "pygments_lexer": "ipython3",
   "version": "3.12.8"
  }
 },
 "nbformat": 4,
 "nbformat_minor": 2
}
