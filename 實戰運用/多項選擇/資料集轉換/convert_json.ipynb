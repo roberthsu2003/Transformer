{
 "cells": [
  {
   "cell_type": "code",
   "execution_count": null,
   "metadata": {},
   "outputs": [],
   "source": [
    "!pip install opencc-python-reimplemented"
   ]
  },
  {
   "cell_type": "code",
   "execution_count": 2,
   "metadata": {},
   "outputs": [],
   "source": [
    "import json\n",
    "import os\n",
    "from opencc import OpenCC"
   ]
  },
  {
   "cell_type": "code",
   "execution_count": 3,
   "metadata": {},
   "outputs": [],
   "source": [
    "# 创建目标文件夹\n",
    "os.makedirs(\"c3_tw\", exist_ok=True)"
   ]
  },
  {
   "cell_type": "code",
   "execution_count": 4,
   "metadata": {},
   "outputs": [],
   "source": [
    "#初始化繁体转换器\n",
    "cc = OpenCC('s2twp') # 使用 s2twp 转换器，它能提供更好的转换质量"
   ]
  },
  {
   "cell_type": "code",
   "execution_count": 7,
   "metadata": {},
   "outputs": [],
   "source": [
    "files = [\"test1.1.json\", \"test1.0.json\", \"d-dev.json\", \"d-train.json\", \"m-dev.json\", \"m-train.json\"]"
   ]
  },
  {
   "cell_type": "code",
   "execution_count": 6,
   "metadata": {},
   "outputs": [],
   "source": [
    "def convert_to_traditional(data, cc):\n",
    "    \"\"\"递归地将简体中文转换为繁体中文\"\"\"\n",
    "    if isinstance(data, str):\n",
    "        return cc.convert(data)\n",
    "    elif isinstance(data, list):\n",
    "        return [convert_to_traditional(item, cc) for item in data]\n",
    "    elif isinstance(data, dict):\n",
    "        return {key: convert_to_traditional(value, cc) for key, value in data.items()}\n",
    "    else:\n",
    "        return data"
   ]
  },
  {
   "cell_type": "code",
   "execution_count": 9,
   "metadata": {},
   "outputs": [
    {
     "name": "stdout",
     "output_type": "stream",
     "text": [
      "已成功将 test1.1.json 转换为繁体中文并保存到 c3_tw 文件夹。\n",
      "已成功将 test1.0.json 转换为繁体中文并保存到 c3_tw 文件夹。\n",
      "已成功将 d-dev.json 转换为繁体中文并保存到 c3_tw 文件夹。\n",
      "已成功将 d-train.json 转换为繁体中文并保存到 c3_tw 文件夹。\n",
      "已成功将 m-dev.json 转换为繁体中文并保存到 c3_tw 文件夹。\n",
      "已成功将 m-train.json 转换为繁体中文并保存到 c3_tw 文件夹。\n"
     ]
    }
   ],
   "source": [
    "for file in files:\n",
    "    try:\n",
    "        with open(f\"c3_cn/{file}\", 'r', encoding='utf-8') as f:\n",
    "            data = json.load(f)\n",
    "\n",
    "        # 遍历数据并进行繁体转换\n",
    "        converted_data = convert_to_traditional(data, cc)\n",
    "\n",
    "        # 保存转换后的数据\n",
    "        with open(os.path.join(\"c3_tw\", file), 'w', encoding='utf-8') as outfile:\n",
    "            json.dump(converted_data, outfile, ensure_ascii=False, indent=4)  # indent=4 用于格式化输出\n",
    "        print(f\"已成功将 {file} 转换为繁体中文并保存到 c3_tw 文件夹。\")\n",
    "\n",
    "    except FileNotFoundError:\n",
    "        print(f\"未找到文件: {file}\")\n",
    "    except json.JSONDecodeError:\n",
    "        print(f\"文件 {file} 解析失败，请检查文件格式。\")\n",
    "    except Exception as e:\n",
    "        print(f\"转换文件 {file} 发生错误: {e}\")"
   ]
  }
 ],
 "metadata": {
  "kernelspec": {
   "display_name": "base",
   "language": "python",
   "name": "python3"
  },
  "language_info": {
   "codemirror_mode": {
    "name": "ipython",
    "version": 3
   },
   "file_extension": ".py",
   "mimetype": "text/x-python",
   "name": "python",
   "nbconvert_exporter": "python",
   "pygments_lexer": "ipython3",
   "version": "3.12.8"
  }
 },
 "nbformat": 4,
 "nbformat_minor": 2
}
