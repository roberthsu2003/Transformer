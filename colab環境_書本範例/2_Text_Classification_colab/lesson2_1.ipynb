{
 "cells": [
  {
   "cell_type": "markdown",
   "metadata": {},
   "source": [
    "**安裝套件**\n",
    "```\n",
    "conda install -c huggingface -c conda-forge datasets\n",
    "```"
   ]
  },
  {
   "cell_type": "markdown",
   "metadata": {},
   "source": [
    "## 主題: A First Look at Hugging Face Datasets"
   ]
  },
  {
   "cell_type": "code",
   "execution_count": 1,
   "metadata": {},
   "outputs": [
    {
     "name": "stderr",
     "output_type": "stream",
     "text": [
      "/home/pi/miniforge3/envs/huggingFace/lib/python3.9/site-packages/tqdm/auto.py:21: TqdmWarning: IProgress not found. Please update jupyter and ipywidgets. See https://ipywidgets.readthedocs.io/en/stable/user_install.html\n",
      "  from .autonotebook import tqdm as notebook_tqdm\n"
     ]
    },
    {
     "name": "stdout",
     "output_type": "stream",
     "text": [
      "There are 230744 datasets currently available on the Hub\n",
      "The first 10 are:[DatasetInfo(id='neuralwork/arxiver', author='neuralwork', sha='625e142ff19f394ab3e10ad79de6695af4b62267', created_at=datetime.datetime(2024, 10, 14, 12, 21, 13, tzinfo=datetime.timezone.utc), last_modified=datetime.datetime(2024, 10, 20, 16, 34, 57, tzinfo=datetime.timezone.utc), private=False, gated=False, disabled=False, downloads=0, downloads_all_time=None, likes=152, paperswithcode_id=None, tags=['license:cc-by-nc-sa-4.0', 'size_categories:100K<n<1M', 'format:parquet', 'modality:text', 'library:datasets', 'library:dask', 'library:mlcroissant', 'library:polars', 'region:us'], trending_score=152, card_data=None, siblings=None), DatasetInfo(id='nvidia/HelpSteer2', author='nvidia', sha='c459751b0b10466341949a26998f4537c9abc755', created_at=datetime.datetime(2024, 6, 2, 6, 59, 33, tzinfo=datetime.timezone.utc), last_modified=datetime.datetime(2024, 10, 15, 16, 7, 56, tzinfo=datetime.timezone.utc), private=False, gated=False, disabled=False, downloads=44392, downloads_all_time=None, likes=333, paperswithcode_id=None, tags=['language:en', 'license:cc-by-4.0', 'size_categories:10K<n<100K', 'format:json', 'modality:tabular', 'modality:text', 'library:datasets', 'library:pandas', 'library:mlcroissant', 'library:polars', 'arxiv:2410.01257', 'arxiv:2406.08673', 'region:us', 'human-feedback'], trending_score=98, card_data=None, siblings=None), DatasetInfo(id='fka/awesome-chatgpt-prompts', author='fka', sha='459a66186f8f83020117b8acc5ff5af69fc95b45', created_at=datetime.datetime(2022, 12, 13, 23, 47, 45, tzinfo=datetime.timezone.utc), last_modified=datetime.datetime(2024, 9, 3, 21, 28, 41, tzinfo=datetime.timezone.utc), private=False, gated=False, disabled=False, downloads=8434, downloads_all_time=None, likes=5939, paperswithcode_id=None, tags=['task_categories:question-answering', 'license:cc0-1.0', 'size_categories:n<1K', 'format:csv', 'modality:text', 'library:datasets', 'library:pandas', 'library:mlcroissant', 'library:polars', 'region:us', 'ChatGPT'], trending_score=65, card_data=None, siblings=None), DatasetInfo(id='LLM360/TxT360', author='LLM360', sha='724939bf37fdb8e0851215cf5b87bea7235b4758', created_at=datetime.datetime(2024, 10, 3, 16, 4, 34, tzinfo=datetime.timezone.utc), last_modified=datetime.datetime(2024, 10, 18, 7, 59, 36, tzinfo=datetime.timezone.utc), private=False, gated=False, disabled=False, downloads=6862, downloads_all_time=None, likes=189, paperswithcode_id=None, tags=['license:odc-by', 'region:us'], trending_score=50, card_data=None, siblings=None), DatasetInfo(id='KingNish/reasoning-base-20k', author='KingNish', sha='ae93576e3b315cf876e7429b7fa1fd041df72d29', created_at=datetime.datetime(2024, 10, 2, 15, 9, 22, tzinfo=datetime.timezone.utc), last_modified=datetime.datetime(2024, 10, 5, 14, 19, 30, tzinfo=datetime.timezone.utc), private=False, gated=False, disabled=False, downloads=1810, downloads_all_time=None, likes=157, paperswithcode_id=None, tags=['task_categories:text-generation', 'language:en', 'license:apache-2.0', 'size_categories:10K<n<100K', 'format:json', 'modality:text', 'library:datasets', 'library:pandas', 'library:mlcroissant', 'library:polars', 'region:us', 'reasoning', 'synthetic'], trending_score=43, card_data=None, siblings=None), DatasetInfo(id='Zyphra/Zyda-2', author='Zyphra', sha='d3429a1d6532e98a739a8c6157894d8241d807e6', created_at=datetime.datetime(2024, 9, 13, 21, 45, 20, tzinfo=datetime.timezone.utc), last_modified=datetime.datetime(2024, 10, 15, 21, 55, 42, tzinfo=datetime.timezone.utc), private=False, gated=False, disabled=False, downloads=502, downloads_all_time=None, likes=38, paperswithcode_id=None, tags=['task_categories:text-generation', 'language:en', 'license:odc-by', 'size_categories:1B<n<10B', 'modality:tabular', 'modality:text', 'modality:timeseries', 'region:us'], trending_score=38, card_data=None, siblings=None), DatasetInfo(id='mlabonne/open-perfectblend', author='mlabonne', sha='5aa6d8ba9d7f11bed65e3ac4a1455ec1d855ea8f', created_at=datetime.datetime(2024, 10, 13, 16, 4, 55, tzinfo=datetime.timezone.utc), last_modified=datetime.datetime(2024, 10, 18, 14, 57, 53, tzinfo=datetime.timezone.utc), private=False, gated=False, disabled=False, downloads=10, downloads_all_time=None, likes=30, paperswithcode_id=None, tags=['license:apache-2.0', 'size_categories:1M<n<10M', 'format:parquet', 'modality:text', 'library:datasets', 'library:dask', 'library:mlcroissant', 'library:polars', 'arxiv:2409.20370', 'region:us'], trending_score=25, card_data=None, siblings=None), DatasetInfo(id='nvidia/OpenMathInstruct-2', author='nvidia', sha='c3d3d1047d2a73664a3418e971cbc77c28d1edf9', created_at=datetime.datetime(2024, 9, 28, 16, 37, 52, tzinfo=datetime.timezone.utc), last_modified=datetime.datetime(2024, 10, 13, 17, 46, 4, tzinfo=datetime.timezone.utc), private=False, gated=False, disabled=False, downloads=1201, downloads_all_time=None, likes=85, paperswithcode_id=None, tags=['task_categories:question-answering', 'task_categories:text-generation', 'language:en', 'license:cc-by-4.0', 'size_categories:10M<n<100M', 'format:parquet', 'modality:text', 'library:datasets', 'library:dask', 'library:mlcroissant', 'library:polars', 'arxiv:2410.01560', 'region:us', 'math', 'nvidia'], trending_score=22, card_data=None, siblings=None), DatasetInfo(id='Marqo/marqo-GS-10M', author='Marqo', sha='cf665f0a2fb39830a4ae6011c54beb7bbc7a39a5', created_at=datetime.datetime(2024, 10, 15, 1, 27, 45, tzinfo=datetime.timezone.utc), last_modified=datetime.datetime(2024, 10, 16, 12, 50, 11, tzinfo=datetime.timezone.utc), private=False, gated=False, disabled=False, downloads=17, downloads_all_time=None, likes=22, paperswithcode_id=None, tags=['language:en', 'license:apache-2.0', 'size_categories:1M<n<10M', 'format:parquet', 'modality:image', 'modality:text', 'library:datasets', 'library:dask', 'library:mlcroissant', 'library:polars', 'arxiv:2404.08535', 'region:us', 'multimodal', 'GCL'], trending_score=22, card_data=None, siblings=None), DatasetInfo(id='upstage/dp-bench', author='upstage', sha='964dabef1c24c670bc33a6863ed8d13d5650ba92', created_at=datetime.datetime(2024, 10, 8, 7, 36, tzinfo=datetime.timezone.utc), last_modified=datetime.datetime(2024, 10, 17, 2, 25, 32, tzinfo=datetime.timezone.utc), private=False, gated=False, disabled=False, downloads=3, downloads_all_time=None, likes=17, paperswithcode_id=None, tags=['license:mit', 'arxiv:1911.10683', 'region:us', 'nlp', 'Image-to-Text'], trending_score=16, card_data=None, siblings=None)]\n"
     ]
    }
   ],
   "source": [
    "\n",
    "import huggingface_hub\n",
    "\n",
    "all_datasets = list(huggingface_hub.list_datasets())\n",
    "print(f\"There are {len(all_datasets)} datasets currently available on the Hub\")\n",
    "print(f\"The first 10 are:{all_datasets[:10]}\")"
   ]
  },
  {
   "cell_type": "code",
   "execution_count": 2,
   "metadata": {},
   "outputs": [
    {
     "name": "stderr",
     "output_type": "stream",
     "text": [
      "Generating train split: 100%|██████████| 16000/16000 [00:00<00:00, 150540.88 examples/s]\n",
      "Generating validation split: 100%|██████████| 2000/2000 [00:00<00:00, 569800.84 examples/s]\n",
      "Generating test split: 100%|██████████| 2000/2000 [00:00<00:00, 546809.73 examples/s]\n"
     ]
    },
    {
     "data": {
      "text/plain": [
       "DatasetDict({\n",
       "    train: Dataset({\n",
       "        features: ['text', 'label'],\n",
       "        num_rows: 16000\n",
       "    })\n",
       "    validation: Dataset({\n",
       "        features: ['text', 'label'],\n",
       "        num_rows: 2000\n",
       "    })\n",
       "    test: Dataset({\n",
       "        features: ['text', 'label'],\n",
       "        num_rows: 2000\n",
       "    })\n",
       "})"
      ]
     },
     "execution_count": 2,
     "metadata": {},
     "output_type": "execute_result"
    }
   ],
   "source": [
    "from datasets import load_dataset\n",
    "emotions = load_dataset(\"emotion\")\n",
    "emotions"
   ]
  },
  {
   "cell_type": "code",
   "execution_count": 3,
   "metadata": {},
   "outputs": [
    {
     "data": {
      "text/plain": [
       "Dataset({\n",
       "    features: ['text', 'label'],\n",
       "    num_rows: 16000\n",
       "})"
      ]
     },
     "execution_count": 3,
     "metadata": {},
     "output_type": "execute_result"
    }
   ],
   "source": [
    "train_ds = emotions[\"train\"]\n",
    "train_ds"
   ]
  },
  {
   "cell_type": "code",
   "execution_count": 4,
   "metadata": {},
   "outputs": [
    {
     "data": {
      "text/plain": [
       "16000"
      ]
     },
     "execution_count": 4,
     "metadata": {},
     "output_type": "execute_result"
    }
   ],
   "source": [
    "len(train_ds)"
   ]
  },
  {
   "cell_type": "code",
   "execution_count": 5,
   "metadata": {},
   "outputs": [
    {
     "data": {
      "text/plain": [
       "{'text': 'i didnt feel humiliated', 'label': 0}"
      ]
     },
     "execution_count": 5,
     "metadata": {},
     "output_type": "execute_result"
    }
   ],
   "source": [
    "train_ds[0]"
   ]
  },
  {
   "cell_type": "code",
   "execution_count": 6,
   "metadata": {},
   "outputs": [
    {
     "data": {
      "text/plain": [
       "['text', 'label']"
      ]
     },
     "execution_count": 6,
     "metadata": {},
     "output_type": "execute_result"
    }
   ],
   "source": [
    "train_ds.column_names"
   ]
  },
  {
   "cell_type": "code",
   "execution_count": 7,
   "metadata": {},
   "outputs": [
    {
     "name": "stdout",
     "output_type": "stream",
     "text": [
      "{'text': Value(dtype='string', id=None), 'label': ClassLabel(names=['sadness', 'joy', 'love', 'anger', 'fear', 'surprise'], id=None)}\n"
     ]
    }
   ],
   "source": [
    "print(train_ds.features)"
   ]
  },
  {
   "cell_type": "code",
   "execution_count": 8,
   "metadata": {},
   "outputs": [
    {
     "name": "stdout",
     "output_type": "stream",
     "text": [
      "{'text': ['i didnt feel humiliated', 'i can go from feeling so hopeless to so damned hopeful just from being around someone who cares and is awake', 'im grabbing a minute to post i feel greedy wrong', 'i am ever feeling nostalgic about the fireplace i will know that it is still on the property', 'i am feeling grouchy'], 'label': [0, 0, 3, 2, 3]}\n"
     ]
    }
   ],
   "source": [
    "print(train_ds[:5])"
   ]
  },
  {
   "cell_type": "code",
   "execution_count": 9,
   "metadata": {},
   "outputs": [
    {
     "name": "stdout",
     "output_type": "stream",
     "text": [
      "['i didnt feel humiliated', 'i can go from feeling so hopeless to so damned hopeful just from being around someone who cares and is awake', 'im grabbing a minute to post i feel greedy wrong', 'i am ever feeling nostalgic about the fireplace i will know that it is still on the property', 'i am feeling grouchy']\n"
     ]
    }
   ],
   "source": [
    "print(train_ds['text'][:5])"
   ]
  },
  {
   "cell_type": "code",
   "execution_count": 10,
   "metadata": {},
   "outputs": [
    {
     "name": "stdout",
     "output_type": "stream",
     "text": [
      "--2024-10-22 11:42:33--  https://www.dropbox.com/s/1pzkadrvffbqw6o/train.txt\n",
      "正在查找主機 www.dropbox.com (www.dropbox.com)... 162.125.80.18, 2620:100:6030:18::a27d:5012\n",
      "正在連接 www.dropbox.com (www.dropbox.com)|162.125.80.18|:443... 連上了。\n",
      "已送出 HTTP 要求，正在等候回應... 302 Found\n",
      "位置: /s/raw/1pzkadrvffbqw6o/train.txt [跟隨至新的 URL]\n",
      "--2024-10-22 11:42:34--  https://www.dropbox.com/s/raw/1pzkadrvffbqw6o/train.txt\n",
      "繼續使用和 www.dropbox.com:443 的連線。\n",
      "已送出 HTTP 要求，正在等候回應... 404 Not Found\n",
      "2024-10-22 11:42:34 錯誤 404: Not Found。\n",
      "\n"
     ]
    }
   ],
   "source": [
    "dataset_url = \"https://www.dropbox.com/s/1pzkadrvffbqw6o/train.txt\"\n",
    "!wget {dataset_url}"
   ]
  }
 ],
 "metadata": {
  "kernelspec": {
   "display_name": "huggingFace",
   "language": "python",
   "name": "python3"
  },
  "language_info": {
   "codemirror_mode": {
    "name": "ipython",
    "version": 3
   },
   "file_extension": ".py",
   "mimetype": "text/x-python",
   "name": "python",
   "nbconvert_exporter": "python",
   "pygments_lexer": "ipython3",
   "version": "3.9.20"
  }
 },
 "nbformat": 4,
 "nbformat_minor": 2
}
