{
  "cells": [
    {
      "cell_type": "markdown",
      "metadata": {
        "id": "view-in-github",
        "colab_type": "text"
      },
      "source": [
        "<a href=\"https://colab.research.google.com/github/roberthsu2003/Transformer/blob/main/unsloth/demo2.ipynb\" target=\"_parent\"><img src=\"https://colab.research.google.com/assets/colab-badge.svg\" alt=\"Open In Colab\"/></a>"
      ]
    },
    {
      "cell_type": "code",
      "source": [
        "%%capture\n",
        "%pip install -U bitsandbytes"
      ],
      "metadata": {
        "id": "-TwNk1qBgIB-"
      },
      "id": "-TwNk1qBgIB-",
      "execution_count": 1,
      "outputs": []
    },
    {
      "cell_type": "code",
      "execution_count": 4,
      "id": "a2cd5303",
      "metadata": {
        "id": "a2cd5303",
        "outputId": "505ff23e-b92c-40d0-c8d5-47e785b36558",
        "colab": {
          "base_uri": "https://localhost:8080/"
        }
      },
      "outputs": [
        {
          "output_type": "stream",
          "name": "stderr",
          "text": [
            "`low_cpu_mem_usage` was None, now default to True since model is quantized.\n",
            "Device set to use cuda:0\n"
          ]
        },
        {
          "output_type": "stream",
          "name": "stdout",
          "text": [
            "光的三原色是紅、藍和綠。\n"
          ]
        }
      ],
      "source": [
        "from transformers import pipeline\n",
        "\n",
        "question = \"請問光的3原色?\"\n",
        "generator = pipeline(\"text-generation\", model=\"roberthsu2003/llama3.2_3B_Instruct\")\n",
        "output = generator([{\"role\": \"user\", \"content\": question}], max_new_tokens=128, return_full_text=False)[0]\n",
        "print(output[\"generated_text\"])\n"
      ]
    },
    {
      "cell_type": "code",
      "source": [
        "output = generator([{\"role\": \"user\", \"content\": \"請介紹一下台灣這個國家\"}], max_new_tokens=128, return_full_text=False)[0]\n",
        "print(output[\"generated_text\"])"
      ],
      "metadata": {
        "id": "wfOrY2GbhWxd",
        "outputId": "a2861fe0-b232-4ccc-a79d-5cca6e414761",
        "colab": {
          "base_uri": "https://localhost:8080/"
        }
      },
      "id": "wfOrY2GbhWxd",
      "execution_count": 6,
      "outputs": [
        {
          "output_type": "stream",
          "name": "stdout",
          "text": [
            "台灣是一個小而獨特的島國，位於亞洲東部。它擁有豐富的文化和歷史，從古代的漢族和明治時期的日本殖民到現代的民主社會。台灣擁有豐富的自然資源，包括美麗的海灘、山丘和森林。它的城市充滿活力，擁有豐富的餐廳、商店和娛樂設施。\n"
          ]
        }
      ]
    }
  ],
  "metadata": {
    "kernelspec": {
      "display_name": "Python 3",
      "name": "python3"
    },
    "language_info": {
      "codemirror_mode": {
        "name": "ipython",
        "version": 3
      },
      "file_extension": ".py",
      "mimetype": "text/x-python",
      "name": "python",
      "nbconvert_exporter": "python",
      "pygments_lexer": "ipython3",
      "version": "3.12.8"
    },
    "colab": {
      "provenance": [],
      "gpuType": "T4",
      "include_colab_link": true
    },
    "accelerator": "GPU"
  },
  "nbformat": 4,
  "nbformat_minor": 5
}