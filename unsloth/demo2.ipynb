{
  "cells": [
    {
      "cell_type": "markdown",
      "metadata": {
        "id": "view-in-github",
        "colab_type": "text"
      },
      "source": [
        "<a href=\"https://colab.research.google.com/github/roberthsu2003/Transformer/blob/main/unsloth/demo2.ipynb\" target=\"_parent\"><img src=\"https://colab.research.google.com/assets/colab-badge.svg\" alt=\"Open In Colab\"/></a>"
      ]
    },
    {
      "cell_type": "markdown",
      "id": "cec09008",
      "metadata": {
        "id": "cec09008"
      },
      "source": [
        "### 注意,沒辦法在mac silicon上執行\n",
        "### 注意,請使用cuda GPU 執行"
      ]
    },
    {
      "cell_type": "code",
      "execution_count": 1,
      "id": "a2cd5303",
      "metadata": {
        "colab": {
          "base_uri": "https://localhost:8080/"
        },
        "id": "a2cd5303",
        "outputId": "05fbca62-4368-43e3-fdbc-27318b8734d4"
      },
      "outputs": [
        {
          "output_type": "stream",
          "name": "stderr",
          "text": [
            "/usr/local/lib/python3.11/dist-packages/huggingface_hub/utils/_auth.py:94: UserWarning: \n",
            "The secret `HF_TOKEN` does not exist in your Colab secrets.\n",
            "To authenticate with the Hugging Face Hub, create a token in your settings tab (https://huggingface.co/settings/tokens), set it as secret in your Google Colab and restart your session.\n",
            "You will be able to reuse this secret in all of your notebooks.\n",
            "Please note that authentication is recommended but still optional to access public models or datasets.\n",
            "  warnings.warn(\n",
            "Device set to use cuda:0\n"
          ]
        },
        {
          "output_type": "stream",
          "name": "stdout",
          "text": [
            "光的三原色是紅、藍和綠色。\n"
          ]
        }
      ],
      "source": [
        "from transformers import pipeline\n",
        "\n",
        "question = \"請問光的3原色?\"\n",
        "generator = pipeline(\"text-generation\", model=\"roberthsu2003/llama3.2_3B_Instruct\",device_map=\"auto\", trust_remote_code=True)\n",
        "output = generator([{\"role\": \"user\", \"content\": question}], max_new_tokens=128, return_full_text=False)[0]\n",
        "print(output[\"generated_text\"])\n"
      ]
    },
    {
      "cell_type": "code",
      "execution_count": 2,
      "id": "wfOrY2GbhWxd",
      "metadata": {
        "colab": {
          "base_uri": "https://localhost:8080/"
        },
        "id": "wfOrY2GbhWxd",
        "outputId": "c1cc9d0e-6937-43f9-bade-df77849d4d68"
      },
      "outputs": [
        {
          "output_type": "stream",
          "name": "stdout",
          "text": [
            "台灣是位於東亞的島國，擁有人口超過3.5億。它是一個繁榮的經濟體系，擁有世界上最好的科技、教育和醫療系統。台灣是世界上最多種語言的國家，主要語言包括繁體中文、台語、 Hoklo、 Hakka 和 Min Nan。它是世界上最多種宗教的國家，主要宗教包括佛教、天主教、基督教、伊斯蘭教和無神論。\n"
          ]
        }
      ],
      "source": [
        "output = generator([{\"role\": \"user\", \"content\": \"請介紹一下台灣這個國家\"}], max_new_tokens=128, return_full_text=False)[0]\n",
        "print(output[\"generated_text\"])"
      ]
    }
  ],
  "metadata": {
    "accelerator": "GPU",
    "colab": {
      "gpuType": "T4",
      "provenance": [],
      "include_colab_link": true
    },
    "kernelspec": {
      "display_name": "Python 3",
      "name": "python3"
    },
    "language_info": {
      "codemirror_mode": {
        "name": "ipython",
        "version": 3
      },
      "file_extension": ".py",
      "mimetype": "text/x-python",
      "name": "python",
      "nbconvert_exporter": "python",
      "pygments_lexer": "ipython3",
      "version": "3.12.8"
    }
  },
  "nbformat": 4,
  "nbformat_minor": 5
}