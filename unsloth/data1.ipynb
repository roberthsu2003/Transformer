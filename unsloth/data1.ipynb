{
 "cells": [
  {
   "cell_type": "code",
   "execution_count": 1,
   "id": "d9e1ad85",
   "metadata": {},
   "outputs": [
    {
     "data": {
      "text/plain": [
       "DatasetDict({\n",
       "    train: Dataset({\n",
       "        features: ['instruction', 'input', 'output'],\n",
       "        num_rows: 52002\n",
       "    })\n",
       "})"
      ]
     },
     "execution_count": 1,
     "metadata": {},
     "output_type": "execute_result"
    }
   ],
   "source": [
    "from datasets import load_dataset\n",
    "datasets = load_dataset('json', data_files=\"alpaca-tw.json\")\n",
    "datasets"
   ]
  },
  {
   "cell_type": "markdown",
   "id": "85b1699b",
   "metadata": {},
   "source": [
    "### 將資料更新為llama3.1要求的資料格式\n",
    "```\n",
    "{\"role\": \"system\", \"content\": \"You are an assistant\"}\n",
    "{\"role\": \"user\", \"content\": \"What is 2+2?\"}\n",
    "{\"role\": \"assistant\", \"content\": \"It's 4.\"}\n",
    "```"
   ]
  },
  {
   "cell_type": "code",
   "execution_count": 7,
   "id": "7fc5f088",
   "metadata": {},
   "outputs": [
    {
     "name": "stdout",
     "output_type": "stream",
     "text": [
      "[{'role': 'system', 'content': '給出三個保持健康的提示。'}, {'role': 'user', 'content': ''}, {'role': 'assistant', 'content': '1. 飲食均衡，確保攝取足夠的水果和蔬菜。\\n2. 定期運動，保持身體活躍和強壯。\\n3. 睡眠充足，保持一致的睡眠時間表。'}]\n",
      "Dataset({\n",
      "    features: ['conversations'],\n",
      "    num_rows: 52002\n",
      "})\n",
      "\n",
      "Sample conversation: [{'content': '給出三個保持健康的提示。', 'role': 'system'}, {'content': '', 'role': 'user'}, {'content': '1. 飲食均衡，確保攝取足夠的水果和蔬菜。\\n2. 定期運動，保持身體活躍和強壯。\\n3. 睡眠充足，保持一致的睡眠時間表。', 'role': 'assistant'}]\n",
      "\n",
      "Sample conversation: [{'content': '給出三個保持健康的提示。', 'role': 'system'}, {'content': '', 'role': 'user'}, {'content': '1. 飲食均衡，確保攝取足夠的水果和蔬菜。\\n2. 定期運動，保持身體活躍和強壯。\\n3. 睡眠充足，保持一致的睡眠時間表。', 'role': 'assistant'}]\n"
     ]
    }
   ],
   "source": [
    "dataset = datasets['train']\n",
    "items = []\n",
    "for item_dict in dataset:\n",
    "    inner_item = []\n",
    "    inner_item.append({'role':'system','content':item_dict['instruction']})\n",
    "    inner_item.append({'role':'user','content':item_dict['input']})\n",
    "    inner_item.append({'role':'assistant','content':item_dict['output']})\n",
    "    items.append(inner_item)\n",
    "print(items[0])\n"
   ]
  },
  {
   "cell_type": "code",
   "execution_count": 8,
   "id": "336146ac",
   "metadata": {},
   "outputs": [
    {
     "name": "stdout",
     "output_type": "stream",
     "text": [
      "Dataset({\n",
      "    features: ['conversations'],\n",
      "    num_rows: 52002\n",
      "})\n",
      "\n",
      "Sample conversation: [{'content': '給出三個保持健康的提示。', 'role': 'system'}, {'content': '', 'role': 'user'}, {'content': '1. 飲食均衡，確保攝取足夠的水果和蔬菜。\\n2. 定期運動，保持身體活躍和強壯。\\n3. 睡眠充足，保持一致的睡眠時間表。', 'role': 'assistant'}]\n"
     ]
    }
   ],
   "source": [
    "from datasets import Dataset\n",
    "\n",
    "# 建立新的dataset with conversations field\n",
    "new_dataset = Dataset.from_dict({\n",
    "    'conversations': items\n",
    "})\n",
    "\n",
    "print(new_dataset)\n",
    "print(\"\\nSample conversation:\", new_dataset['conversations'][0])\n"
   ]
  },
  {
   "cell_type": "code",
   "execution_count": 9,
   "id": "a92f20f6",
   "metadata": {},
   "outputs": [
    {
     "name": "stdout",
     "output_type": "stream",
     "text": [
      "DatasetDict({\n",
      "    train: Dataset({\n",
      "        features: ['conversations'],\n",
      "        num_rows: 52002\n",
      "    })\n",
      "})\n",
      "\n",
      "Features: {'conversations': [{'content': Value(dtype='string', id=None), 'role': Value(dtype='string', id=None)}]}\n"
     ]
    }
   ],
   "source": [
    "from datasets import DatasetDict\n",
    "\n",
    "#轉換為DatasetDict\n",
    "dataset_dict = DatasetDict({\n",
    "    'train':new_dataset\n",
    "})\n",
    "print(dataset_dict)\n",
    "print(\"\\nFeatures:\", dataset_dict['train'].features)"
   ]
  },
  {
   "cell_type": "markdown",
   "id": "a1f9f4ab",
   "metadata": {},
   "source": [
    "### 上傳至hugging_face"
   ]
  },
  {
   "cell_type": "code",
   "execution_count": 11,
   "id": "2d3adde5",
   "metadata": {},
   "outputs": [
    {
     "data": {
      "application/vnd.jupyter.widget-view+json": {
       "model_id": "4ac022d0237e4854999a8f34f8831576",
       "version_major": 2,
       "version_minor": 0
      },
      "text/plain": [
       "VBox(children=(HTML(value='<center> <img\\nsrc=https://huggingface.co/front/assets/huggingface_logo-noborder.sv…"
      ]
     },
     "metadata": {},
     "output_type": "display_data"
    },
    {
     "data": {
      "application/vnd.jupyter.widget-view+json": {
       "model_id": "245e14fad18f446fbb0f41b6d68cefc7",
       "version_major": 2,
       "version_minor": 0
      },
      "text/plain": [
       "Uploading the dataset shards:   0%|          | 0/1 [00:00<?, ?it/s]"
      ]
     },
     "metadata": {},
     "output_type": "display_data"
    },
    {
     "data": {
      "application/vnd.jupyter.widget-view+json": {
       "model_id": "11289ebc8fcb497886664c24f11cbfbd",
       "version_major": 2,
       "version_minor": 0
      },
      "text/plain": [
       "Creating parquet from Arrow format:   0%|          | 0/53 [00:00<?, ?ba/s]"
      ]
     },
     "metadata": {},
     "output_type": "display_data"
    },
    {
     "data": {
      "text/plain": [
       "CommitInfo(commit_url='https://huggingface.co/datasets/roberthsu2003/for_llama3_Instruct/commit/defb9ad5c3a2b18d1042a57993b1a0be15e8f8ab', commit_message='Upload dataset', commit_description='', oid='defb9ad5c3a2b18d1042a57993b1a0be15e8f8ab', pr_url=None, repo_url=RepoUrl('https://huggingface.co/datasets/roberthsu2003/for_llama3_Instruct', endpoint='https://huggingface.co', repo_type='dataset', repo_id='roberthsu2003/for_llama3_Instruct'), pr_revision=None, pr_num=None)"
      ]
     },
     "execution_count": 11,
     "metadata": {},
     "output_type": "execute_result"
    }
   ],
   "source": [
    "from huggingface_hub import HfApi, notebook_login\n",
    "api = HfApi()\n",
    "notebook_login() #this is likely needed for authentication\n",
    "dataset_dict.push_to_hub('roberthsu2003/for_llama3_Instruct',private=False)"
   ]
  },
  {
   "cell_type": "markdown",
   "id": "512a5a4b",
   "metadata": {},
   "source": [
    "## 手動增加一筆資料"
   ]
  },
  {
   "cell_type": "code",
   "execution_count": null,
   "id": "5b858c5f",
   "metadata": {},
   "outputs": [],
   "source": [
    "# 建立新的對話資料\n",
    "new_conversation = [\n",
    "    {'role': 'system', 'content': '這是新增的系統指令'},\n",
    "    {'role': 'user', 'content': '這是使用者的輸入'},\n",
    "    {'role': 'assistant', 'content': '這是助理的回答'}\n",
    "]\n",
    "\n",
    "# 將新的對話資料加入現有的 dataset\n",
    "dataset_dict['train'] = dataset_dict['train'].add_item({\n",
    "    'conversations': new_conversation\n",
    "})\n",
    "\n",
    "# 驗證新增的資料\n",
    "print(\"資料集大小:\", len(dataset_dict['train']))\n",
    "print(\"\\n最後一筆資料:\", dataset_dict['train'][-1])"
   ]
  }
 ],
 "metadata": {
  "kernelspec": {
   "display_name": "base",
   "language": "python",
   "name": "python3"
  },
  "language_info": {
   "codemirror_mode": {
    "name": "ipython",
    "version": 3
   },
   "file_extension": ".py",
   "mimetype": "text/x-python",
   "name": "python",
   "nbconvert_exporter": "python",
   "pygments_lexer": "ipython3",
   "version": "3.12.8"
  }
 },
 "nbformat": 4,
 "nbformat_minor": 5
}
