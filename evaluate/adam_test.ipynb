{
 "cells": [
  {
   "cell_type": "code",
   "execution_count": 5,
   "metadata": {},
   "outputs": [
    {
     "name": "stdout",
     "output_type": "stream",
     "text": [
      "tensor([[-6.7892e-01, -9.8485e-01, -2.3020e-01, -6.7408e-02,  1.7948e+00,\n",
      "         -5.3988e-01,  1.7690e-02,  6.3693e-01,  1.1623e-01, -1.4114e+00],\n",
      "        [ 5.7931e-01, -1.0496e+00,  1.8873e-01,  1.0558e-01,  1.4664e-03,\n",
      "         -8.9733e-01,  1.1191e+00,  1.8999e-01, -3.3236e-01, -7.4194e-01],\n",
      "        [ 9.1812e-01,  2.4281e-01, -1.4563e+00,  1.5692e+00,  5.8479e-01,\n",
      "         -3.0964e-01, -1.9675e-01,  1.9234e+00,  7.8790e-01,  1.1319e-01],\n",
      "        [-2.2383e-01, -1.0715e+00, -9.0224e-01,  1.8892e+00,  2.2265e+00,\n",
      "          8.3701e-01,  9.3181e-02, -4.1787e-01,  5.6022e-01, -9.3123e-02],\n",
      "        [-8.6859e-01, -2.2445e-01, -1.1526e+00, -6.5483e-01, -3.0120e-01,\n",
      "         -7.4930e-02, -1.1142e+00,  6.1249e-01,  7.7644e-01,  9.2145e-01]])\n",
      "tensor([[-1.7419],\n",
      "        [ 0.1886],\n",
      "        [-1.4598],\n",
      "        [ 0.0908],\n",
      "        [ 1.1086]])\n"
     ]
    }
   ],
   "source": [
    "import torch\n",
    "from torch.optim import Adam\n",
    "\n",
    "#Define a simple model\n",
    "model = torch.nn.Linear(10, 1)\n",
    "\n",
    "optimizer = Adam(model.parameters(), lr=0.001, betas=(0.9, 0.999), eps=1e-08)\n",
    "\n",
    "#train set\n",
    "loss_fn = torch.nn.MSELoss()\n",
    "x = torch.randn(5, 10)\n",
    "y = torch.randn(5, 1)\n",
    "print(x)\n",
    "print(y)\n",
    "\n",
    "y_pred = model(x)\n",
    "loss = loss_fn(y_pred, y)\n",
    "\n",
    "#Backward pass\n",
    "optimizer.zero_grad()\n",
    "loss.backward()\n",
    "optimizer.step()"
   ]
  }
 ],
 "metadata": {
  "kernelspec": {
   "display_name": "base",
   "language": "python",
   "name": "python3"
  },
  "language_info": {
   "codemirror_mode": {
    "name": "ipython",
    "version": 3
   },
   "file_extension": ".py",
   "mimetype": "text/x-python",
   "name": "python",
   "nbconvert_exporter": "python",
   "pygments_lexer": "ipython3",
   "version": "3.12.8"
  }
 },
 "nbformat": 4,
 "nbformat_minor": 2
}
