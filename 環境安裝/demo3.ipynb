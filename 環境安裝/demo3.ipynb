{
 "cells": [
  {
   "cell_type": "code",
   "execution_count": 12,
   "metadata": {},
   "outputs": [
    {
     "name": "stderr",
     "output_type": "stream",
     "text": [
      "Device set to use cpu\n",
      "/opt/conda/lib/python3.12/site-packages/transformers/pipelines/question_answering.py:391: FutureWarning: Passing a list of SQuAD examples to the pipeline is deprecated and will be removed in v5. Inputs should be passed using the `question` and `context` keyword arguments instead.\n",
      "  warnings.warn(\n"
     ]
    },
    {
     "name": "stdout",
     "output_type": "stream",
     "text": [
      "{'score': 0.8562823534011841, 'start': 3, 'end': 15, 'answer': '憂鬱症、暴食症以及強迫症'}\n"
     ]
    }
   ],
   "source": [
    "import gradio as gr\n",
    "from transformers import AutoModelForQuestionAnswering, AutoTokenizer, pipeline\n",
    "model = AutoModelForQuestionAnswering.from_pretrained('uer/roberta-base-chinese-extractive-qa')\n",
    "tokenizer = AutoTokenizer.from_pretrained('uer/roberta-base-chinese-extractive-qa')\n",
    "qa = pipeline('question-answering',model=model,tokenizer=tokenizer)\n",
    "content='''\n",
    "治療憂鬱症、暴食症以及強迫症的藥物「百憂解」，11月起全面退出台灣市場，「台灣禮來」今天發表3點聲明，包含基於公司策略調整，決定於「2024年底全球停止生產百憂解」，已請醫療專業人員暫停處方百憂解給新患者，也已遵循相關規定向主管機關報備。\n",
    "百憂解是精神科老藥，因為不堪健保砍價，於今年8月停止供貨，日前遭披露，因市場策略調整，台灣禮來公司已申請撤銷百憂解的藥物許可證，於8月底停止供貨，並經衛福部9月13日公告生效，依「全民健康保險藥物給付項目及支付標準」，許可證註銷後，最快可於「次次月」1日取消給付，因此預計今年11月1日停止申報健保，屆時將無法申請健保給付，醫院必須尋找替代廠商，以利患者後續治療。\n",
    "食藥署副署長王德原先前表示，百憂解20毫克的三同藥品還有5張藥品許可證，不會影響病人，且三同藥品為國產學名藥，為國內藥廠生產，可以依需求增加產量，藥品供應沒有問題；健保署醫審及藥材組參議戴雪詠日前指出，百憂解20毫克為健保收載超過30年的老藥，目前已有很好的、同品質的學名藥替代，百憂解更是在全球超過40年的老藥，現在已過專利期的老藥退出市場，由相同品質、藥價較低的學名藥接手，這是國際市場的常態。\n",
    "'''\n",
    "question=''\n",
    "QA_input = {'question': \"百憂解可以治療什麼病症?\",'context':content}\n",
    "print(qa(QA_input))\n",
    "#demo = gr.Interface.from_pipeline(qa)\n",
    "#demo.launch()"
   ]
  },
  {
   "cell_type": "code",
   "execution_count": 11,
   "metadata": {},
   "outputs": [
    {
     "name": "stderr",
     "output_type": "stream",
     "text": [
      "Device set to use cpu\n"
     ]
    },
    {
     "data": {
      "text/plain": [
       "{'score': 0.8959540724754333,\n",
       " 'start': 0,\n",
       " 'end': 119,\n",
       " 'answer': '治療憂鬱症、暴食症以及強迫症的藥物「百憂解」，11月起全面退出台灣市場，「台灣禮來」今天發表3點聲明，包含基於公司策略調整，決定於「2024年底全球停止生產百憂解」，已請醫療專業人員暫停處方百憂解給新患者，也已遵循相關規定向主管機關報備。'}"
      ]
     },
     "execution_count": 11,
     "metadata": {},
     "output_type": "execute_result"
    }
   ],
   "source": [
    "from transformers import pipeline\n",
    "\n",
    "qa_model = pipeline(\"question-answering\", \"timpal0l/mdeberta-v3-base-squad2\",device=0)\n",
    "question = \"百憂解可以治療什麼病症?`不要多餘的回答`\"\n",
    "context = '''治療憂鬱症、暴食症以及強迫症的藥物「百憂解」，11月起全面退出台灣市場，「台灣禮來」今天發表3點聲明，包含基於公司策略調整，決定於「2024年底全球停止生產百憂解」，已請醫療專業人員暫停處方百憂解給新患者，也已遵循相關規定向主管機關報備。\n",
    "百憂解是精神科老藥，因為不堪健保砍價，於今年8月停止供貨，日前遭披露，因市場策略調整，台灣禮來公司已申請撤銷百憂解的藥物許可證，於8月底停止供貨，並經衛福部9月13日公告生效，依「全民健康保險藥物給付項目及支付標準」，許可證註銷後，最快可於「次次月」1日取消給付，因此預計今年11月1日停止申報健保，屆時將無法申請健保給付，醫院必須尋找替代廠商，以利患者後續治療。\n",
    "食藥署副署長王德原先前表示，百憂解20毫克的三同藥品還有5張藥品許可證，不會影響病人，且三同藥品為國產學名藥，為國內藥廠生產，可以依需求增加產量，藥品供應沒有問題；健保署醫審及藥材組參議戴雪詠日前指出，百憂解20毫克為健保收載超過30年的老藥，目前已有很好的、同品質的學名藥替代，百憂解更是在全球超過40年的老藥，現在已過專利期的老藥退出市場，由相同品質、藥價較低的學名藥接手，這是國際市場的常態。\n",
    "'''\n",
    "qa_model(question = question, context = context)\n",
    "# {'score': 0.975547730922699, 'start': 28, 'end': 36, 'answer': ' Sweden.'}\n"
   ]
  }
 ],
 "metadata": {
  "kernelspec": {
   "display_name": "base",
   "language": "python",
   "name": "python3"
  },
  "language_info": {
   "codemirror_mode": {
    "name": "ipython",
    "version": 3
   },
   "file_extension": ".py",
   "mimetype": "text/x-python",
   "name": "python",
   "nbconvert_exporter": "python",
   "pygments_lexer": "ipython3",
   "version": "3.12.8"
  }
 },
 "nbformat": 4,
 "nbformat_minor": 2
}
